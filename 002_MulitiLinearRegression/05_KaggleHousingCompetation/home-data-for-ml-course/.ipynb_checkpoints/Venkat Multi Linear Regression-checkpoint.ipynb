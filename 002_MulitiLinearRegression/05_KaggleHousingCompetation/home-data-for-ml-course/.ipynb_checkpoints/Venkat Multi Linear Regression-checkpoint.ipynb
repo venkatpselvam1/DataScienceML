{
 "cells": [
  {
   "cell_type": "markdown",
   "id": "aba014c7-b687-4d80-9a4a-a195c571c321",
   "metadata": {},
   "source": [
    "## Reading the CSV file and see the data"
   ]
  },
  {
   "cell_type": "code",
   "execution_count": null,
   "id": "46e5aa3a-47d5-42a8-8546-089176218480",
   "metadata": {
    "tags": []
   },
   "outputs": [],
   "source": [
    "import pandas as pd\n",
    "import numpy as np\n",
    "import warnings\n",
    "warnings.filterwarnings('ignore')"
   ]
  },
  {
   "cell_type": "code",
   "execution_count": null,
   "id": "1dee4432-fe19-46cc-b64f-6f5ff504461b",
   "metadata": {
    "tags": []
   },
   "outputs": [],
   "source": [
    "df_test = pd.read_csv('test.csv')\n",
    "df_train = pd.read_csv('train.csv')"
   ]
  },
  {
   "cell_type": "code",
   "execution_count": null,
   "id": "f3b04042-b42b-48ab-be07-4113fe59f81f",
   "metadata": {
    "tags": []
   },
   "outputs": [],
   "source": [
    "df = pd.concat([df_train, df_test])"
   ]
  },
  {
   "cell_type": "code",
   "execution_count": null,
   "id": "1cec87d0-327a-4d26-a09f-ae75994229af",
   "metadata": {
    "tags": []
   },
   "outputs": [],
   "source": [
    "print(df.shape)\n",
    "df.head()"
   ]
  },
  {
   "cell_type": "code",
   "execution_count": null,
   "id": "dd733e9a-4e13-42ff-ad84-da9bd9561c18",
   "metadata": {
    "tags": []
   },
   "outputs": [],
   "source": [
    "df.describe()"
   ]
  },
  {
   "cell_type": "code",
   "execution_count": null,
   "id": "4b91b1a8-0221-4574-a59d-a14d1d59b324",
   "metadata": {
    "tags": []
   },
   "outputs": [],
   "source": [
    "df.info()"
   ]
  },
  {
   "cell_type": "markdown",
   "id": "f81da925-3ae2-44a7-9dab-9a8a3fc9b06d",
   "metadata": {
    "tags": []
   },
   "source": [
    "# Analyzing the data each column wise"
   ]
  },
  {
   "cell_type": "code",
   "execution_count": null,
   "id": "02498b2e-9aab-4b79-92a2-97b8282f57f1",
   "metadata": {
    "tags": []
   },
   "outputs": [],
   "source": [
    "import matplotlib.pyplot as plt\n",
    "import seaborn as sns"
   ]
  },
  {
   "cell_type": "code",
   "execution_count": null,
   "id": "4b55bc46-a813-4165-bb2a-fe609ed21fc2",
   "metadata": {},
   "outputs": [],
   "source": [
    "# This will throw the error we need clean the data to \n",
    "print(df.corr())"
   ]
  },
  {
   "cell_type": "code",
   "execution_count": null,
   "id": "a51e50da-947b-4cda-adba-3b99a8e9f3b8",
   "metadata": {
    "tags": []
   },
   "outputs": [],
   "source": [
    "cols = df.columns\n",
    "arr1=[]\n",
    "arr2=[]\n",
    "for col in cols:\n",
    "    diff_cnt = df[col].value_counts().size\n",
    "    if diff_cnt < 10:\n",
    "        arr1.append(col)\n",
    "    else:\n",
    "        arr2.append(col)\n",
    "print(arr1)\n",
    "print(arr2)"
   ]
  },
  {
   "cell_type": "code",
   "execution_count": null,
   "id": "5850adae-7cae-4302-8bcc-1ede7a75ad50",
   "metadata": {
    "tags": []
   },
   "outputs": [],
   "source": [
    "cat_cols = ['MSZoning', 'Street', 'Alley', 'LotShape', 'LandContour', 'Utilities', 'LotConfig', 'LandSlope', 'Condition1', 'Condition2',\n",
    "        'BldgType', 'HouseStyle', 'OverallCond', 'RoofStyle', 'RoofMatl', 'MasVnrType', 'ExterQual', 'ExterCond', 'Foundation',\n",
    "        'BsmtQual', 'BsmtCond', 'BsmtExposure', 'BsmtFinType1', 'BsmtFinType2', 'Heating', 'HeatingQC', 'CentralAir', 'Electrical',\n",
    "        'BsmtFullBath', 'BsmtHalfBath', 'FullBath', 'HalfBath', 'BedroomAbvGr', 'KitchenAbvGr', 'KitchenQual', 'Functional', 'Fireplaces',\n",
    "        'FireplaceQu', 'GarageType', 'GarageFinish', 'GarageCars', 'GarageQual', 'GarageCond', 'PavedDrive', 'PoolArea', 'PoolQC',\n",
    "        'Fence', 'MiscFeature', 'YrSold', 'SaleType', 'SaleCondition', 'Neighborhood',  'Exterior1st', 'Exterior2nd']\n",
    "num_cols = ['Id', 'MSSubClass', 'LotFrontage', 'LotArea', 'OverallQual', 'YearBuilt', 'YearRemodAdd',\n",
    "        'MasVnrArea', 'BsmtFinSF1', 'BsmtFinSF2', 'BsmtUnfSF', 'TotalBsmtSF', '1stFlrSF', '2ndFlrSF', 'LowQualFinSF',\n",
    "        'GrLivArea', 'TotRmsAbvGrd', 'GarageYrBlt', 'GarageArea', 'WoodDeckSF', 'OpenPorchSF', 'EnclosedPorch', '3SsnPorch', 'ScreenPorch',\n",
    "        'MiscVal', 'MoSold', 'SalePrice']\n",
    "excludes = ['Neighborhood',  'Exterior1st', 'Exterior2nd']\n",
    "debug = False\n",
    "if debug:\n",
    "    for col in cat_cols:\n",
    "        print(col)\n",
    "        #print(df[col].value_counts())\n",
    "        sns.distplot(df_train[col])\n",
    "        plt.show()"
   ]
  },
  {
   "cell_type": "code",
   "execution_count": null,
   "id": "87641371-71a5-47b4-9d07-dc902d739847",
   "metadata": {
    "tags": []
   },
   "outputs": [],
   "source": [
    "for col in cat_cols:\n",
    "    #print(col+\"->>>>>>>>\")\n",
    "    dic = df[col].value_counts().to_dict()\n",
    "    #print(dic)\n",
    "    ndic={}\n",
    "    #help(df[col].value_counts())\n",
    "    cnt = 1\n",
    "    for d_col in dic:\n",
    "        ndic[d_col] = cnt\n",
    "        cnt+=1\n",
    "    #print(ndic)\n",
    "    df[col] = df[col].map(ndic)\n",
    "    #sns.distplot(df_train[col])\n",
    "    #plt.show()"
   ]
  },
  {
   "cell_type": "code",
   "execution_count": null,
   "id": "d9b14e60-32be-4be4-845f-a2a92a5351b9",
   "metadata": {
    "tags": []
   },
   "outputs": [],
   "source": [
    "#print(df.shape)\n",
    "#print(df.describe())"
   ]
  },
  {
   "cell_type": "code",
   "execution_count": null,
   "id": "b645c97c-0dab-41ef-8259-381987d89116",
   "metadata": {
    "tags": []
   },
   "outputs": [],
   "source": [
    "num_cols = ['Id', 'MSSubClass', 'LotFrontage', 'LotArea', 'Neighborhood', 'Condition1', 'Condition2', 'HouseStyle', 'OverallQual', 'OverallCond',\n",
    "            'YearBuilt', 'YearRemodAdd', 'RoofStyle', 'RoofMatl', 'Exterior1st', 'Exterior2nd', 'MasVnrArea', 'Foundation', 'BsmtFinType1',\n",
    "            'BsmtFinSF1', 'BsmtFinType2', 'BsmtFinSF2', 'BsmtUnfSF', 'TotalBsmtSF', 'Heating', '1stFlrSF', '2ndFlrSF', 'LowQualFinSF',\n",
    "            'GrLivArea', 'BedroomAbvGr', 'TotRmsAbvGrd', 'GarageYrBlt', 'GarageArea', 'WoodDeckSF', 'OpenPorchSF',\n",
    "            'EnclosedPorch', '3SsnPorch', 'ScreenPorch', 'PoolArea', 'MiscVal', 'MoSold', 'SalePrice']\n",
    "to_covert= ['Neighborhood', 'Condition1', 'Condition2', 'HouseStyle', 'RoofStyle', 'RoofMatl', 'Exterior1st', 'Exterior2nd', 'Foundation',\n",
    "           'BsmtFinType1', 'BsmtFinType2', 'Heating',  'Functional', 'GarageType', 'SaleType',\n",
    "            'SaleCondition']\n",
    "cat_cols = ['MSZoning', 'Street', 'Alley', 'LotShape', 'LandContour', 'Utilities', 'LotConfig', 'LandSlope', 'BldgType', 'MasVnrType',\n",
    "            'ExterQual', 'ExterCond', 'BsmtQual', 'BsmtCond', 'BsmtExposure', 'HeatingQC', 'CentralAir', 'Electrical', 'BsmtFullBath',\n",
    "            'BsmtHalfBath', 'FullBath', 'HalfBath', 'KitchenAbvGr', 'KitchenQual', 'Fireplaces', 'FireplaceQu', 'GarageFinish', 'GarageCars',\n",
    "            'GarageQual', 'GarageCond', 'PavedDrive', 'PoolQC', 'Fence', 'MiscFeature', 'YrSold']\n",
    "explored_cols =  to_covert\n",
    "arr1=[]\n",
    "arr2=[]\n",
    "#print(df_train['GarageType'].value_counts())\n",
    "for col in df_train[to_covert]:#.drop(explored_cols, axis=1):\n",
    "    print(col)\n",
    "    print(df_train[col].value_counts())\n",
    "    #sns.distplot(df_train[col])\n",
    "    #plt.show()\n",
    "    #print(df_train[[col,'Id']].corr())"
   ]
  },
  {
   "cell_type": "code",
   "execution_count": null,
   "id": "f1c9ca3a-f4d4-4712-9171-716d6c0cd787",
   "metadata": {
    "tags": []
   },
   "outputs": [],
   "source": [
    "df_train.info()"
   ]
  },
  {
   "cell_type": "code",
   "execution_count": null,
   "id": "f5b4caf4-04c6-464c-84e8-de3492f8026b",
   "metadata": {},
   "outputs": [],
   "source": [
    "df.corr()"
   ]
  },
  {
   "cell_type": "markdown",
   "id": "1060f016-ba7b-42ce-aca6-503df72840d3",
   "metadata": {
    "tags": []
   },
   "source": [
    "# Data Visualizing"
   ]
  },
  {
   "cell_type": "code",
   "execution_count": null,
   "id": "f1e82dff-1864-4094-8639-ce1b5acf9947",
   "metadata": {
    "tags": []
   },
   "outputs": [],
   "source": [
    "import matplotlib.pyplot as plt\n",
    "import seaborn as sns"
   ]
  },
  {
   "cell_type": "code",
   "execution_count": null,
   "id": "d9cbb7d5-5418-4ed3-bed1-6e7908f62bb8",
   "metadata": {
    "tags": []
   },
   "outputs": [],
   "source": [
    "sns.heatmap(df.corr(), annot = True, cmap='YlGnBu')"
   ]
  },
  {
   "cell_type": "code",
   "execution_count": null,
   "id": "89782b97-53a3-462b-93e6-7360ad434e2c",
   "metadata": {
    "tags": []
   },
   "outputs": [],
   "source": [
    "#sns.pairplot(df)"
   ]
  },
  {
   "cell_type": "markdown",
   "id": "36feb45f-faea-403a-9106-ba6802c2d3fc",
   "metadata": {
    "tags": []
   },
   "source": [
    "# split train and test data set"
   ]
  },
  {
   "cell_type": "code",
   "execution_count": null,
   "id": "0703e0b2-268e-4a73-bcbf-c60befa73116",
   "metadata": {
    "tags": []
   },
   "outputs": [],
   "source": [
    "df.head()"
   ]
  },
  {
   "cell_type": "code",
   "execution_count": null,
   "id": "94b72f40-c7a8-45db-8e09-689209e277cb",
   "metadata": {
    "tags": []
   },
   "outputs": [],
   "source": [
    "import statsmodels\n",
    "import statsmodels.api as sm\n",
    "import sklearn\n",
    "from sklearn.model_selection import train_test_split"
   ]
  },
  {
   "cell_type": "code",
   "execution_count": null,
   "id": "bffceb79-4426-4c7e-b0c6-303d73373300",
   "metadata": {
    "tags": []
   },
   "outputs": [],
   "source": [
    "df_train, df_test = train_test_split(df, test_size=0.7, random_state=100)"
   ]
  },
  {
   "cell_type": "code",
   "execution_count": null,
   "id": "cc82e0e1-cfb6-493d-978b-8a02bfe3b30e",
   "metadata": {},
   "outputs": [],
   "source": []
  }
 ],
 "metadata": {
  "kernelspec": {
   "display_name": "Python 3 (ipykernel)",
   "language": "python",
   "name": "python3"
  },
  "language_info": {
   "codemirror_mode": {
    "name": "ipython",
    "version": 3
   },
   "file_extension": ".py",
   "mimetype": "text/x-python",
   "name": "python",
   "nbconvert_exporter": "python",
   "pygments_lexer": "ipython3",
   "version": "3.10.10"
  }
 },
 "nbformat": 4,
 "nbformat_minor": 5
}
