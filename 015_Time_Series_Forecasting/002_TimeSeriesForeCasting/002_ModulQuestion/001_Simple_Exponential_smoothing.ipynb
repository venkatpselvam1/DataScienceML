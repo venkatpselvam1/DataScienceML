{
 "cells": [
  {
   "cell_type": "code",
   "execution_count": 7,
   "id": "3faf36e4-4e76-46e1-baca-6fc8f65ecce6",
   "metadata": {},
   "outputs": [],
   "source": [
    "import pandas as pd\n",
    "import numpy as np\n",
    "import warnings\n",
    "warnings.filterwarnings('ignore')"
   ]
  },
  {
   "cell_type": "code",
   "execution_count": 9,
   "id": "280f9837-d7e5-4cb1-9f95-2966ea8a7cb4",
   "metadata": {},
   "outputs": [],
   "source": [
    "import matplotlib.pyplot as plt\n",
    "import seaborn as sns"
   ]
  },
  {
   "cell_type": "code",
   "execution_count": 38,
   "id": "fb65f920-1af0-4f7b-bc49-81c9aec984bc",
   "metadata": {},
   "outputs": [],
   "source": [
    "df = pd.read_csv(\"Daily+temperature+data.csv\")"
   ]
  },
  {
   "cell_type": "code",
   "execution_count": 39,
   "id": "8faebcf8-b04d-495e-b896-9892503bd572",
   "metadata": {},
   "outputs": [],
   "source": [
    "df[\"Date\"] = df[\"Date\"].apply(lambda x: x.replace(\"/\", \"-\"))"
   ]
  },
  {
   "cell_type": "code",
   "execution_count": 42,
   "id": "ffb57ee8-9c64-48de-9203-b56cfd4f1cd2",
   "metadata": {},
   "outputs": [],
   "source": [
    "df[\"Date\"] = pd.to_datetime(df[\"Date\"], format=\"%m-%d-%Y\")"
   ]
  },
  {
   "cell_type": "code",
   "execution_count": 45,
   "id": "7dfbe2c0-36be-4e88-9e5e-809c54986c38",
   "metadata": {},
   "outputs": [
    {
     "data": {
      "text/html": [
       "<div>\n",
       "<style scoped>\n",
       "    .dataframe tbody tr th:only-of-type {\n",
       "        vertical-align: middle;\n",
       "    }\n",
       "\n",
       "    .dataframe tbody tr th {\n",
       "        vertical-align: top;\n",
       "    }\n",
       "\n",
       "    .dataframe thead th {\n",
       "        text-align: right;\n",
       "    }\n",
       "</style>\n",
       "<table border=\"1\" class=\"dataframe\">\n",
       "  <thead>\n",
       "    <tr style=\"text-align: right;\">\n",
       "      <th></th>\n",
       "      <th>Date</th>\n",
       "      <th>Temperature(Min)</th>\n",
       "    </tr>\n",
       "  </thead>\n",
       "  <tbody>\n",
       "    <tr>\n",
       "      <th>count</th>\n",
       "      <td>730</td>\n",
       "      <td>730.000000</td>\n",
       "    </tr>\n",
       "    <tr>\n",
       "      <th>mean</th>\n",
       "      <td>2017-12-31 12:00:00</td>\n",
       "      <td>11.465753</td>\n",
       "    </tr>\n",
       "    <tr>\n",
       "      <th>min</th>\n",
       "      <td>2017-01-01 00:00:00</td>\n",
       "      <td>0.500000</td>\n",
       "    </tr>\n",
       "    <tr>\n",
       "      <th>25%</th>\n",
       "      <td>2017-07-02 06:00:00</td>\n",
       "      <td>8.300000</td>\n",
       "    </tr>\n",
       "    <tr>\n",
       "      <th>50%</th>\n",
       "      <td>2017-12-31 12:00:00</td>\n",
       "      <td>11.300000</td>\n",
       "    </tr>\n",
       "    <tr>\n",
       "      <th>75%</th>\n",
       "      <td>2018-07-01 18:00:00</td>\n",
       "      <td>14.400000</td>\n",
       "    </tr>\n",
       "    <tr>\n",
       "      <th>max</th>\n",
       "      <td>2018-12-31 00:00:00</td>\n",
       "      <td>22.100000</td>\n",
       "    </tr>\n",
       "    <tr>\n",
       "      <th>std</th>\n",
       "      <td>NaN</td>\n",
       "      <td>4.106611</td>\n",
       "    </tr>\n",
       "  </tbody>\n",
       "</table>\n",
       "</div>"
      ],
      "text/plain": [
       "                      Date  Temperature(Min)\n",
       "count                  730        730.000000\n",
       "mean   2017-12-31 12:00:00         11.465753\n",
       "min    2017-01-01 00:00:00          0.500000\n",
       "25%    2017-07-02 06:00:00          8.300000\n",
       "50%    2017-12-31 12:00:00         11.300000\n",
       "75%    2018-07-01 18:00:00         14.400000\n",
       "max    2018-12-31 00:00:00         22.100000\n",
       "std                    NaN          4.106611"
      ]
     },
     "execution_count": 45,
     "metadata": {},
     "output_type": "execute_result"
    }
   ],
   "source": [
    "df.describe()"
   ]
  },
  {
   "cell_type": "code",
   "execution_count": 46,
   "id": "f0296f4b-afe3-4f4c-921b-41a0977702bf",
   "metadata": {},
   "outputs": [],
   "source": [
    "train_len = 511\n",
    "train = df[:train_len]\n",
    "test = df[train_len:]"
   ]
  },
  {
   "cell_type": "code",
   "execution_count": 48,
   "id": "97cf0400-78fa-4a64-9a92-17d440ce5cf5",
   "metadata": {},
   "outputs": [
    {
     "data": {
      "text/plain": [
       "((511, 2), (219, 2))"
      ]
     },
     "execution_count": 48,
     "metadata": {},
     "output_type": "execute_result"
    }
   ],
   "source": [
    "train.shape, test.shape"
   ]
  },
  {
   "cell_type": "code",
   "execution_count": 51,
   "id": "12cca71e-52ce-438d-a31f-14e6c1e74418",
   "metadata": {},
   "outputs": [],
   "source": [
    "from statsmodels.tsa.holtwinters import SimpleExpSmoothing"
   ]
  },
  {
   "cell_type": "code",
   "execution_count": 58,
   "id": "3f6843dd-e70f-4e5d-b061-a5c2b6b81527",
   "metadata": {},
   "outputs": [],
   "source": [
    "model = SimpleExpSmoothing(train[\"Temperature(Min)\"])\n",
    "model_fit = model.fit(smoothing_level=0.2, optimized=False)\n",
    "test[\"ExpSmothing\"] = model_fit.forecast(219)"
   ]
  },
  {
   "cell_type": "code",
   "execution_count": 60,
   "id": "7c0e0a26-18b3-4619-a9ca-539a11f8f7bd",
   "metadata": {},
   "outputs": [
    {
     "data": {
      "text/html": [
       "<div>\n",
       "<style scoped>\n",
       "    .dataframe tbody tr th:only-of-type {\n",
       "        vertical-align: middle;\n",
       "    }\n",
       "\n",
       "    .dataframe tbody tr th {\n",
       "        vertical-align: top;\n",
       "    }\n",
       "\n",
       "    .dataframe thead th {\n",
       "        text-align: right;\n",
       "    }\n",
       "</style>\n",
       "<table border=\"1\" class=\"dataframe\">\n",
       "  <thead>\n",
       "    <tr style=\"text-align: right;\">\n",
       "      <th></th>\n",
       "      <th>Date</th>\n",
       "      <th>Temperature(Min)</th>\n",
       "      <th>ExpSmothing</th>\n",
       "    </tr>\n",
       "  </thead>\n",
       "  <tbody>\n",
       "    <tr>\n",
       "      <th>511</th>\n",
       "      <td>2018-05-27</td>\n",
       "      <td>8.2</td>\n",
       "      <td>9.1997</td>\n",
       "    </tr>\n",
       "    <tr>\n",
       "      <th>512</th>\n",
       "      <td>2018-05-28</td>\n",
       "      <td>6.1</td>\n",
       "      <td>9.1997</td>\n",
       "    </tr>\n",
       "    <tr>\n",
       "      <th>513</th>\n",
       "      <td>2018-05-29</td>\n",
       "      <td>4.5</td>\n",
       "      <td>9.1997</td>\n",
       "    </tr>\n",
       "    <tr>\n",
       "      <th>514</th>\n",
       "      <td>2018-05-30</td>\n",
       "      <td>6.1</td>\n",
       "      <td>9.1997</td>\n",
       "    </tr>\n",
       "    <tr>\n",
       "      <th>515</th>\n",
       "      <td>2018-05-31</td>\n",
       "      <td>9.8</td>\n",
       "      <td>9.1997</td>\n",
       "    </tr>\n",
       "    <tr>\n",
       "      <th>...</th>\n",
       "      <td>...</td>\n",
       "      <td>...</td>\n",
       "      <td>...</td>\n",
       "    </tr>\n",
       "    <tr>\n",
       "      <th>725</th>\n",
       "      <td>2018-12-27</td>\n",
       "      <td>14.0</td>\n",
       "      <td>9.1997</td>\n",
       "    </tr>\n",
       "    <tr>\n",
       "      <th>726</th>\n",
       "      <td>2018-12-28</td>\n",
       "      <td>13.6</td>\n",
       "      <td>9.1997</td>\n",
       "    </tr>\n",
       "    <tr>\n",
       "      <th>727</th>\n",
       "      <td>2018-12-29</td>\n",
       "      <td>13.5</td>\n",
       "      <td>9.1997</td>\n",
       "    </tr>\n",
       "    <tr>\n",
       "      <th>728</th>\n",
       "      <td>2018-12-30</td>\n",
       "      <td>15.7</td>\n",
       "      <td>9.1997</td>\n",
       "    </tr>\n",
       "    <tr>\n",
       "      <th>729</th>\n",
       "      <td>2018-12-31</td>\n",
       "      <td>13.0</td>\n",
       "      <td>9.1997</td>\n",
       "    </tr>\n",
       "  </tbody>\n",
       "</table>\n",
       "<p>219 rows × 3 columns</p>\n",
       "</div>"
      ],
      "text/plain": [
       "          Date  Temperature(Min)  ExpSmothing\n",
       "511 2018-05-27               8.2       9.1997\n",
       "512 2018-05-28               6.1       9.1997\n",
       "513 2018-05-29               4.5       9.1997\n",
       "514 2018-05-30               6.1       9.1997\n",
       "515 2018-05-31               9.8       9.1997\n",
       "..         ...               ...          ...\n",
       "725 2018-12-27              14.0       9.1997\n",
       "726 2018-12-28              13.6       9.1997\n",
       "727 2018-12-29              13.5       9.1997\n",
       "728 2018-12-30              15.7       9.1997\n",
       "729 2018-12-31              13.0       9.1997\n",
       "\n",
       "[219 rows x 3 columns]"
      ]
     },
     "execution_count": 60,
     "metadata": {},
     "output_type": "execute_result"
    }
   ],
   "source": [
    "test"
   ]
  },
  {
   "cell_type": "code",
   "execution_count": 62,
   "id": "ce96fdfa-ef34-4908-b2e0-9dfff74dbfdb",
   "metadata": {},
   "outputs": [],
   "source": [
    "from sklearn.metrics import mean_squared_error"
   ]
  },
  {
   "cell_type": "code",
   "execution_count": 63,
   "id": "aa0d713b-4f59-48a0-8861-303f72194099",
   "metadata": {},
   "outputs": [
    {
     "data": {
      "text/plain": [
       "3.5560737695562894"
      ]
     },
     "execution_count": 63,
     "metadata": {},
     "output_type": "execute_result"
    }
   ],
   "source": [
    "np.sqrt(mean_squared_error(test[\"Temperature(Min)\"], test[\"ExpSmothing\"]))"
   ]
  },
  {
   "cell_type": "code",
   "execution_count": 64,
   "id": "61ae152a-18f8-44f7-8acc-aef429cd225e",
   "metadata": {},
   "outputs": [
    {
     "data": {
      "text/plain": [
       "30.23512912723859"
      ]
     },
     "execution_count": 64,
     "metadata": {},
     "output_type": "execute_result"
    }
   ],
   "source": [
    "np.mean(abs(test[\"Temperature(Min)\"] - test[\"ExpSmothing\"])/test[\"Temperature(Min)\"]*100)"
   ]
  },
  {
   "cell_type": "code",
   "execution_count": 65,
   "id": "1a1308ec-64ba-4bbc-90ab-15f8419c47d4",
   "metadata": {},
   "outputs": [],
   "source": [
    "from statsmodels.tsa.holtwinters import ExponentialSmoothing"
   ]
  },
  {
   "cell_type": "code",
   "execution_count": 84,
   "id": "1e71be40-2a63-4575-bd2a-033dc7ad2bf3",
   "metadata": {},
   "outputs": [],
   "source": [
    "model = ExponentialSmoothing(train[\"Temperature(Min)\"], trend='add')\n",
    "model_fit = model.fit(smoothing_level=0.5, smoothing_slope=0.01, optimized=False)\n",
    "test[\"ExpSmothing_2\"] = model_fit.forecast(219)"
   ]
  },
  {
   "cell_type": "code",
   "execution_count": 85,
   "id": "78cc6f95-e112-4ef2-a111-161db327c3fe",
   "metadata": {},
   "outputs": [
    {
     "data": {
      "text/plain": [
       "5.946775417494971"
      ]
     },
     "execution_count": 85,
     "metadata": {},
     "output_type": "execute_result"
    }
   ],
   "source": [
    "np.sqrt(mean_squared_error(test[\"Temperature(Min)\"], test[\"ExpSmothing_2\"]))"
   ]
  },
  {
   "cell_type": "code",
   "execution_count": 86,
   "id": "21d1a9cc-f184-480a-b3b5-6d922dd51868",
   "metadata": {},
   "outputs": [
    {
     "data": {
      "text/plain": [
       "41.94150134692109"
      ]
     },
     "execution_count": 86,
     "metadata": {},
     "output_type": "execute_result"
    }
   ],
   "source": [
    "np.mean(abs(test[\"Temperature(Min)\"] - test[\"ExpSmothing_2\"])/test[\"Temperature(Min)\"]*100)"
   ]
  },
  {
   "cell_type": "code",
   "execution_count": 87,
   "id": "fb00e3cd-4a7f-4f82-a3c9-02364cf893a0",
   "metadata": {},
   "outputs": [],
   "source": [
    "model = ExponentialSmoothing(train[\"Temperature(Min)\"], seasonal_periods=30, trend='add')\n",
    "model_fit = model.fit(optimized=True)\n",
    "test[\"ExpSmothing_3\"] = model_fit.forecast(219)"
   ]
  },
  {
   "cell_type": "code",
   "execution_count": 88,
   "id": "ac765b85-496e-45a8-adbe-1ebc7cf7fb00",
   "metadata": {},
   "outputs": [
    {
     "data": {
      "text/plain": [
       "3.9396539693099477"
      ]
     },
     "execution_count": 88,
     "metadata": {},
     "output_type": "execute_result"
    }
   ],
   "source": [
    "np.sqrt(mean_squared_error(test[\"Temperature(Min)\"], test[\"ExpSmothing_3\"]))"
   ]
  },
  {
   "cell_type": "code",
   "execution_count": 89,
   "id": "c32a95d3-9f9f-470e-8f4d-7fe5aec4d56f",
   "metadata": {},
   "outputs": [
    {
     "data": {
      "text/plain": [
       "34.794672290511144"
      ]
     },
     "execution_count": 89,
     "metadata": {},
     "output_type": "execute_result"
    }
   ],
   "source": [
    "np.mean(abs(test[\"Temperature(Min)\"] - test[\"ExpSmothing_3\"])/test[\"Temperature(Min)\"]*100)"
   ]
  }
 ],
 "metadata": {
  "kernelspec": {
   "display_name": "Python 3 (ipykernel)",
   "language": "python",
   "name": "python3"
  },
  "language_info": {
   "codemirror_mode": {
    "name": "ipython",
    "version": 3
   },
   "file_extension": ".py",
   "mimetype": "text/x-python",
   "name": "python",
   "nbconvert_exporter": "python",
   "pygments_lexer": "ipython3",
   "version": "3.11.4"
  }
 },
 "nbformat": 4,
 "nbformat_minor": 5
}
