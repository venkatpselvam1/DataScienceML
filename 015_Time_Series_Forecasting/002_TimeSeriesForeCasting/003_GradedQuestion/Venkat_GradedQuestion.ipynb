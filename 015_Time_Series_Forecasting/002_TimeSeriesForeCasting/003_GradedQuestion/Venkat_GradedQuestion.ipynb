{
 "cells": [
  {
   "cell_type": "code",
   "execution_count": 1,
   "id": "5bc3b168-f583-47a7-9adf-d875e75e1edc",
   "metadata": {},
   "outputs": [],
   "source": [
    "import numpy as np\n",
    "import pandas as pd\n",
    "import warnings\n",
    "warnings.filterwarnings(\"ignore\")"
   ]
  },
  {
   "cell_type": "code",
   "execution_count": 3,
   "id": "8f59686f-3a9d-4b05-bcac-4ef505bc1fa0",
   "metadata": {},
   "outputs": [],
   "source": [
    "from sklearn.metrics import mean_squared_error\n",
    "import matplotlib.pyplot as plt"
   ]
  },
  {
   "cell_type": "code",
   "execution_count": 13,
   "id": "cc3bd454-336f-41a6-9d9e-59d851706601",
   "metadata": {},
   "outputs": [],
   "source": [
    "df = pd.read_csv(\"bitcoinfinal.csv\", header = None)"
   ]
  },
  {
   "cell_type": "code",
   "execution_count": 14,
   "id": "8a8cd2ae-e0c9-468b-b2d4-797b754bc3f0",
   "metadata": {},
   "outputs": [],
   "source": [
    "#?pd.read_csv"
   ]
  },
  {
   "cell_type": "code",
   "execution_count": 15,
   "id": "6b6c6ba9-1acb-4457-86ed-a2cd63ce892b",
   "metadata": {},
   "outputs": [
    {
     "data": {
      "text/html": [
       "<div>\n",
       "<style scoped>\n",
       "    .dataframe tbody tr th:only-of-type {\n",
       "        vertical-align: middle;\n",
       "    }\n",
       "\n",
       "    .dataframe tbody tr th {\n",
       "        vertical-align: top;\n",
       "    }\n",
       "\n",
       "    .dataframe thead th {\n",
       "        text-align: right;\n",
       "    }\n",
       "</style>\n",
       "<table border=\"1\" class=\"dataframe\">\n",
       "  <thead>\n",
       "    <tr style=\"text-align: right;\">\n",
       "      <th></th>\n",
       "      <th>0</th>\n",
       "      <th>1</th>\n",
       "    </tr>\n",
       "  </thead>\n",
       "  <tbody>\n",
       "    <tr>\n",
       "      <th>0</th>\n",
       "      <td>0</td>\n",
       "      <td>217.4</td>\n",
       "    </tr>\n",
       "    <tr>\n",
       "      <th>1</th>\n",
       "      <td>1</td>\n",
       "      <td>255.7</td>\n",
       "    </tr>\n",
       "    <tr>\n",
       "      <th>2</th>\n",
       "      <td>2</td>\n",
       "      <td>244.3</td>\n",
       "    </tr>\n",
       "    <tr>\n",
       "      <th>3</th>\n",
       "      <td>3</td>\n",
       "      <td>236.1</td>\n",
       "    </tr>\n",
       "    <tr>\n",
       "      <th>4</th>\n",
       "      <td>4</td>\n",
       "      <td>228.7</td>\n",
       "    </tr>\n",
       "  </tbody>\n",
       "</table>\n",
       "</div>"
      ],
      "text/plain": [
       "   0      1\n",
       "0  0  217.4\n",
       "1  1  255.7\n",
       "2  2  244.3\n",
       "3  3  236.1\n",
       "4  4  228.7"
      ]
     },
     "execution_count": 15,
     "metadata": {},
     "output_type": "execute_result"
    }
   ],
   "source": [
    "df.head()"
   ]
  },
  {
   "cell_type": "code",
   "execution_count": 16,
   "id": "ccfecccb-801e-40c1-920b-6267a28c1bfa",
   "metadata": {},
   "outputs": [
    {
     "data": {
      "text/plain": [
       "(32, 2)"
      ]
     },
     "execution_count": 16,
     "metadata": {},
     "output_type": "execute_result"
    }
   ],
   "source": [
    "df.shape"
   ]
  },
  {
   "cell_type": "code",
   "execution_count": 17,
   "id": "64a9ce16-f37c-403b-8aba-cbb49866e9d4",
   "metadata": {},
   "outputs": [],
   "source": [
    "df.columns = [\"Month\", \"Target\"]"
   ]
  },
  {
   "cell_type": "code",
   "execution_count": 20,
   "id": "c697a9fc-9cac-4b2e-a1e0-64cec5cb9f78",
   "metadata": {},
   "outputs": [
    {
     "data": {
      "text/html": [
       "<div>\n",
       "<style scoped>\n",
       "    .dataframe tbody tr th:only-of-type {\n",
       "        vertical-align: middle;\n",
       "    }\n",
       "\n",
       "    .dataframe tbody tr th {\n",
       "        vertical-align: top;\n",
       "    }\n",
       "\n",
       "    .dataframe thead th {\n",
       "        text-align: right;\n",
       "    }\n",
       "</style>\n",
       "<table border=\"1\" class=\"dataframe\">\n",
       "  <thead>\n",
       "    <tr style=\"text-align: right;\">\n",
       "      <th></th>\n",
       "      <th>Month</th>\n",
       "      <th>Target</th>\n",
       "    </tr>\n",
       "  </thead>\n",
       "  <tbody>\n",
       "    <tr>\n",
       "      <th>count</th>\n",
       "      <td>32.000000</td>\n",
       "      <td>32.000000</td>\n",
       "    </tr>\n",
       "    <tr>\n",
       "      <th>mean</th>\n",
       "      <td>15.500000</td>\n",
       "      <td>838.196875</td>\n",
       "    </tr>\n",
       "    <tr>\n",
       "      <th>std</th>\n",
       "      <td>9.380832</td>\n",
       "      <td>908.925885</td>\n",
       "    </tr>\n",
       "    <tr>\n",
       "      <th>min</th>\n",
       "      <td>0.000000</td>\n",
       "      <td>217.400000</td>\n",
       "    </tr>\n",
       "    <tr>\n",
       "      <th>25%</th>\n",
       "      <td>7.750000</td>\n",
       "      <td>279.100000</td>\n",
       "    </tr>\n",
       "    <tr>\n",
       "      <th>50%</th>\n",
       "      <td>15.500000</td>\n",
       "      <td>488.650000</td>\n",
       "    </tr>\n",
       "    <tr>\n",
       "      <th>75%</th>\n",
       "      <td>23.250000</td>\n",
       "      <td>966.300000</td>\n",
       "    </tr>\n",
       "    <tr>\n",
       "      <th>max</th>\n",
       "      <td>31.000000</td>\n",
       "      <td>4268.800000</td>\n",
       "    </tr>\n",
       "  </tbody>\n",
       "</table>\n",
       "</div>"
      ],
      "text/plain": [
       "           Month       Target\n",
       "count  32.000000    32.000000\n",
       "mean   15.500000   838.196875\n",
       "std     9.380832   908.925885\n",
       "min     0.000000   217.400000\n",
       "25%     7.750000   279.100000\n",
       "50%    15.500000   488.650000\n",
       "75%    23.250000   966.300000\n",
       "max    31.000000  4268.800000"
      ]
     },
     "execution_count": 20,
     "metadata": {},
     "output_type": "execute_result"
    }
   ],
   "source": [
    "df.describe()"
   ]
  },
  {
   "cell_type": "code",
   "execution_count": 67,
   "id": "540885e4-7957-4454-b4f0-dee88645f1b0",
   "metadata": {},
   "outputs": [],
   "source": [
    "train_len = 29\n",
    "test_len = 3\n",
    "train = df[:train_len]\n",
    "test = df[train_len:]"
   ]
  },
  {
   "cell_type": "code",
   "execution_count": 68,
   "id": "6b888331-91b3-42de-a121-3a01b19e8541",
   "metadata": {},
   "outputs": [
    {
     "data": {
      "text/plain": [
       "((29, 5), (3, 5))"
      ]
     },
     "execution_count": 68,
     "metadata": {},
     "output_type": "execute_result"
    }
   ],
   "source": [
    "train.shape, test.shape"
   ]
  },
  {
   "cell_type": "code",
   "execution_count": 69,
   "id": "f2918474-c561-4ccc-8ceb-8b50595f499f",
   "metadata": {},
   "outputs": [],
   "source": [
    "test[\"Naive\"] = train[\"Target\"][train_len-1]\n",
    "test[\"SimpleAverage\"] = train[\"Target\"].mean()"
   ]
  },
  {
   "cell_type": "code",
   "execution_count": 70,
   "id": "e0618708-55f2-48a1-8cf8-2328a36bbf3e",
   "metadata": {},
   "outputs": [
    {
     "data": {
      "image/png": "[encoded data removed]",
      "text/plain": [
       "<Figure size 2000x400 with 1 Axes>"
      ]
     },
     "metadata": {},
     "output_type": "display_data"
    }
   ],
   "source": [
    "plt.figure(figsize=(20,4))\n",
    "plt.plot(train[\"Target\"])\n",
    "plt.plot(test[\"Target\"])\n",
    "#plt.plot(test[\"Naive\"])\n",
    "plt.plot(test[\"SimpleAverage\"])\n",
    "plt.show()"
   ]
  },
  {
   "cell_type": "code",
   "execution_count": 71,
   "id": "ec7bcce9-a61d-42a2-a175-fd34fe585142",
   "metadata": {},
   "outputs": [
    {
     "data": {
      "text/html": [
       "<div>\n",
       "<style scoped>\n",
       "    .dataframe tbody tr th:only-of-type {\n",
       "        vertical-align: middle;\n",
       "    }\n",
       "\n",
       "    .dataframe tbody tr th {\n",
       "        vertical-align: top;\n",
       "    }\n",
       "\n",
       "    .dataframe thead th {\n",
       "        text-align: right;\n",
       "    }\n",
       "</style>\n",
       "<table border=\"1\" class=\"dataframe\">\n",
       "  <thead>\n",
       "    <tr style=\"text-align: right;\">\n",
       "      <th></th>\n",
       "      <th>Month</th>\n",
       "      <th>Target</th>\n",
       "      <th>MovingAverage12</th>\n",
       "      <th>MovingAverage06</th>\n",
       "      <th>MovingAverage03</th>\n",
       "      <th>Naive</th>\n",
       "      <th>SimpleAverage</th>\n",
       "    </tr>\n",
       "  </thead>\n",
       "  <tbody>\n",
       "    <tr>\n",
       "      <th>29</th>\n",
       "      <td>29</td>\n",
       "      <td>2420.7</td>\n",
       "      <td>1125.450000</td>\n",
       "      <td>1547.450000</td>\n",
       "      <td>2015.900000</td>\n",
       "      <td>2191.8</td>\n",
       "      <td>595.751724</td>\n",
       "    </tr>\n",
       "    <tr>\n",
       "      <th>30</th>\n",
       "      <td>30</td>\n",
       "      <td>2856.0</td>\n",
       "      <td>1311.475000</td>\n",
       "      <td>1862.416667</td>\n",
       "      <td>2489.500000</td>\n",
       "      <td>2191.8</td>\n",
       "      <td>595.751724</td>\n",
       "    </tr>\n",
       "    <tr>\n",
       "      <th>31</th>\n",
       "      <td>31</td>\n",
       "      <td>4268.8</td>\n",
       "      <td>1619.191667</td>\n",
       "      <td>2375.700000</td>\n",
       "      <td>3181.833333</td>\n",
       "      <td>2191.8</td>\n",
       "      <td>595.751724</td>\n",
       "    </tr>\n",
       "  </tbody>\n",
       "</table>\n",
       "</div>"
      ],
      "text/plain": [
       "    Month  Target  MovingAverage12  MovingAverage06  MovingAverage03   Naive  \\\n",
       "29     29  2420.7      1125.450000      1547.450000      2015.900000  2191.8   \n",
       "30     30  2856.0      1311.475000      1862.416667      2489.500000  2191.8   \n",
       "31     31  4268.8      1619.191667      2375.700000      3181.833333  2191.8   \n",
       "\n",
       "    SimpleAverage  \n",
       "29     595.751724  \n",
       "30     595.751724  \n",
       "31     595.751724  "
      ]
     },
     "execution_count": 71,
     "metadata": {},
     "output_type": "execute_result"
    }
   ],
   "source": [
    "test"
   ]
  },
  {
   "cell_type": "code",
   "execution_count": 72,
   "id": "b66fae8b-fdf1-4ab4-b940-0e01a7bf3caf",
   "metadata": {},
   "outputs": [],
   "source": [
    "df[\"MovingAverage12\"] = df[\"Target\"].rolling(12).mean()\n",
    "df[\"MovingAverage06\"] = df[\"Target\"].rolling(6).mean()\n",
    "df[\"MovingAverage03\"] = df[\"Target\"].rolling(3).mean()"
   ]
  },
  {
   "cell_type": "code",
   "execution_count": 77,
   "id": "c2850ebb-ac3f-48ea-bf48-c90af635c96c",
   "metadata": {},
   "outputs": [],
   "source": [
    "test[\"MovingAverage12\"] = df[\"MovingAverage12\"][test_len-1:]\n",
    "test[\"MovingAverage06\"] = df[\"MovingAverage06\"][test_len-1:]\n",
    "test[\"MovingAverage03\"] = df[\"MovingAverage03\"][test_len-1:]"
   ]
  },
  {
   "cell_type": "code",
   "execution_count": 146,
   "id": "fb61e674-8450-45af-9ffb-509392c2e1fc",
   "metadata": {},
   "outputs": [],
   "source": [
    "def printMet(actual, pred):\n",
    "    print(\"MSE\", np.sqrt(mean_squared_error(actual, pred)))\n",
    "    print(\"MAPE\", np.mean(abs(actual - pred)/actual*100))"
   ]
  },
  {
   "cell_type": "code",
   "execution_count": 82,
   "id": "89a4f490-ae47-4d48-a047-24b2e142c6cf",
   "metadata": {},
   "outputs": [
    {
     "data": {
      "text/html": [
       "<div>\n",
       "<style scoped>\n",
       "    .dataframe tbody tr th:only-of-type {\n",
       "        vertical-align: middle;\n",
       "    }\n",
       "\n",
       "    .dataframe tbody tr th {\n",
       "        vertical-align: top;\n",
       "    }\n",
       "\n",
       "    .dataframe thead th {\n",
       "        text-align: right;\n",
       "    }\n",
       "</style>\n",
       "<table border=\"1\" class=\"dataframe\">\n",
       "  <thead>\n",
       "    <tr style=\"text-align: right;\">\n",
       "      <th></th>\n",
       "      <th>Month</th>\n",
       "      <th>Target</th>\n",
       "      <th>MovingAverage12</th>\n",
       "      <th>MovingAverage06</th>\n",
       "      <th>MovingAverage03</th>\n",
       "      <th>Naive</th>\n",
       "      <th>SimpleAverage</th>\n",
       "    </tr>\n",
       "  </thead>\n",
       "  <tbody>\n",
       "    <tr>\n",
       "      <th>29</th>\n",
       "      <td>29</td>\n",
       "      <td>2420.7</td>\n",
       "      <td>1125.450000</td>\n",
       "      <td>1547.450000</td>\n",
       "      <td>2015.900000</td>\n",
       "      <td>2191.8</td>\n",
       "      <td>595.751724</td>\n",
       "    </tr>\n",
       "    <tr>\n",
       "      <th>30</th>\n",
       "      <td>30</td>\n",
       "      <td>2856.0</td>\n",
       "      <td>1311.475000</td>\n",
       "      <td>1862.416667</td>\n",
       "      <td>2489.500000</td>\n",
       "      <td>2191.8</td>\n",
       "      <td>595.751724</td>\n",
       "    </tr>\n",
       "    <tr>\n",
       "      <th>31</th>\n",
       "      <td>31</td>\n",
       "      <td>4268.8</td>\n",
       "      <td>1619.191667</td>\n",
       "      <td>2375.700000</td>\n",
       "      <td>3181.833333</td>\n",
       "      <td>2191.8</td>\n",
       "      <td>595.751724</td>\n",
       "    </tr>\n",
       "  </tbody>\n",
       "</table>\n",
       "</div>"
      ],
      "text/plain": [
       "    Month  Target  MovingAverage12  MovingAverage06  MovingAverage03   Naive  \\\n",
       "29     29  2420.7      1125.450000      1547.450000      2015.900000  2191.8   \n",
       "30     30  2856.0      1311.475000      1862.416667      2489.500000  2191.8   \n",
       "31     31  4268.8      1619.191667      2375.700000      3181.833333  2191.8   \n",
       "\n",
       "    SimpleAverage  \n",
       "29     595.751724  \n",
       "30     595.751724  \n",
       "31     595.751724  "
      ]
     },
     "execution_count": 82,
     "metadata": {},
     "output_type": "execute_result"
    }
   ],
   "source": [
    "test"
   ]
  },
  {
   "cell_type": "code",
   "execution_count": 147,
   "id": "7946b305-2cec-4cf4-be51-7e25a553d7cd",
   "metadata": {},
   "outputs": [
    {
     "name": "stdout",
     "output_type": "stream",
     "text": [
      "MSE 1922.1216019626545\n",
      "MAPE 56.55213923465075\n",
      "MSE 1333.3667928440618\n",
      "MAPE 38.4036553355661\n",
      "MSE 702.3014130804627\n",
      "MAPE 18.339372812488524\n"
     ]
    }
   ],
   "source": [
    "printMet(test[\"Target\"], test[\"MovingAverage12\"])\n",
    "printMet(test[\"Target\"], test[\"MovingAverage06\"])\n",
    "printMet(test[\"Target\"], test[\"MovingAverage03\"])"
   ]
  },
  {
   "cell_type": "code",
   "execution_count": 86,
   "id": "d43953ce-f5c0-4a16-968e-11ef7f1529a1",
   "metadata": {},
   "outputs": [
    {
     "data": {
      "text/html": [
       "<div>\n",
       "<style scoped>\n",
       "    .dataframe tbody tr th:only-of-type {\n",
       "        vertical-align: middle;\n",
       "    }\n",
       "\n",
       "    .dataframe tbody tr th {\n",
       "        vertical-align: top;\n",
       "    }\n",
       "\n",
       "    .dataframe thead th {\n",
       "        text-align: right;\n",
       "    }\n",
       "</style>\n",
       "<table border=\"1\" class=\"dataframe\">\n",
       "  <thead>\n",
       "    <tr style=\"text-align: right;\">\n",
       "      <th></th>\n",
       "      <th>Month</th>\n",
       "      <th>Target</th>\n",
       "      <th>MovingAverage12</th>\n",
       "      <th>MovingAverage06</th>\n",
       "      <th>MovingAverage03</th>\n",
       "    </tr>\n",
       "  </thead>\n",
       "  <tbody>\n",
       "    <tr>\n",
       "      <th>0</th>\n",
       "      <td>0</td>\n",
       "      <td>217.4</td>\n",
       "      <td>NaN</td>\n",
       "      <td>NaN</td>\n",
       "      <td>NaN</td>\n",
       "    </tr>\n",
       "    <tr>\n",
       "      <th>1</th>\n",
       "      <td>1</td>\n",
       "      <td>255.7</td>\n",
       "      <td>NaN</td>\n",
       "      <td>NaN</td>\n",
       "      <td>NaN</td>\n",
       "    </tr>\n",
       "    <tr>\n",
       "      <th>2</th>\n",
       "      <td>2</td>\n",
       "      <td>244.3</td>\n",
       "      <td>NaN</td>\n",
       "      <td>NaN</td>\n",
       "      <td>239.133333</td>\n",
       "    </tr>\n",
       "    <tr>\n",
       "      <th>3</th>\n",
       "      <td>3</td>\n",
       "      <td>236.1</td>\n",
       "      <td>NaN</td>\n",
       "      <td>NaN</td>\n",
       "      <td>245.366667</td>\n",
       "    </tr>\n",
       "    <tr>\n",
       "      <th>4</th>\n",
       "      <td>4</td>\n",
       "      <td>228.7</td>\n",
       "      <td>NaN</td>\n",
       "      <td>NaN</td>\n",
       "      <td>236.366667</td>\n",
       "    </tr>\n",
       "    <tr>\n",
       "      <th>5</th>\n",
       "      <td>5</td>\n",
       "      <td>262.9</td>\n",
       "      <td>NaN</td>\n",
       "      <td>240.850000</td>\n",
       "      <td>242.566667</td>\n",
       "    </tr>\n",
       "    <tr>\n",
       "      <th>6</th>\n",
       "      <td>6</td>\n",
       "      <td>284.5</td>\n",
       "      <td>NaN</td>\n",
       "      <td>252.033333</td>\n",
       "      <td>258.700000</td>\n",
       "    </tr>\n",
       "    <tr>\n",
       "      <th>7</th>\n",
       "      <td>7</td>\n",
       "      <td>231.4</td>\n",
       "      <td>NaN</td>\n",
       "      <td>247.983333</td>\n",
       "      <td>259.600000</td>\n",
       "    </tr>\n",
       "    <tr>\n",
       "      <th>8</th>\n",
       "      <td>8</td>\n",
       "      <td>236.5</td>\n",
       "      <td>NaN</td>\n",
       "      <td>246.683333</td>\n",
       "      <td>250.800000</td>\n",
       "    </tr>\n",
       "    <tr>\n",
       "      <th>9</th>\n",
       "      <td>9</td>\n",
       "      <td>316.0</td>\n",
       "      <td>NaN</td>\n",
       "      <td>260.000000</td>\n",
       "      <td>261.300000</td>\n",
       "    </tr>\n",
       "    <tr>\n",
       "      <th>10</th>\n",
       "      <td>10</td>\n",
       "      <td>376.9</td>\n",
       "      <td>NaN</td>\n",
       "      <td>284.700000</td>\n",
       "      <td>309.800000</td>\n",
       "    </tr>\n",
       "    <tr>\n",
       "      <th>11</th>\n",
       "      <td>11</td>\n",
       "      <td>429.0</td>\n",
       "      <td>276.616667</td>\n",
       "      <td>312.383333</td>\n",
       "      <td>373.966667</td>\n",
       "    </tr>\n",
       "    <tr>\n",
       "      <th>12</th>\n",
       "      <td>12</td>\n",
       "      <td>365.5</td>\n",
       "      <td>288.958333</td>\n",
       "      <td>325.883333</td>\n",
       "      <td>390.466667</td>\n",
       "    </tr>\n",
       "    <tr>\n",
       "      <th>13</th>\n",
       "      <td>13</td>\n",
       "      <td>439.2</td>\n",
       "      <td>304.250000</td>\n",
       "      <td>360.516667</td>\n",
       "      <td>411.233333</td>\n",
       "    </tr>\n",
       "    <tr>\n",
       "      <th>14</th>\n",
       "      <td>14</td>\n",
       "      <td>416.0</td>\n",
       "      <td>318.558333</td>\n",
       "      <td>390.433333</td>\n",
       "      <td>406.900000</td>\n",
       "    </tr>\n",
       "    <tr>\n",
       "      <th>15</th>\n",
       "      <td>15</td>\n",
       "      <td>446.6</td>\n",
       "      <td>336.100000</td>\n",
       "      <td>412.200000</td>\n",
       "      <td>433.933333</td>\n",
       "    </tr>\n",
       "    <tr>\n",
       "      <th>16</th>\n",
       "      <td>16</td>\n",
       "      <td>530.7</td>\n",
       "      <td>361.266667</td>\n",
       "      <td>437.833333</td>\n",
       "      <td>464.433333</td>\n",
       "    </tr>\n",
       "    <tr>\n",
       "      <th>17</th>\n",
       "      <td>17</td>\n",
       "      <td>674.7</td>\n",
       "      <td>395.583333</td>\n",
       "      <td>478.783333</td>\n",
       "      <td>550.666667</td>\n",
       "    </tr>\n",
       "    <tr>\n",
       "      <th>18</th>\n",
       "      <td>18</td>\n",
       "      <td>623.7</td>\n",
       "      <td>423.850000</td>\n",
       "      <td>521.816667</td>\n",
       "      <td>609.700000</td>\n",
       "    </tr>\n",
       "    <tr>\n",
       "      <th>19</th>\n",
       "      <td>19</td>\n",
       "      <td>576.2</td>\n",
       "      <td>452.583333</td>\n",
       "      <td>544.650000</td>\n",
       "      <td>624.866667</td>\n",
       "    </tr>\n",
       "    <tr>\n",
       "      <th>20</th>\n",
       "      <td>20</td>\n",
       "      <td>611.1</td>\n",
       "      <td>483.800000</td>\n",
       "      <td>577.166667</td>\n",
       "      <td>603.666667</td>\n",
       "    </tr>\n",
       "    <tr>\n",
       "      <th>21</th>\n",
       "      <td>21</td>\n",
       "      <td>704.1</td>\n",
       "      <td>516.141667</td>\n",
       "      <td>620.083333</td>\n",
       "      <td>630.466667</td>\n",
       "    </tr>\n",
       "    <tr>\n",
       "      <th>22</th>\n",
       "      <td>22</td>\n",
       "      <td>739.0</td>\n",
       "      <td>546.316667</td>\n",
       "      <td>654.800000</td>\n",
       "      <td>684.733333</td>\n",
       "    </tr>\n",
       "    <tr>\n",
       "      <th>23</th>\n",
       "      <td>23</td>\n",
       "      <td>966.6</td>\n",
       "      <td>591.116667</td>\n",
       "      <td>703.450000</td>\n",
       "      <td>803.233333</td>\n",
       "    </tr>\n",
       "    <tr>\n",
       "      <th>24</th>\n",
       "      <td>24</td>\n",
       "      <td>966.2</td>\n",
       "      <td>641.175000</td>\n",
       "      <td>760.533333</td>\n",
       "      <td>890.600000</td>\n",
       "    </tr>\n",
       "    <tr>\n",
       "      <th>25</th>\n",
       "      <td>25</td>\n",
       "      <td>1189.1</td>\n",
       "      <td>703.666667</td>\n",
       "      <td>862.683333</td>\n",
       "      <td>1040.633333</td>\n",
       "    </tr>\n",
       "    <tr>\n",
       "      <th>26</th>\n",
       "      <td>26</td>\n",
       "      <td>1081.7</td>\n",
       "      <td>759.141667</td>\n",
       "      <td>941.116667</td>\n",
       "      <td>1079.000000</td>\n",
       "    </tr>\n",
       "    <tr>\n",
       "      <th>27</th>\n",
       "      <td>27</td>\n",
       "      <td>1435.2</td>\n",
       "      <td>841.525000</td>\n",
       "      <td>1062.966667</td>\n",
       "      <td>1235.333333</td>\n",
       "    </tr>\n",
       "    <tr>\n",
       "      <th>28</th>\n",
       "      <td>28</td>\n",
       "      <td>2191.8</td>\n",
       "      <td>979.950000</td>\n",
       "      <td>1305.100000</td>\n",
       "      <td>1569.566667</td>\n",
       "    </tr>\n",
       "  </tbody>\n",
       "</table>\n",
       "</div>"
      ],
      "text/plain": [
       "    Month  Target  MovingAverage12  MovingAverage06  MovingAverage03\n",
       "0       0   217.4              NaN              NaN              NaN\n",
       "1       1   255.7              NaN              NaN              NaN\n",
       "2       2   244.3              NaN              NaN       239.133333\n",
       "3       3   236.1              NaN              NaN       245.366667\n",
       "4       4   228.7              NaN              NaN       236.366667\n",
       "5       5   262.9              NaN       240.850000       242.566667\n",
       "6       6   284.5              NaN       252.033333       258.700000\n",
       "7       7   231.4              NaN       247.983333       259.600000\n",
       "8       8   236.5              NaN       246.683333       250.800000\n",
       "9       9   316.0              NaN       260.000000       261.300000\n",
       "10     10   376.9              NaN       284.700000       309.800000\n",
       "11     11   429.0       276.616667       312.383333       373.966667\n",
       "12     12   365.5       288.958333       325.883333       390.466667\n",
       "13     13   439.2       304.250000       360.516667       411.233333\n",
       "14     14   416.0       318.558333       390.433333       406.900000\n",
       "15     15   446.6       336.100000       412.200000       433.933333\n",
       "16     16   530.7       361.266667       437.833333       464.433333\n",
       "17     17   674.7       395.583333       478.783333       550.666667\n",
       "18     18   623.7       423.850000       521.816667       609.700000\n",
       "19     19   576.2       452.583333       544.650000       624.866667\n",
       "20     20   611.1       483.800000       577.166667       603.666667\n",
       "21     21   704.1       516.141667       620.083333       630.466667\n",
       "22     22   739.0       546.316667       654.800000       684.733333\n",
       "23     23   966.6       591.116667       703.450000       803.233333\n",
       "24     24   966.2       641.175000       760.533333       890.600000\n",
       "25     25  1189.1       703.666667       862.683333      1040.633333\n",
       "26     26  1081.7       759.141667       941.116667      1079.000000\n",
       "27     27  1435.2       841.525000      1062.966667      1235.333333\n",
       "28     28  2191.8       979.950000      1305.100000      1569.566667"
      ]
     },
     "execution_count": 86,
     "metadata": {},
     "output_type": "execute_result"
    }
   ],
   "source": [
    "train"
   ]
  },
  {
   "cell_type": "markdown",
   "id": "1e5d4169-e2ae-4bd2-993c-d8dc7c57ed4c",
   "metadata": {},
   "source": [
    "# Simple Exponential"
   ]
  },
  {
   "cell_type": "code",
   "execution_count": 85,
   "id": "2e4f0942-d7b7-411d-9ddb-661368207591",
   "metadata": {},
   "outputs": [],
   "source": [
    "from statsmodels.tsa.holtwinters import SimpleExpSmoothing"
   ]
  },
  {
   "cell_type": "code",
   "execution_count": 160,
   "id": "f4b1dea6-c22b-4852-a3de-c355fdef4ab6",
   "metadata": {},
   "outputs": [
    {
     "name": "stderr",
     "output_type": "stream",
     "text": [
      "/opt/conda/lib/python3.11/site-packages/pandas/util/_decorators.py:210: EstimationWarning: Model has no free parameters to estimate. Set optimized=False to suppress this warning\n",
      "  return func(*args, **kwargs)\n"
     ]
    }
   ],
   "source": [
    "model1 = SimpleExpSmoothing(train[\"Target\"])\n",
    "model1_fit = model1.fit(smoothing_level=0.22)\n",
    "test[\"SimpleExp\"] = model1_fit.forecast(3)"
   ]
  },
  {
   "cell_type": "code",
   "execution_count": 203,
   "id": "c4bb265f-7a97-44b9-96a1-17cffccae07d",
   "metadata": {},
   "outputs": [],
   "source": [
    "model1 = SimpleExpSmoothing(train[\"Target\"])\n",
    "model1_fit = model1.fit(optimized=True)\n",
    "test[\"SimpleExpOpt\"] = model1_fit.forecast(3)"
   ]
  },
  {
   "cell_type": "code",
   "execution_count": 204,
   "id": "d96c8506-6342-451e-af93-24706428a3b3",
   "metadata": {},
   "outputs": [
    {
     "data": {
      "text/plain": [
       "{'smoothing_level': 0.995,\n",
       " 'smoothing_trend': nan,\n",
       " 'smoothing_seasonal': nan,\n",
       " 'damping_trend': nan,\n",
       " 'initial_level': 217.4,\n",
       " 'initial_trend': nan,\n",
       " 'initial_seasons': array([], dtype=float64),\n",
       " 'use_boxcox': False,\n",
       " 'lamda': None,\n",
       " 'remove_bias': False}"
      ]
     },
     "execution_count": 204,
     "metadata": {},
     "output_type": "execute_result"
    }
   ],
   "source": [
    "model1_fit.params"
   ]
  },
  {
   "cell_type": "code",
   "execution_count": 106,
   "id": "62c4a158-872e-475d-a63f-2e9668f8645f",
   "metadata": {},
   "outputs": [],
   "source": [
    "from statsmodels.tsa.holtwinters import ExponentialSmoothing"
   ]
  },
  {
   "cell_type": "code",
   "execution_count": 122,
   "id": "e825ce06-46ae-4181-91ac-53c83917a47b",
   "metadata": {},
   "outputs": [],
   "source": [
    "model2 = ExponentialSmoothing(train[\"Target\"], seasonal_periods = 12, trend=\"mul\")\n",
    "model2_fit = model2.fit(smoothing_level=0.2, smoothing_slope=0.01)\n",
    "test[\"ExpSmooth\"] = model2_fit.forecast(3)"
   ]
  },
  {
   "cell_type": "code",
   "execution_count": 124,
   "id": "31431e72-2a12-4e98-a8d2-6b2cb0250bb6",
   "metadata": {},
   "outputs": [],
   "source": [
    "model3 = ExponentialSmoothing(train[\"Target\"], seasonal_periods = 12, trend=\"mul\")\n",
    "model3_fit = model3.fit(smoothing_level=0.2, smoothing_slope=0.01)\n",
    "test[\"ExpSmoothBest\"] = model3_fit.forecast(3)"
   ]
  },
  {
   "cell_type": "code",
   "execution_count": 209,
   "id": "51f0deb3-27fc-4abd-9423-b6e064efd7cb",
   "metadata": {},
   "outputs": [],
   "source": [
    "model4 = ExponentialSmoothing(train[\"Target\"], trend=\"add\")\n",
    "model4_fit = model4.fit(optimized=True)\n",
    "test[\"ExpSmoothBestOpt\"] = model4_fit.forecast(3)"
   ]
  },
  {
   "cell_type": "code",
   "execution_count": 213,
   "id": "e62e7139-d566-45bc-9be7-86834489fe34",
   "metadata": {},
   "outputs": [],
   "source": [
    "model = ExponentialSmoothing(train[\"Target\"], trend=\"add\", seasonal_periods = 3)\n",
    "model_fit = model.fit(optimized=True)\n",
    "test[\"WinterAdd\"] = model_fit.forecast(3)"
   ]
  },
  {
   "cell_type": "code",
   "execution_count": 214,
   "id": "4ff0b3c4-c8c0-49a4-ba96-1c69104c1118",
   "metadata": {},
   "outputs": [],
   "source": [
    "model = ExponentialSmoothing(train[\"Target\"], trend=\"mul\", seasonal_periods = 3)\n",
    "model_fit = model.fit(optimized=True)\n",
    "test[\"WinterMul\"] = model_fit.forecast(3)"
   ]
  },
  {
   "cell_type": "code",
   "execution_count": 210,
   "id": "6b6c51d1-d0cd-418f-a7e5-e278a4612e20",
   "metadata": {},
   "outputs": [
    {
     "data": {
      "text/plain": [
       "{'smoothing_level': 0.995,\n",
       " 'smoothing_trend': 0.4264285714285714,\n",
       " 'smoothing_seasonal': nan,\n",
       " 'damping_trend': nan,\n",
       " 'initial_level': 222.41999999999993,\n",
       " 'initial_trend': 5.2600000000000255,\n",
       " 'initial_seasons': array([], dtype=float64),\n",
       " 'use_boxcox': False,\n",
       " 'lamda': None,\n",
       " 'remove_bias': False}"
      ]
     },
     "execution_count": 210,
     "metadata": {},
     "output_type": "execute_result"
    }
   ],
   "source": [
    "model4_fit.params"
   ]
  },
  {
   "cell_type": "code",
   "execution_count": 195,
   "id": "bc9cbe53-e3a7-4590-9330-ae4132fc1252",
   "metadata": {},
   "outputs": [
    {
     "data": {
      "text/html": [
       "<div>\n",
       "<style scoped>\n",
       "    .dataframe tbody tr th:only-of-type {\n",
       "        vertical-align: middle;\n",
       "    }\n",
       "\n",
       "    .dataframe tbody tr th {\n",
       "        vertical-align: top;\n",
       "    }\n",
       "\n",
       "    .dataframe thead th {\n",
       "        text-align: right;\n",
       "    }\n",
       "</style>\n",
       "<table border=\"1\" class=\"dataframe\">\n",
       "  <thead>\n",
       "    <tr style=\"text-align: right;\">\n",
       "      <th></th>\n",
       "      <th>Month</th>\n",
       "      <th>Target</th>\n",
       "      <th>MovingAverage12</th>\n",
       "      <th>MovingAverage06</th>\n",
       "      <th>MovingAverage03</th>\n",
       "      <th>Naive</th>\n",
       "      <th>SimpleAverage</th>\n",
       "      <th>SimpleExp</th>\n",
       "      <th>ExpSmooth</th>\n",
       "      <th>SimpleExpOpt</th>\n",
       "      <th>ExpSmoothBest</th>\n",
       "      <th>ExpSmoothBestOpt</th>\n",
       "    </tr>\n",
       "  </thead>\n",
       "  <tbody>\n",
       "    <tr>\n",
       "      <th>29</th>\n",
       "      <td>29</td>\n",
       "      <td>2420.7</td>\n",
       "      <td>1125.450000</td>\n",
       "      <td>1547.450000</td>\n",
       "      <td>2015.900000</td>\n",
       "      <td>2191.8</td>\n",
       "      <td>595.751724</td>\n",
       "      <td>1275.459831</td>\n",
       "      <td>1797.402470</td>\n",
       "      <td>2188.008176</td>\n",
       "      <td>1797.402470</td>\n",
       "      <td>NaN</td>\n",
       "    </tr>\n",
       "    <tr>\n",
       "      <th>30</th>\n",
       "      <td>30</td>\n",
       "      <td>2856.0</td>\n",
       "      <td>1311.475000</td>\n",
       "      <td>1862.416667</td>\n",
       "      <td>2489.500000</td>\n",
       "      <td>2191.8</td>\n",
       "      <td>595.751724</td>\n",
       "      <td>1275.459831</td>\n",
       "      <td>1977.223507</td>\n",
       "      <td>2188.008176</td>\n",
       "      <td>1977.223507</td>\n",
       "      <td>NaN</td>\n",
       "    </tr>\n",
       "    <tr>\n",
       "      <th>31</th>\n",
       "      <td>31</td>\n",
       "      <td>4268.8</td>\n",
       "      <td>1619.191667</td>\n",
       "      <td>2375.700000</td>\n",
       "      <td>3181.833333</td>\n",
       "      <td>2191.8</td>\n",
       "      <td>595.751724</td>\n",
       "      <td>1275.459831</td>\n",
       "      <td>2175.034730</td>\n",
       "      <td>2188.008176</td>\n",
       "      <td>2175.034730</td>\n",
       "      <td>NaN</td>\n",
       "    </tr>\n",
       "  </tbody>\n",
       "</table>\n",
       "</div>"
      ],
      "text/plain": [
       "    Month  Target  MovingAverage12  MovingAverage06  MovingAverage03   Naive  \\\n",
       "29     29  2420.7      1125.450000      1547.450000      2015.900000  2191.8   \n",
       "30     30  2856.0      1311.475000      1862.416667      2489.500000  2191.8   \n",
       "31     31  4268.8      1619.191667      2375.700000      3181.833333  2191.8   \n",
       "\n",
       "    SimpleAverage    SimpleExp    ExpSmooth  SimpleExpOpt  ExpSmoothBest  \\\n",
       "29     595.751724  1275.459831  1797.402470   2188.008176    1797.402470   \n",
       "30     595.751724  1275.459831  1977.223507   2188.008176    1977.223507   \n",
       "31     595.751724  1275.459831  2175.034730   2188.008176    2175.034730   \n",
       "\n",
       "    ExpSmoothBestOpt  \n",
       "29               NaN  \n",
       "30               NaN  \n",
       "31               NaN  "
      ]
     },
     "execution_count": 195,
     "metadata": {},
     "output_type": "execute_result"
    }
   ],
   "source": [
    "test"
   ]
  },
  {
   "cell_type": "code",
   "execution_count": 217,
   "id": "feb2a355-f4de-4318-8a8c-f52765fc43de",
   "metadata": {},
   "outputs": [
    {
     "data": {
      "image/png": "[encoded data removed]",
      "text/plain": [
       "<Figure size 2000x400 with 1 Axes>"
      ]
     },
     "metadata": {},
     "output_type": "display_data"
    }
   ],
   "source": [
    "plt.figure(figsize=(20,4))\n",
    "plt.plot(train[\"Target\"])\n",
    "plt.plot(test[\"Target\"])\n",
    "#plt.plot(test[\"Naive\"])\n",
    "#plt.plot(test[\"SimpleAverage\"])\n",
    "#plt.plot(test[\"SimpleExp\"])\n",
    "#plt.plot(test[\"ExpSmooth\"])\n",
    "#plt.plot(test[\"WinterAdd\"])\n",
    "plt.plot(test[\"WinterMul\"])\n",
    "plt.show()"
   ]
  },
  {
   "cell_type": "code",
   "execution_count": 219,
   "id": "e93091a5-dd41-4d93-8807-f018a6ebeeb9",
   "metadata": {},
   "outputs": [
    {
     "name": "stdout",
     "output_type": "stream",
     "text": [
      "MSE 344.03017274624466\n",
      "MAPE 10.73692867731959\n",
      "MSE 497.9108673030602\n",
      "MAPE 10.989153944036113\n"
     ]
    }
   ],
   "source": [
    "printMet(test[\"Target\"], test[\"WinterMul\"])\n",
    "printMet(test[\"Target\"], test[\"WinterAdd\"])"
   ]
  },
  {
   "cell_type": "code",
   "execution_count": 162,
   "id": "32c2f062-4af7-4074-b2ea-9e9ab5b621d6",
   "metadata": {},
   "outputs": [],
   "source": [
    "#0.1\n",
    "#MSE 2409.74575914485\n",
    "#MAPE 69.91290321419571\n",
    "\n",
    "#0.22\n",
    "#MSE 2063.150312398576\n",
    "#MAPE 57.590893657112474\n",
    "\n",
    "#0.42\n",
    "#MSE 1750.6877659680792\n",
    "#MAPE 46.16955156081648\n",
    "\n",
    "#0.82\n",
    "#MSE 1384.1093285957213\n",
    "#MAPE 32.01883864180342"
   ]
  },
  {
   "cell_type": "code",
   "execution_count": 143,
   "id": "67e77725-02b2-48a3-aaeb-d389a6f71f84",
   "metadata": {},
   "outputs": [
    {
     "data": {
      "text/html": [
       "<div>\n",
       "<style scoped>\n",
       "    .dataframe tbody tr th:only-of-type {\n",
       "        vertical-align: middle;\n",
       "    }\n",
       "\n",
       "    .dataframe tbody tr th {\n",
       "        vertical-align: top;\n",
       "    }\n",
       "\n",
       "    .dataframe thead th {\n",
       "        text-align: right;\n",
       "    }\n",
       "</style>\n",
       "<table border=\"1\" class=\"dataframe\">\n",
       "  <thead>\n",
       "    <tr style=\"text-align: right;\">\n",
       "      <th></th>\n",
       "      <th>Month</th>\n",
       "      <th>Target</th>\n",
       "      <th>MovingAverage12</th>\n",
       "      <th>MovingAverage06</th>\n",
       "      <th>MovingAverage03</th>\n",
       "      <th>Naive</th>\n",
       "      <th>SimpleAverage</th>\n",
       "      <th>SimpleExp</th>\n",
       "      <th>ExpSmooth</th>\n",
       "      <th>SimpleExpOpt</th>\n",
       "      <th>ExpSmoothBest</th>\n",
       "      <th>ExpSmoothBestOpt</th>\n",
       "    </tr>\n",
       "  </thead>\n",
       "  <tbody>\n",
       "    <tr>\n",
       "      <th>29</th>\n",
       "      <td>29</td>\n",
       "      <td>2420.7</td>\n",
       "      <td>1125.450000</td>\n",
       "      <td>1547.450000</td>\n",
       "      <td>2015.900000</td>\n",
       "      <td>2191.8</td>\n",
       "      <td>595.751724</td>\n",
       "      <td>1720.394581</td>\n",
       "      <td>1797.402470</td>\n",
       "      <td>2188.008176</td>\n",
       "      <td>1797.402470</td>\n",
       "      <td>2714.303491</td>\n",
       "    </tr>\n",
       "    <tr>\n",
       "      <th>30</th>\n",
       "      <td>30</td>\n",
       "      <td>2856.0</td>\n",
       "      <td>1311.475000</td>\n",
       "      <td>1862.416667</td>\n",
       "      <td>2489.500000</td>\n",
       "      <td>2191.8</td>\n",
       "      <td>595.751724</td>\n",
       "      <td>1720.394581</td>\n",
       "      <td>1977.223507</td>\n",
       "      <td>2188.008176</td>\n",
       "      <td>1977.223507</td>\n",
       "      <td>3365.656776</td>\n",
       "    </tr>\n",
       "    <tr>\n",
       "      <th>31</th>\n",
       "      <td>31</td>\n",
       "      <td>4268.8</td>\n",
       "      <td>1619.191667</td>\n",
       "      <td>2375.700000</td>\n",
       "      <td>3181.833333</td>\n",
       "      <td>2191.8</td>\n",
       "      <td>595.751724</td>\n",
       "      <td>1720.394581</td>\n",
       "      <td>2175.034730</td>\n",
       "      <td>2188.008176</td>\n",
       "      <td>2175.034730</td>\n",
       "      <td>4173.315758</td>\n",
       "    </tr>\n",
       "  </tbody>\n",
       "</table>\n",
       "</div>"
      ],
      "text/plain": [
       "    Month  Target  MovingAverage12  MovingAverage06  MovingAverage03   Naive  \\\n",
       "29     29  2420.7      1125.450000      1547.450000      2015.900000  2191.8   \n",
       "30     30  2856.0      1311.475000      1862.416667      2489.500000  2191.8   \n",
       "31     31  4268.8      1619.191667      2375.700000      3181.833333  2191.8   \n",
       "\n",
       "    SimpleAverage    SimpleExp    ExpSmooth  SimpleExpOpt  ExpSmoothBest  \\\n",
       "29     595.751724  1720.394581  1797.402470   2188.008176    1797.402470   \n",
       "30     595.751724  1720.394581  1977.223507   2188.008176    1977.223507   \n",
       "31     595.751724  1720.394581  2175.034730   2188.008176    2175.034730   \n",
       "\n",
       "    ExpSmoothBestOpt  \n",
       "29       2714.303491  \n",
       "30       3365.656776  \n",
       "31       4173.315758  "
      ]
     },
     "execution_count": 143,
     "metadata": {},
     "output_type": "execute_result"
    }
   ],
   "source": [
    "test"
   ]
  }
 ],
 "metadata": {
  "kernelspec": {
   "display_name": "Python 3 (ipykernel)",
   "language": "python",
   "name": "python3"
  },
  "language_info": {
   "codemirror_mode": {
    "name": "ipython",
    "version": 3
   },
   "file_extension": ".py",
   "mimetype": "text/x-python",
   "name": "python",
   "nbconvert_exporter": "python",
   "pygments_lexer": "ipython3",
   "version": "3.11.4"
  }
 },
 "nbformat": 4,
 "nbformat_minor": 5
}
