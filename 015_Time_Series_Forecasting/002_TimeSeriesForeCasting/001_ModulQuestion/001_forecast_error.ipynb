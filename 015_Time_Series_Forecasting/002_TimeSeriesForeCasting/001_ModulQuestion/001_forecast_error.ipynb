{
 "cells": [
  {
   "cell_type": "code",
   "execution_count": 1,
   "id": "41962119-539a-45ea-b390-a57666b0d181",
   "metadata": {},
   "outputs": [],
   "source": [
    "import numpy as np\n",
    "import pandas as pd\n",
    "import warnings\n",
    "warnings.filterwarnings('ignore')"
   ]
  },
  {
   "cell_type": "code",
   "execution_count": 2,
   "id": "f5a2d9c4-a33e-46cf-ae0d-100770b43d39",
   "metadata": {},
   "outputs": [],
   "source": [
    "df = pd.read_csv('exchange-rate-twi.csv')"
   ]
  },
  {
   "cell_type": "code",
   "execution_count": 8,
   "id": "9574b0e5-fc11-4bfb-a7b9-4f5c9a7c59a1",
   "metadata": {},
   "outputs": [],
   "source": [
    "train = df[:212]"
   ]
  },
  {
   "cell_type": "code",
   "execution_count": 9,
   "id": "61e70569-cf9c-441d-995e-65e4ab9b944c",
   "metadata": {},
   "outputs": [],
   "source": [
    "test = df[213:]"
   ]
  },
  {
   "cell_type": "code",
   "execution_count": 11,
   "id": "92802b8a-768c-4278-84b3-aacb2b1cd36f",
   "metadata": {},
   "outputs": [
    {
     "data": {
      "text/plain": [
       "((212, 2), (91, 2))"
      ]
     },
     "execution_count": 11,
     "metadata": {},
     "output_type": "execute_result"
    }
   ],
   "source": [
    "train.shape, test.shape"
   ]
  },
  {
   "cell_type": "code",
   "execution_count": 13,
   "id": "8e4bff16-7d5f-4859-9634-f9d38d74d212",
   "metadata": {},
   "outputs": [
    {
     "data": {
      "text/plain": [
       "88.3254716981132"
      ]
     },
     "execution_count": 13,
     "metadata": {},
     "output_type": "execute_result"
    }
   ],
   "source": [
    "train[\"Exchange Rate TWI\"].mean()"
   ]
  },
  {
   "cell_type": "code",
   "execution_count": 14,
   "id": "aed63e72-52d0-48f5-86ec-87e55620da32",
   "metadata": {},
   "outputs": [
    {
     "data": {
      "text/html": [
       "<div>\n",
       "<style scoped>\n",
       "    .dataframe tbody tr th:only-of-type {\n",
       "        vertical-align: middle;\n",
       "    }\n",
       "\n",
       "    .dataframe tbody tr th {\n",
       "        vertical-align: top;\n",
       "    }\n",
       "\n",
       "    .dataframe thead th {\n",
       "        text-align: right;\n",
       "    }\n",
       "</style>\n",
       "<table border=\"1\" class=\"dataframe\">\n",
       "  <thead>\n",
       "    <tr style=\"text-align: right;\">\n",
       "      <th></th>\n",
       "      <th>Month</th>\n",
       "      <th>Exchange Rate TWI</th>\n",
       "    </tr>\n",
       "  </thead>\n",
       "  <tbody>\n",
       "    <tr>\n",
       "      <th>207</th>\n",
       "      <td>208</td>\n",
       "      <td>55.2</td>\n",
       "    </tr>\n",
       "    <tr>\n",
       "      <th>208</th>\n",
       "      <td>209</td>\n",
       "      <td>56.2</td>\n",
       "    </tr>\n",
       "    <tr>\n",
       "      <th>209</th>\n",
       "      <td>210</td>\n",
       "      <td>51.7</td>\n",
       "    </tr>\n",
       "    <tr>\n",
       "      <th>210</th>\n",
       "      <td>211</td>\n",
       "      <td>52.3</td>\n",
       "    </tr>\n",
       "    <tr>\n",
       "      <th>211</th>\n",
       "      <td>212</td>\n",
       "      <td>52.0</td>\n",
       "    </tr>\n",
       "  </tbody>\n",
       "</table>\n",
       "</div>"
      ],
      "text/plain": [
       "     Month  Exchange Rate TWI\n",
       "207    208               55.2\n",
       "208    209               56.2\n",
       "209    210               51.7\n",
       "210    211               52.3\n",
       "211    212               52.0"
      ]
     },
     "execution_count": 14,
     "metadata": {},
     "output_type": "execute_result"
    }
   ],
   "source": [
    "train.tail()"
   ]
  },
  {
   "cell_type": "code",
   "execution_count": 15,
   "id": "fdf44a6a-15a0-44ac-ab57-a16d824d4abf",
   "metadata": {},
   "outputs": [],
   "source": [
    " test['average_forecast'] = train[\"Exchange Rate TWI\"].mean()"
   ]
  },
  {
   "cell_type": "code",
   "execution_count": 17,
   "id": "e4738a07-cb22-46a6-8b53-d39742173f13",
   "metadata": {},
   "outputs": [],
   "source": [
    "test['naive_forecast'] =  52"
   ]
  },
  {
   "cell_type": "code",
   "execution_count": 18,
   "id": "b9fd5b2d-54bb-46fd-916e-5da60449498a",
   "metadata": {},
   "outputs": [
    {
     "data": {
      "text/html": [
       "<div>\n",
       "<style scoped>\n",
       "    .dataframe tbody tr th:only-of-type {\n",
       "        vertical-align: middle;\n",
       "    }\n",
       "\n",
       "    .dataframe tbody tr th {\n",
       "        vertical-align: top;\n",
       "    }\n",
       "\n",
       "    .dataframe thead th {\n",
       "        text-align: right;\n",
       "    }\n",
       "</style>\n",
       "<table border=\"1\" class=\"dataframe\">\n",
       "  <thead>\n",
       "    <tr style=\"text-align: right;\">\n",
       "      <th></th>\n",
       "      <th>Month</th>\n",
       "      <th>Exchange Rate TWI</th>\n",
       "      <th>average_forecast</th>\n",
       "      <th>naive_forecast</th>\n",
       "    </tr>\n",
       "  </thead>\n",
       "  <tbody>\n",
       "    <tr>\n",
       "      <th>213</th>\n",
       "      <td>214</td>\n",
       "      <td>53.1</td>\n",
       "      <td>88.325472</td>\n",
       "      <td>52</td>\n",
       "    </tr>\n",
       "    <tr>\n",
       "      <th>214</th>\n",
       "      <td>215</td>\n",
       "      <td>53.8</td>\n",
       "      <td>88.325472</td>\n",
       "      <td>52</td>\n",
       "    </tr>\n",
       "    <tr>\n",
       "      <th>215</th>\n",
       "      <td>216</td>\n",
       "      <td>55.2</td>\n",
       "      <td>88.325472</td>\n",
       "      <td>52</td>\n",
       "    </tr>\n",
       "    <tr>\n",
       "      <th>216</th>\n",
       "      <td>217</td>\n",
       "      <td>58.9</td>\n",
       "      <td>88.325472</td>\n",
       "      <td>52</td>\n",
       "    </tr>\n",
       "    <tr>\n",
       "      <th>217</th>\n",
       "      <td>218</td>\n",
       "      <td>59.8</td>\n",
       "      <td>88.325472</td>\n",
       "      <td>52</td>\n",
       "    </tr>\n",
       "  </tbody>\n",
       "</table>\n",
       "</div>"
      ],
      "text/plain": [
       "     Month  Exchange Rate TWI  average_forecast  naive_forecast\n",
       "213    214               53.1         88.325472              52\n",
       "214    215               53.8         88.325472              52\n",
       "215    216               55.2         88.325472              52\n",
       "216    217               58.9         88.325472              52\n",
       "217    218               59.8         88.325472              52"
      ]
     },
     "execution_count": 18,
     "metadata": {},
     "output_type": "execute_result"
    }
   ],
   "source": [
    "test.head()"
   ]
  },
  {
   "cell_type": "code",
   "execution_count": 23,
   "id": "38789aae-4b83-42a6-a548-84bc08edf726",
   "metadata": {},
   "outputs": [],
   "source": [
    "from sklearn.metrics import mean_squared_error"
   ]
  },
  {
   "cell_type": "code",
   "execution_count": 27,
   "id": "41c79303-354e-4387-8688-28d07276b801",
   "metadata": {},
   "outputs": [
    {
     "data": {
      "text/plain": [
       "1048.3665621393554"
      ]
     },
     "execution_count": 27,
     "metadata": {},
     "output_type": "execute_result"
    }
   ],
   "source": [
    "mean_squared_error(test[\"Exchange Rate TWI\"], test[\"average_forecast\"])"
   ]
  },
  {
   "cell_type": "code",
   "execution_count": 30,
   "id": "8892695a-add0-434c-b701-51708cfccc65",
   "metadata": {},
   "outputs": [
    {
     "data": {
      "text/plain": [
       "32.378489188647386"
      ]
     },
     "execution_count": 30,
     "metadata": {},
     "output_type": "execute_result"
    }
   ],
   "source": [
    "np.sqrt(mean_squared_error(test[\"Exchange Rate TWI\"], test[\"average_forecast\"]))"
   ]
  },
  {
   "cell_type": "code",
   "execution_count": 38,
   "id": "03c5a70a-ace2-42ac-92a8-5b31121b57fb",
   "metadata": {},
   "outputs": [
    {
     "data": {
      "text/plain": [
       "6.016314815237312"
      ]
     },
     "execution_count": 38,
     "metadata": {},
     "output_type": "execute_result"
    }
   ],
   "source": [
    "np.sqrt(mean_squared_error(test[\"Exchange Rate TWI\"], test[\"naive_forecast\"]))"
   ]
  },
  {
   "cell_type": "code",
   "execution_count": 36,
   "id": "07001c74-b8ca-4c46-b284-caa7d0f49027",
   "metadata": {},
   "outputs": [
    {
     "data": {
      "text/plain": [
       "58.0059334405746"
      ]
     },
     "execution_count": 36,
     "metadata": {},
     "output_type": "execute_result"
    }
   ],
   "source": [
    "np.mean(abs(test[\"Exchange Rate TWI\"] - test[\"average_forecast\"])/test[\"Exchange Rate TWI\"]*100)"
   ]
  },
  {
   "cell_type": "code",
   "execution_count": 37,
   "id": "af372844-a180-4bce-a0da-8efa5eae565b",
   "metadata": {},
   "outputs": [
    {
     "data": {
      "text/plain": [
       "8.487960759343235"
      ]
     },
     "execution_count": 37,
     "metadata": {},
     "output_type": "execute_result"
    }
   ],
   "source": [
    "np.mean(abs(test[\"Exchange Rate TWI\"] - test[\"naive_forecast\"])/test[\"Exchange Rate TWI\"]*100)"
   ]
  },
  {
   "cell_type": "code",
   "execution_count": 64,
   "id": "42a2a97e-d217-43ab-9955-fa3eee88784e",
   "metadata": {},
   "outputs": [
    {
     "data": {
      "text/html": [
       "<div>\n",
       "<style scoped>\n",
       "    .dataframe tbody tr th:only-of-type {\n",
       "        vertical-align: middle;\n",
       "    }\n",
       "\n",
       "    .dataframe tbody tr th {\n",
       "        vertical-align: top;\n",
       "    }\n",
       "\n",
       "    .dataframe thead th {\n",
       "        text-align: right;\n",
       "    }\n",
       "</style>\n",
       "<table border=\"1\" class=\"dataframe\">\n",
       "  <thead>\n",
       "    <tr style=\"text-align: right;\">\n",
       "      <th></th>\n",
       "      <th>Month</th>\n",
       "      <th>Exchange Rate TWI</th>\n",
       "      <th>MovingAverage</th>\n",
       "    </tr>\n",
       "  </thead>\n",
       "  <tbody>\n",
       "    <tr>\n",
       "      <th>0</th>\n",
       "      <td>1</td>\n",
       "      <td>100.0</td>\n",
       "      <td>0.000000</td>\n",
       "    </tr>\n",
       "    <tr>\n",
       "      <th>1</th>\n",
       "      <td>2</td>\n",
       "      <td>99.6</td>\n",
       "      <td>0.000000</td>\n",
       "    </tr>\n",
       "    <tr>\n",
       "      <th>2</th>\n",
       "      <td>3</td>\n",
       "      <td>99.4</td>\n",
       "      <td>0.000000</td>\n",
       "    </tr>\n",
       "    <tr>\n",
       "      <th>3</th>\n",
       "      <td>4</td>\n",
       "      <td>99.1</td>\n",
       "      <td>0.000000</td>\n",
       "    </tr>\n",
       "    <tr>\n",
       "      <th>4</th>\n",
       "      <td>5</td>\n",
       "      <td>99.2</td>\n",
       "      <td>0.000000</td>\n",
       "    </tr>\n",
       "    <tr>\n",
       "      <th>...</th>\n",
       "      <td>...</td>\n",
       "      <td>...</td>\n",
       "      <td>...</td>\n",
       "    </tr>\n",
       "    <tr>\n",
       "      <th>299</th>\n",
       "      <td>300</td>\n",
       "      <td>49.6</td>\n",
       "      <td>53.441667</td>\n",
       "    </tr>\n",
       "    <tr>\n",
       "      <th>300</th>\n",
       "      <td>301</td>\n",
       "      <td>48.5</td>\n",
       "      <td>52.933333</td>\n",
       "    </tr>\n",
       "    <tr>\n",
       "      <th>301</th>\n",
       "      <td>302</td>\n",
       "      <td>48.4</td>\n",
       "      <td>52.550000</td>\n",
       "    </tr>\n",
       "    <tr>\n",
       "      <th>302</th>\n",
       "      <td>303</td>\n",
       "      <td>51.0</td>\n",
       "      <td>52.308333</td>\n",
       "    </tr>\n",
       "    <tr>\n",
       "      <th>303</th>\n",
       "      <td>304</td>\n",
       "      <td>53.9</td>\n",
       "      <td>52.308333</td>\n",
       "    </tr>\n",
       "  </tbody>\n",
       "</table>\n",
       "<p>304 rows × 3 columns</p>\n",
       "</div>"
      ],
      "text/plain": [
       "     Month  Exchange Rate TWI  MovingAverage\n",
       "0        1              100.0       0.000000\n",
       "1        2               99.6       0.000000\n",
       "2        3               99.4       0.000000\n",
       "3        4               99.1       0.000000\n",
       "4        5               99.2       0.000000\n",
       "..     ...                ...            ...\n",
       "299    300               49.6      53.441667\n",
       "300    301               48.5      52.933333\n",
       "301    302               48.4      52.550000\n",
       "302    303               51.0      52.308333\n",
       "303    304               53.9      52.308333\n",
       "\n",
       "[304 rows x 3 columns]"
      ]
     },
     "execution_count": 64,
     "metadata": {},
     "output_type": "execute_result"
    }
   ],
   "source": []
  },
  {
   "cell_type": "code",
   "execution_count": 66,
   "id": "c1c6cc0c-bcbf-42fb-9ce3-fe87166f254f",
   "metadata": {},
   "outputs": [],
   "source": []
  },
  {
   "cell_type": "markdown",
   "id": "7e56e0e1-834d-4919-8482-2fec446f0437",
   "metadata": {},
   "source": [
    "# moving average window"
   ]
  },
  {
   "cell_type": "code",
   "execution_count": 92,
   "id": "5c5a0313-abaa-4ccb-833a-dc934ac9561d",
   "metadata": {},
   "outputs": [],
   "source": [
    "test_len = 212\n",
    "ma_window = 12\n",
    "df[\"MovingAverage\"] = df[\"Exchange Rate TWI\"].rolling(ma_window).mean()\n",
    "df[\"MovingAverage\"][test_len:] = df[\"MovingAverage\"][test_len-1]"
   ]
  },
  {
   "cell_type": "code",
   "execution_count": 93,
   "id": "acb448ba-8242-45b0-a043-f241fac460ff",
   "metadata": {},
   "outputs": [],
   "source": [
    "import matplotlib.pyplot as plt"
   ]
  },
  {
   "cell_type": "code",
   "execution_count": 94,
   "id": "b3bd7d91-0a38-4659-8288-031e0f00e7e7",
   "metadata": {},
   "outputs": [
    {
     "data": {
      "text/html": [
       "<div>\n",
       "<style scoped>\n",
       "    .dataframe tbody tr th:only-of-type {\n",
       "        vertical-align: middle;\n",
       "    }\n",
       "\n",
       "    .dataframe tbody tr th {\n",
       "        vertical-align: top;\n",
       "    }\n",
       "\n",
       "    .dataframe thead th {\n",
       "        text-align: right;\n",
       "    }\n",
       "</style>\n",
       "<table border=\"1\" class=\"dataframe\">\n",
       "  <thead>\n",
       "    <tr style=\"text-align: right;\">\n",
       "      <th></th>\n",
       "      <th>Month</th>\n",
       "      <th>Exchange Rate TWI</th>\n",
       "    </tr>\n",
       "  </thead>\n",
       "  <tbody>\n",
       "    <tr>\n",
       "      <th>0</th>\n",
       "      <td>1</td>\n",
       "      <td>100.0</td>\n",
       "    </tr>\n",
       "    <tr>\n",
       "      <th>1</th>\n",
       "      <td>2</td>\n",
       "      <td>99.6</td>\n",
       "    </tr>\n",
       "    <tr>\n",
       "      <th>2</th>\n",
       "      <td>3</td>\n",
       "      <td>99.4</td>\n",
       "    </tr>\n",
       "    <tr>\n",
       "      <th>3</th>\n",
       "      <td>4</td>\n",
       "      <td>99.1</td>\n",
       "    </tr>\n",
       "    <tr>\n",
       "      <th>4</th>\n",
       "      <td>5</td>\n",
       "      <td>99.2</td>\n",
       "    </tr>\n",
       "    <tr>\n",
       "      <th>...</th>\n",
       "      <td>...</td>\n",
       "      <td>...</td>\n",
       "    </tr>\n",
       "    <tr>\n",
       "      <th>207</th>\n",
       "      <td>208</td>\n",
       "      <td>55.2</td>\n",
       "    </tr>\n",
       "    <tr>\n",
       "      <th>208</th>\n",
       "      <td>209</td>\n",
       "      <td>56.2</td>\n",
       "    </tr>\n",
       "    <tr>\n",
       "      <th>209</th>\n",
       "      <td>210</td>\n",
       "      <td>51.7</td>\n",
       "    </tr>\n",
       "    <tr>\n",
       "      <th>210</th>\n",
       "      <td>211</td>\n",
       "      <td>52.3</td>\n",
       "    </tr>\n",
       "    <tr>\n",
       "      <th>211</th>\n",
       "      <td>212</td>\n",
       "      <td>52.0</td>\n",
       "    </tr>\n",
       "  </tbody>\n",
       "</table>\n",
       "<p>212 rows × 2 columns</p>\n",
       "</div>"
      ],
      "text/plain": [
       "     Month  Exchange Rate TWI\n",
       "0        1              100.0\n",
       "1        2               99.6\n",
       "2        3               99.4\n",
       "3        4               99.1\n",
       "4        5               99.2\n",
       "..     ...                ...\n",
       "207    208               55.2\n",
       "208    209               56.2\n",
       "209    210               51.7\n",
       "210    211               52.3\n",
       "211    212               52.0\n",
       "\n",
       "[212 rows x 2 columns]"
      ]
     },
     "execution_count": 94,
     "metadata": {},
     "output_type": "execute_result"
    }
   ],
   "source": [
    "train"
   ]
  },
  {
   "cell_type": "code",
   "execution_count": 95,
   "id": "4d9e0a06-6af9-43b0-a021-a2253a3ef8b4",
   "metadata": {},
   "outputs": [
    {
     "data": {
      "image/png": "[encoded data removed]",
      "text/plain": [
       "<Figure size 1200x400 with 1 Axes>"
      ]
     },
     "metadata": {},
     "output_type": "display_data"
    }
   ],
   "source": [
    "plt.figure(figsize=(12,4))\n",
    "plt.plot(train[\"Exchange Rate TWI\"])\n",
    "plt.plot(test[\"Exchange Rate TWI\"])\n",
    "plt.plot(df[\"MovingAverage\"])\n",
    "plt.show()"
   ]
  },
  {
   "cell_type": "code",
   "execution_count": 96,
   "id": "f0c8341a-38ce-4fc4-98d1-d3a587f61774",
   "metadata": {},
   "outputs": [
    {
     "data": {
      "text/plain": [
       "4.661162968336478"
      ]
     },
     "execution_count": 96,
     "metadata": {},
     "output_type": "execute_result"
    }
   ],
   "source": [
    "np.sqrt(mean_squared_error(df[test_len:][\"Exchange Rate TWI\"], df[test_len:][\"MovingAverage\"]))"
   ]
  },
  {
   "cell_type": "code",
   "execution_count": 85,
   "id": "d4d66a3c-39df-43d7-ab7b-4c48f2f56d72",
   "metadata": {},
   "outputs": [],
   "source": [
    "#12 -> 4.6, 6.95\n",
    "#6 -> 4.9, 7.12\n",
    "#3 -> 5.9, 8.4"
   ]
  },
  {
   "cell_type": "code",
   "execution_count": 97,
   "id": "8421d78f-32e3-4595-ae4b-1ca5832cb6e6",
   "metadata": {},
   "outputs": [
    {
     "data": {
      "text/plain": [
       "6.955649673633229"
      ]
     },
     "execution_count": 97,
     "metadata": {},
     "output_type": "execute_result"
    }
   ],
   "source": [
    "np.mean(abs(df[test_len:][\"Exchange Rate TWI\"] - df[test_len:][\"MovingAverage\"])/df[test_len:][\"Exchange Rate TWI\"]*100)"
   ]
  }
 ],
 "metadata": {
  "kernelspec": {
   "display_name": "Python 3 (ipykernel)",
   "language": "python",
   "name": "python3"
  },
  "language_info": {
   "codemirror_mode": {
    "name": "ipython",
    "version": 3
   },
   "file_extension": ".py",
   "mimetype": "text/x-python",
   "name": "python",
   "nbconvert_exporter": "python",
   "pygments_lexer": "ipython3",
   "version": "3.11.4"
  }
 },
 "nbformat": 4,
 "nbformat_minor": 5
}
