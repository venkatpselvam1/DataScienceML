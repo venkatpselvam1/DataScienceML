{
 "cells": [
  {
   "cell_type": "code",
   "execution_count": 1,
   "id": "10facc84-9ed9-4c80-a8e4-3f3adf3f5997",
   "metadata": {},
   "outputs": [],
   "source": [
    "import pandas as pd\n",
    "import numpy as np\n",
    "import matplotlib.pyplot as plt\n",
    "import warnings\n",
    "warnings.filterwarnings('ignore')"
   ]
  },
  {
   "cell_type": "code",
   "execution_count": 2,
   "id": "4a7b71a2-ae98-4315-afae-65c769063c6a",
   "metadata": {},
   "outputs": [],
   "source": [
    "df = pd.read_csv(\"exchange-rate-twi.csv\")"
   ]
  },
  {
   "cell_type": "code",
   "execution_count": 30,
   "id": "62cb3cbb-b5a9-48ec-9326-957db2c49058",
   "metadata": {},
   "outputs": [
    {
     "data": {
      "text/html": [
       "<div>\n",
       "<style scoped>\n",
       "    .dataframe tbody tr th:only-of-type {\n",
       "        vertical-align: middle;\n",
       "    }\n",
       "\n",
       "    .dataframe tbody tr th {\n",
       "        vertical-align: top;\n",
       "    }\n",
       "\n",
       "    .dataframe thead th {\n",
       "        text-align: right;\n",
       "    }\n",
       "</style>\n",
       "<table border=\"1\" class=\"dataframe\">\n",
       "  <thead>\n",
       "    <tr style=\"text-align: right;\">\n",
       "      <th></th>\n",
       "      <th>Exchange Rate TWI</th>\n",
       "    </tr>\n",
       "    <tr>\n",
       "      <th>Month</th>\n",
       "      <th></th>\n",
       "    </tr>\n",
       "  </thead>\n",
       "  <tbody>\n",
       "    <tr>\n",
       "      <th>1</th>\n",
       "      <td>100.0</td>\n",
       "    </tr>\n",
       "    <tr>\n",
       "      <th>2</th>\n",
       "      <td>99.6</td>\n",
       "    </tr>\n",
       "    <tr>\n",
       "      <th>3</th>\n",
       "      <td>99.4</td>\n",
       "    </tr>\n",
       "    <tr>\n",
       "      <th>4</th>\n",
       "      <td>99.1</td>\n",
       "    </tr>\n",
       "    <tr>\n",
       "      <th>5</th>\n",
       "      <td>99.2</td>\n",
       "    </tr>\n",
       "    <tr>\n",
       "      <th>...</th>\n",
       "      <td>...</td>\n",
       "    </tr>\n",
       "    <tr>\n",
       "      <th>300</th>\n",
       "      <td>49.6</td>\n",
       "    </tr>\n",
       "    <tr>\n",
       "      <th>301</th>\n",
       "      <td>48.5</td>\n",
       "    </tr>\n",
       "    <tr>\n",
       "      <th>302</th>\n",
       "      <td>48.4</td>\n",
       "    </tr>\n",
       "    <tr>\n",
       "      <th>303</th>\n",
       "      <td>51.0</td>\n",
       "    </tr>\n",
       "    <tr>\n",
       "      <th>304</th>\n",
       "      <td>53.9</td>\n",
       "    </tr>\n",
       "  </tbody>\n",
       "</table>\n",
       "<p>304 rows × 1 columns</p>\n",
       "</div>"
      ],
      "text/plain": [
       "       Exchange Rate TWI\n",
       "Month                   \n",
       "1                  100.0\n",
       "2                   99.6\n",
       "3                   99.4\n",
       "4                   99.1\n",
       "5                   99.2\n",
       "...                  ...\n",
       "300                 49.6\n",
       "301                 48.5\n",
       "302                 48.4\n",
       "303                 51.0\n",
       "304                 53.9\n",
       "\n",
       "[304 rows x 1 columns]"
      ]
     },
     "execution_count": 30,
     "metadata": {},
     "output_type": "execute_result"
    }
   ],
   "source": [
    "df.set_index('Month')"
   ]
  },
  {
   "cell_type": "code",
   "execution_count": 31,
   "id": "e56eee18-36b3-4a7d-9d85-f4bc0347990e",
   "metadata": {},
   "outputs": [
    {
     "data": {
      "text/html": [
       "<div>\n",
       "<style scoped>\n",
       "    .dataframe tbody tr th:only-of-type {\n",
       "        vertical-align: middle;\n",
       "    }\n",
       "\n",
       "    .dataframe tbody tr th {\n",
       "        vertical-align: top;\n",
       "    }\n",
       "\n",
       "    .dataframe thead th {\n",
       "        text-align: right;\n",
       "    }\n",
       "</style>\n",
       "<table border=\"1\" class=\"dataframe\">\n",
       "  <thead>\n",
       "    <tr style=\"text-align: right;\">\n",
       "      <th></th>\n",
       "      <th>Month</th>\n",
       "      <th>Exchange Rate TWI</th>\n",
       "    </tr>\n",
       "  </thead>\n",
       "  <tbody>\n",
       "    <tr>\n",
       "      <th>0</th>\n",
       "      <td>1</td>\n",
       "      <td>100.0</td>\n",
       "    </tr>\n",
       "    <tr>\n",
       "      <th>1</th>\n",
       "      <td>2</td>\n",
       "      <td>99.6</td>\n",
       "    </tr>\n",
       "    <tr>\n",
       "      <th>2</th>\n",
       "      <td>3</td>\n",
       "      <td>99.4</td>\n",
       "    </tr>\n",
       "    <tr>\n",
       "      <th>3</th>\n",
       "      <td>4</td>\n",
       "      <td>99.1</td>\n",
       "    </tr>\n",
       "    <tr>\n",
       "      <th>4</th>\n",
       "      <td>5</td>\n",
       "      <td>99.2</td>\n",
       "    </tr>\n",
       "  </tbody>\n",
       "</table>\n",
       "</div>"
      ],
      "text/plain": [
       "   Month  Exchange Rate TWI\n",
       "0      1              100.0\n",
       "1      2               99.6\n",
       "2      3               99.4\n",
       "3      4               99.1\n",
       "4      5               99.2"
      ]
     },
     "execution_count": 31,
     "metadata": {},
     "output_type": "execute_result"
    }
   ],
   "source": [
    "df.head()"
   ]
  },
  {
   "cell_type": "code",
   "execution_count": 32,
   "id": "63416049-66b3-4ddd-893d-88200e028356",
   "metadata": {},
   "outputs": [
    {
     "data": {
      "image/png": "[encoded data removed]",
      "text/plain": [
       "<Figure size 1500x400 with 1 Axes>"
      ]
     },
     "metadata": {},
     "output_type": "display_data"
    }
   ],
   "source": [
    "plt.figure(figsize=(15,4))\n",
    "plt.plot(df[\"Exchange Rate TWI\"])\n",
    "plt.show()"
   ]
  },
  {
   "cell_type": "markdown",
   "id": "de3e352c-56c7-4188-a6ec-715d715291b8",
   "metadata": {},
   "source": [
    "## KPSS Test - It test if the timeseries is stationary"
   ]
  },
  {
   "cell_type": "code",
   "execution_count": 33,
   "id": "29a1761f-ce9e-4d23-9241-22d2046fe366",
   "metadata": {},
   "outputs": [],
   "source": [
    "from statsmodels.tsa.stattools import kpss"
   ]
  },
  {
   "cell_type": "code",
   "execution_count": 34,
   "id": "6c07b604-4657-4884-9196-5fddae8d5663",
   "metadata": {},
   "outputs": [
    {
     "name": "stdout",
     "output_type": "stream",
     "text": [
      "KPSS statistics  2.614489204070995\n",
      "Crtitcal value @ 0.05 0.463\n",
      "P-Value  0.01\n"
     ]
    },
    {
     "name": "stderr",
     "output_type": "stream",
     "text": [
      "/tmp/ipykernel_7997/3049341727.py:1: InterpolationWarning: The test statistic is outside of the range of p-values available in the\n",
      "look-up table. The actual p-value is smaller than the p-value returned.\n",
      "\n",
      "  kpss_model = kpss(df[\"Exchange Rate TWI\"])\n"
     ]
    }
   ],
   "source": [
    "kpss_model = kpss(df[\"Exchange Rate TWI\"])\n",
    "print(\"KPSS statistics \", kpss_model[0])\n",
    "print(\"Crtitcal value @ 0.05\", kpss_model[3]['5%'])\n",
    "print(\"P-Value \", kpss_model[1])"
   ]
  },
  {
   "cell_type": "code",
   "execution_count": 37,
   "id": "13f93b25-3b33-491d-ab50-5cbe46d2fc8d",
   "metadata": {},
   "outputs": [
    {
     "data": {
      "text/plain": [
       "(2.614489204070995,\n",
       " 0.01,\n",
       " 10,\n",
       " {'10%': 0.347, '5%': 0.463, '2.5%': 0.574, '1%': 0.739})"
      ]
     },
     "execution_count": 37,
     "metadata": {},
     "output_type": "execute_result"
    }
   ],
   "source": [
    "kpss_model"
   ]
  },
  {
   "cell_type": "markdown",
   "id": "317e3354-8051-4935-8f81-8c29e60df7f5",
   "metadata": {},
   "source": [
    "# Augmented Dickey-Fuller (ADF) Test\n",
    "- It test if the timeseries is not stationary"
   ]
  },
  {
   "cell_type": "code",
   "execution_count": 35,
   "id": "fef8b835-8864-4c0f-9667-4b01a7d472b4",
   "metadata": {},
   "outputs": [],
   "source": [
    "from statsmodels.tsa.stattools import adfuller"
   ]
  },
  {
   "cell_type": "code",
   "execution_count": 36,
   "id": "6735cbd0-651f-4519-8d30-db8f987e3409",
   "metadata": {},
   "outputs": [
    {
     "name": "stdout",
     "output_type": "stream",
     "text": [
      "ADF statistics  -0.8054678720541536\n",
      "Crtitcal value @ 0.05 -2.8711265007266666\n",
      "P-Value  0.817510642668505\n"
     ]
    }
   ],
   "source": [
    "adfuller_model = adfuller(df[\"Exchange Rate TWI\"])\n",
    "print(\"ADF statistics \", adfuller_model[0])\n",
    "print(\"Crtitcal value @ 0.05\", adfuller_model[4]['5%'])\n",
    "print(\"P-Value \", adfuller_model[1])"
   ]
  }
 ],
 "metadata": {
  "kernelspec": {
   "display_name": "Python 3 (ipykernel)",
   "language": "python",
   "name": "python3"
  },
  "language_info": {
   "codemirror_mode": {
    "name": "ipython",
    "version": 3
   },
   "file_extension": ".py",
   "mimetype": "text/x-python",
   "name": "python",
   "nbconvert_exporter": "python",
   "pygments_lexer": "ipython3",
   "version": "3.11.4"
  }
 },
 "nbformat": 4,
 "nbformat_minor": 5
}
