{
 "cells": [
  {
   "cell_type": "markdown",
   "id": "b14c77a8-163e-469b-b078-6717154c558f",
   "metadata": {},
   "source": [
    "### import data and create x and Y"
   ]
  },
  {
   "cell_type": "code",
   "execution_count": 7,
   "id": "63714495-d8e0-45bd-9bf4-a0688ff861a0",
   "metadata": {},
   "outputs": [],
   "source": [
    "import tensorflow as tf\n",
    "import pandas as pd\n",
    "import numpy as np\n",
    "from sklearn.preprocessing import StandardScaler\n",
    "from sklearn.metrics import accuracy_score"
   ]
  },
  {
   "cell_type": "code",
   "execution_count": 18,
   "id": "d9171366-df63-4801-97a8-80fd8cdcd914",
   "metadata": {},
   "outputs": [],
   "source": [
    "df = pd.read_csv(\"house_price_full.csv\")"
   ]
  },
  {
   "cell_type": "code",
   "execution_count": 9,
   "id": "68011cf9-1902-4457-8aac-09da9678bf68",
   "metadata": {},
   "outputs": [
    {
     "data": {
      "text/html": [
       "<div>\n",
       "<style scoped>\n",
       "    .dataframe tbody tr th:only-of-type {\n",
       "        vertical-align: middle;\n",
       "    }\n",
       "\n",
       "    .dataframe tbody tr th {\n",
       "        vertical-align: top;\n",
       "    }\n",
       "\n",
       "    .dataframe thead th {\n",
       "        text-align: right;\n",
       "    }\n",
       "</style>\n",
       "<table border=\"1\" class=\"dataframe\">\n",
       "  <thead>\n",
       "    <tr style=\"text-align: right;\">\n",
       "      <th></th>\n",
       "      <th>bedrooms</th>\n",
       "      <th>sqft_living</th>\n",
       "      <th>price</th>\n",
       "    </tr>\n",
       "  </thead>\n",
       "  <tbody>\n",
       "    <tr>\n",
       "      <th>0</th>\n",
       "      <td>3</td>\n",
       "      <td>1340</td>\n",
       "      <td>313000</td>\n",
       "    </tr>\n",
       "    <tr>\n",
       "      <th>1</th>\n",
       "      <td>5</td>\n",
       "      <td>3650</td>\n",
       "      <td>2384000</td>\n",
       "    </tr>\n",
       "    <tr>\n",
       "      <th>2</th>\n",
       "      <td>3</td>\n",
       "      <td>1930</td>\n",
       "      <td>342000</td>\n",
       "    </tr>\n",
       "    <tr>\n",
       "      <th>3</th>\n",
       "      <td>3</td>\n",
       "      <td>2000</td>\n",
       "      <td>420000</td>\n",
       "    </tr>\n",
       "    <tr>\n",
       "      <th>4</th>\n",
       "      <td>4</td>\n",
       "      <td>1940</td>\n",
       "      <td>550000</td>\n",
       "    </tr>\n",
       "  </tbody>\n",
       "</table>\n",
       "</div>"
      ],
      "text/plain": [
       "   bedrooms  sqft_living    price\n",
       "0         3         1340   313000\n",
       "1         5         3650  2384000\n",
       "2         3         1930   342000\n",
       "3         3         2000   420000\n",
       "4         4         1940   550000"
      ]
     },
     "execution_count": 9,
     "metadata": {},
     "output_type": "execute_result"
    }
   ],
   "source": [
    "df.head()"
   ]
  },
  {
   "cell_type": "code",
   "execution_count": 19,
   "id": "c8be618f-cf01-4f5c-a733-7ad5f8501e36",
   "metadata": {},
   "outputs": [],
   "source": [
    "Y = df.pop('price')\n",
    "x = df"
   ]
  },
  {
   "cell_type": "code",
   "execution_count": 20,
   "id": "7a5f304c-c81f-4817-951e-781d525e2dcd",
   "metadata": {},
   "outputs": [
    {
     "name": "stdout",
     "output_type": "stream",
     "text": [
      "(499, 2) (499,)\n"
     ]
    }
   ],
   "source": [
    "print(x.shape, Y.shape)"
   ]
  },
  {
   "cell_type": "code",
   "execution_count": 26,
   "id": "76074fbc-2e3b-4cde-a3ad-9833ee331625",
   "metadata": {},
   "outputs": [],
   "source": [
    "Y_scaled = np.log(Y)\n",
    "scaler = StandardScaler()\n",
    "x_scaled = scaler.fit_transform(x)\n",
    "df_scaled = pd.DataFrame(x_scaled)"
   ]
  },
  {
   "cell_type": "code",
   "execution_count": 31,
   "id": "f4653371-5c22-4ac3-9063-48ae04cdf2ee",
   "metadata": {},
   "outputs": [],
   "source": [
    "x1, x2 = df_scaled.iloc[0]"
   ]
  },
  {
   "cell_type": "markdown",
   "id": "d6c91414-eecf-4c63-98b1-7de06c50ecd8",
   "metadata": {},
   "source": [
    "### pass the inputs x1, x2 to single neuron"
   ]
  },
  {
   "cell_type": "code",
   "execution_count": 40,
   "id": "b42852d2-877c-4fe2-a757-a3df844319bb",
   "metadata": {},
   "outputs": [],
   "source": [
    "# w1 * x1 + w2 * x2 + b = z\n",
    "# h = activationFunction(z)\n",
    "w1 = tf.Variable([0.2])\n",
    "w2 = tf.Variable([0.15])\n",
    "b = tf.Variable([0.1])"
   ]
  },
  {
   "cell_type": "code",
   "execution_count": 43,
   "id": "8cef5713-158c-4dbb-bde2-84bbab28937e",
   "metadata": {},
   "outputs": [
    {
     "data": {
      "text/plain": [
       "<tf.Tensor: shape=(1,), dtype=float32, numpy=array([0.47511354], dtype=float32)>"
      ]
     },
     "execution_count": 43,
     "metadata": {},
     "output_type": "execute_result"
    }
   ],
   "source": [
    "z = b + w1 * x1 + w2 * x2\n",
    "h = tf.math.sigmoid(z)\n",
    "h"
   ]
  },
  {
   "cell_type": "markdown",
   "id": "cbdee0f6-519a-4ca0-9668-90669b2a7ef6",
   "metadata": {},
   "source": [
    "### Pass the inputs x1 and x2 to multiple neurons in two layers"
   ]
  },
  {
   "cell_type": "code",
   "execution_count": 44,
   "id": "8e5c9d5e-a334-4a90-8619-109b5805ef00",
   "metadata": {},
   "outputs": [],
   "source": [
    "#input -> layer 1 -> layer 2\n",
    "# layer1 = [neuron1, neuron2]\n",
    "# layer2 = [neuron3]"
   ]
  },
  {
   "cell_type": "code",
   "execution_count": 51,
   "id": "2c4b9626-fad7-415e-819d-adfac6f8643e",
   "metadata": {},
   "outputs": [],
   "source": [
    "w11 = tf.Variable([0.2])\n",
    "w12 = tf.Variable([0.15])\n",
    "b1 = tf.Variable([0.1])"
   ]
  },
  {
   "cell_type": "code",
   "execution_count": 54,
   "id": "29ae8929-49ef-47c3-ab1b-f19b6488109c",
   "metadata": {},
   "outputs": [
    {
     "data": {
      "text/plain": [
       "<tf.Tensor: shape=(1,), dtype=float32, numpy=array([0.47511354], dtype=float32)>"
      ]
     },
     "execution_count": 54,
     "metadata": {},
     "output_type": "execute_result"
    }
   ],
   "source": [
    "z1 = b1 + w11 * x1 + w12 * x2\n",
    "h1 =  tf.math.sigmoid(z1)\n",
    "h1"
   ]
  },
  {
   "cell_type": "code",
   "execution_count": 49,
   "id": "eba218d6-fc18-416c-9a21-fc1844850c94",
   "metadata": {},
   "outputs": [],
   "source": [
    "w21 = tf.Variable([0.5])\n",
    "w22 = tf.Variable([0.6])\n",
    "b2 = tf.Variable([0.25])"
   ]
  },
  {
   "cell_type": "code",
   "execution_count": 55,
   "id": "b58aea5f-e849-4999-940b-06e7efc8ebb1",
   "metadata": {},
   "outputs": [
    {
     "data": {
      "text/plain": [
       "<tf.Tensor: shape=(1,), dtype=float32, numpy=array([0.39686295], dtype=float32)>"
      ]
     },
     "execution_count": 55,
     "metadata": {},
     "output_type": "execute_result"
    }
   ],
   "source": [
    "z2 = b2 + w21 * x1 + w22 * x2\n",
    "h2 =  tf.math.sigmoid(z2)\n",
    "h2"
   ]
  },
  {
   "cell_type": "code",
   "execution_count": 57,
   "id": "7c9219e5-c04c-4991-8848-c3e5bfb8add6",
   "metadata": {},
   "outputs": [],
   "source": [
    "w31 = tf.Variable([0.3])\n",
    "w32 = tf.Variable([0.2])\n",
    "b3 = tf.Variable([0.4])"
   ]
  },
  {
   "cell_type": "code",
   "execution_count": 75,
   "id": "f70d7488-d759-4416-ab5d-66c173ba420a",
   "metadata": {},
   "outputs": [
    {
     "data": {
      "text/plain": [
       "<tf.Tensor: shape=(1,), dtype=float32, numpy=array([0.62190664], dtype=float32)>"
      ]
     },
     "execution_count": 75,
     "metadata": {},
     "output_type": "execute_result"
    }
   ],
   "source": [
    "z3 = b3 + w31 * h1 + w32 * h2\n",
    "#h3 =  tf.math.sigmoid(z3)\n",
    "h3 = z3\n",
    "h3"
   ]
  },
  {
   "cell_type": "code",
   "execution_count": 76,
   "id": "745e0e7f-b7f0-4465-8468-4803dcca51ac",
   "metadata": {},
   "outputs": [
    {
     "data": {
      "text/plain": [
       "array([72.38514], dtype=float32)"
      ]
     },
     "execution_count": 76,
     "metadata": {},
     "output_type": "execute_result"
    }
   ],
   "source": [
    "y_true = Y_scaled[0]\n",
    "y_pred = h3.numpy()\n",
    "0.5*(y_true-y_pred)**2"
   ]
  },
  {
   "cell_type": "markdown",
   "id": "f75f597c-5c1f-440a-991f-b20d285de0f0",
   "metadata": {},
   "source": [
    "### Forward pass matrix multiplication"
   ]
  },
  {
   "cell_type": "code",
   "execution_count": null,
   "id": "1395ab08-8fb9-44c3-9816-f41afe758d70",
   "metadata": {},
   "outputs": [],
   "source": [
    "### W * X + B = Z\n",
    "### h = activationFunction(Z)"
   ]
  },
  {
   "cell_type": "code",
   "execution_count": null,
   "id": "d5e5a3f1-be4e-41d0-8b97-0070e771107f",
   "metadata": {},
   "outputs": [],
   "source": [
    "#input -> layer 1 -> layer 2\n",
    "# layer1 = [neuron1, neuron2]\n",
    "# layer2 = [neuron3]"
   ]
  },
  {
   "cell_type": "code",
   "execution_count": null,
   "id": "45c90e8d-c3f4-41cb-919b-1f87d2b8a012",
   "metadata": {},
   "outputs": [],
   "source": [
    "X = tf.constant([[x1], [x2]])"
   ]
  },
  {
   "cell_type": "code",
   "execution_count": 85,
   "id": "0a66e81c-46e6-49b9-801f-380eb1d33673",
   "metadata": {},
   "outputs": [
    {
     "data": {
      "text/plain": [
       "<tf.Tensor: shape=(2, 1), dtype=float32, numpy=\n",
       "array([[0.47511354],\n",
       "       [0.39686295]], dtype=float32)>"
      ]
     },
     "execution_count": 85,
     "metadata": {},
     "output_type": "execute_result"
    }
   ],
   "source": [
    "W1 = tf.Variable([[0.2, 0.15], [0.5, 0.6]])\n",
    "B1 = tf.Variable([[0.1],[0.25]])\n",
    "Z1 = tf.matmul(W1, X) + B1\n",
    "H1 = tf.math.sigmoid(Z1)\n",
    "H1"
   ]
  },
  {
   "cell_type": "code",
   "execution_count": 88,
   "id": "5e85c2a2-3516-410a-84fd-2c21f637489c",
   "metadata": {},
   "outputs": [
    {
     "data": {
      "text/plain": [
       "<tf.Tensor: shape=(1, 1), dtype=float32, numpy=array([[0.62190664]], dtype=float32)>"
      ]
     },
     "execution_count": 88,
     "metadata": {},
     "output_type": "execute_result"
    }
   ],
   "source": [
    "W2 = tf.Variable([[0.3, 0.2]])\n",
    "B2 = tf.Variable([[0.4]])\n",
    "Z2 = tf.matmul(W2, H1) + B2\n",
    "Z2"
   ]
  },
  {
   "cell_type": "code",
   "execution_count": 92,
   "id": "36b0efae-a8b7-4119-b791-a3e9019b8a37",
   "metadata": {},
   "outputs": [
    {
     "name": "stdout",
     "output_type": "stream",
     "text": [
      "[[72.38514]]\n"
     ]
    }
   ],
   "source": [
    "y_true = Y_scaled[0]\n",
    "y_pred = Z2.numpy()\n",
    "loss = 0.5*(y_true-y_pred)**2\n",
    "print(loss)"
   ]
  },
  {
   "cell_type": "markdown",
   "id": "0ef7d839-1daa-4e2e-a34d-7bf2c416cda2",
   "metadata": {},
   "source": [
    "### Random Init Weights: Forward pass matrix multiplication"
   ]
  },
  {
   "cell_type": "code",
   "execution_count": 130,
   "id": "9446d6cd-96c3-42b1-935d-f20b0972f9ca",
   "metadata": {},
   "outputs": [],
   "source": [
    "def get_random_init():\n",
    "    W1 = tf.Variable( tf.random.uniform((2, 2)) )\n",
    "    W2 = tf.Variable( tf.random.uniform((1, 2)) )\n",
    "    B1 = tf.Variable( tf.random.uniform((2, 1)) )\n",
    "    B2 = tf.Variable( tf.random.uniform((1, 1)) )\n",
    "    return W1, B1, W2, B2"
   ]
  },
  {
   "cell_type": "code",
   "execution_count": 135,
   "id": "d5a23b8c-d313-45ff-880e-6b6c5cd75cbb",
   "metadata": {},
   "outputs": [],
   "source": [
    "x = tf.constant([[x1], [x2]], dtype=tf.float32)\n",
    "y_true = Y_scaled[0]\n",
    "W1, B1, W2, B2 = get_random_init()"
   ]
  },
  {
   "cell_type": "code",
   "execution_count": 132,
   "id": "c41f5e75-4ff5-4a00-bbb6-8a1a6839d8ca",
   "metadata": {},
   "outputs": [],
   "source": [
    "def forward_pass(x, W1, B1, W2, B2):\n",
    "    H1 = tf.math.sigmoid(tf.matmul(W1, x) + B1)\n",
    "    Z2 = tf.matmul(W2, H1) + B2\n",
    "    return Z2"
   ]
  },
  {
   "cell_type": "code",
   "execution_count": 136,
   "id": "123a208c-d3cc-4697-b2fb-0661ec43f7af",
   "metadata": {},
   "outputs": [],
   "source": [
    "y_pred = forward_pass(x, W1, B1, W2, B2)"
   ]
  },
  {
   "cell_type": "code",
   "execution_count": 137,
   "id": "c0b0b763-2eec-42ec-8d1c-5f1b86d38721",
   "metadata": {},
   "outputs": [
    {
     "name": "stdout",
     "output_type": "stream",
     "text": [
      "The MSE error is tf.Tensor([[67.77809]], shape=(1, 1), dtype=float32)\n"
     ]
    }
   ],
   "source": [
    "#loss\n",
    "L = 0.5*(y_true - y_pred)**2\n",
    "print(\"The MSE error is\",L)"
   ]
  },
  {
   "cell_type": "markdown",
   "id": "7d567c8b-269a-4809-9d93-c015e3e027e6",
   "metadata": {},
   "source": [
    "## Backward propogation"
   ]
  },
  {
   "cell_type": "markdown",
   "id": "4cc20af5-3ad1-49d6-ab90-5dd66db69bb0",
   "metadata": {},
   "source": [
    "## Part6: Backpropagation\n",
    "\n",
    "Find the value of x that minimises $y = x^2+4x$\n",
    "\n",
    "Gradient descent update equation\n",
    "\n",
    "$x_{new} := x_{old}-\\eta\\frac{dy}{dx}$"
   ]
  },
  {
   "cell_type": "code",
   "execution_count": 139,
   "id": "2cbb1e4a-e1cd-4463-9718-8f0127c6c783",
   "metadata": {},
   "outputs": [],
   "source": [
    "x = tf.Variable([0.0])\n",
    "lr = eta = 0.1"
   ]
  },
  {
   "cell_type": "code",
   "execution_count": 143,
   "id": "4132cb59-f28c-4b97-8351-62c53e7ef0fb",
   "metadata": {},
   "outputs": [],
   "source": [
    "with tf.GradientTape() as tape:\n",
    "    y = x**2+4*x\n",
    "grad = tape.gradient(y, x)"
   ]
  },
  {
   "cell_type": "code",
   "execution_count": 144,
   "id": "ecacaec9-5207-48ae-b6b3-30c633d4ea89",
   "metadata": {},
   "outputs": [
    {
     "data": {
      "text/plain": [
       "array([4.], dtype=float32)"
      ]
     },
     "execution_count": 144,
     "metadata": {},
     "output_type": "execute_result"
    }
   ],
   "source": [
    "grad.numpy()"
   ]
  },
  {
   "cell_type": "code",
   "execution_count": 145,
   "id": "2a99dc6f-8f92-45d4-a3ff-ff69b810b70a",
   "metadata": {},
   "outputs": [
    {
     "data": {
      "text/plain": [
       "<tf.Variable 'UnreadVariable' shape=(1,) dtype=float32, numpy=array([-0.4], dtype=float32)>"
      ]
     },
     "execution_count": 145,
     "metadata": {},
     "output_type": "execute_result"
    }
   ],
   "source": [
    "x.assign_sub(lr*grad)##x(new) = x(old)-dy/dx*lr"
   ]
  },
  {
   "cell_type": "code",
   "execution_count": 146,
   "id": "f80abe40-00e1-4944-aa8f-69a52a55808d",
   "metadata": {},
   "outputs": [
    {
     "data": {
      "text/plain": [
       "array([-0.4], dtype=float32)"
      ]
     },
     "execution_count": 146,
     "metadata": {},
     "output_type": "execute_result"
    }
   ],
   "source": [
    "x.numpy()"
   ]
  },
  {
   "cell_type": "markdown",
   "id": "eef03f90-6d4e-4852-b14a-a3b632a0f2a5",
   "metadata": {},
   "source": [
    "### for loop for x "
   ]
  },
  {
   "cell_type": "code",
   "execution_count": 149,
   "id": "5891b082-bf66-4e3f-bd06-1598799c5430",
   "metadata": {},
   "outputs": [
    {
     "name": "stdout",
     "output_type": "stream",
     "text": [
      "-0.4\n",
      "-0.72\n",
      "-0.9760001\n",
      "-1.1808001\n",
      "-1.34464\n",
      "-1.4757121\n",
      "-1.5805696\n",
      "-1.6644557\n",
      "-1.7315645\n",
      "-1.7852516\n"
     ]
    }
   ],
   "source": [
    "x = tf.Variable(0.0)\n",
    "lr = eta = 0.1\n",
    "for i in range(10):\n",
    "    with tf.GradientTape() as tape:\n",
    "        y = x**2+4*x\n",
    "    grad = tape.gradient(y, x)\n",
    "    x.assign_sub(lr*grad)\n",
    "    print(x.numpy())"
   ]
  },
  {
   "cell_type": "code",
   "execution_count": 168,
   "id": "f6552d7c-692a-486b-a76a-784d3a4dbc16",
   "metadata": {},
   "outputs": [],
   "source": [
    "x = tf.constant([[x1], [x2]], dtype=tf.float32)\n",
    "y_true = Y_scaled[0]\n",
    "def get_random_init():\n",
    "    W1 = tf.Variable( tf.random.uniform((2, 2)) )\n",
    "    W2 = tf.Variable( tf.random.uniform((1, 2)) )\n",
    "    B1 = tf.Variable( tf.random.uniform((2, 1)) )\n",
    "    B2 = tf.Variable( tf.random.uniform((1, 1)) )\n",
    "    return W1, B1, W2, B2\n",
    "    \n",
    "def forward_pass(x, W1, B1, W2, B2):\n",
    "    H1 = tf.math.sigmoid(tf.matmul(W1, x) + B1)\n",
    "    Z2 = tf.matmul(W2, H1) + B2\n",
    "    return Z2"
   ]
  },
  {
   "cell_type": "code",
   "execution_count": 169,
   "id": "206a7112-3fc2-4872-aba2-104e6699b50a",
   "metadata": {},
   "outputs": [],
   "source": [
    "w1,b1,w2,b2 = get_random_init()"
   ]
  },
  {
   "cell_type": "code",
   "execution_count": 170,
   "id": "9e2b138a-9859-4598-afc6-25a4976b8d7e",
   "metadata": {},
   "outputs": [],
   "source": [
    "with tf.GradientTape() as tape:\n",
    "    y_pred = forward_pass(x, w1, b1, w2, b2)\n",
    "    loss = 0.5 * (y_true - y_pred) ** 2"
   ]
  },
  {
   "cell_type": "code",
   "execution_count": 171,
   "id": "3d4f900c-c699-4e5d-9c4a-7dd752ad631c",
   "metadata": {},
   "outputs": [],
   "source": [
    "gw1, gb1, gw2, gb2 = tape.gradient(loss, [w1, b1, w2, b2])"
   ]
  },
  {
   "cell_type": "code",
   "execution_count": 172,
   "id": "51307f9d-7666-4f8c-8a34-2f2ea65aafbb",
   "metadata": {},
   "outputs": [
    {
     "name": "stdout",
     "output_type": "stream",
     "text": [
      "[[0.9491257  1.6503693 ]\n",
      " [0.22500665 0.39124855]]\n",
      "[[-2.1909761 ]\n",
      " [-0.51940876]]\n",
      "[[-5.326065  -5.9763613]]\n",
      "[[-11.208692]]\n"
     ]
    }
   ],
   "source": [
    "print(gw1.numpy(), gb1.numpy(), gw2.numpy(), gb2.numpy(), sep=\"\\n\")"
   ]
  },
  {
   "cell_type": "code",
   "execution_count": 173,
   "id": "2d0c1f48-2629-4649-b3b7-7de2e40fa70c",
   "metadata": {},
   "outputs": [
    {
     "name": "stdout",
     "output_type": "stream",
     "text": [
      "[[0.4987179  0.9717995 ]\n",
      " [0.68403935 0.7546501 ]]\n",
      "[[0.848668  ]\n",
      " [0.99772525]]\n",
      "[[0.7838173  0.18617964]]\n",
      "[[0.973549]]\n"
     ]
    }
   ],
   "source": [
    "print(w1.numpy(), b1.numpy(), w2.numpy(), b2.numpy(), sep=\"\\n\")"
   ]
  },
  {
   "cell_type": "code",
   "execution_count": 174,
   "id": "ebd8dbe5-68d0-41bd-8434-f4d164da2269",
   "metadata": {},
   "outputs": [
    {
     "name": "stdout",
     "output_type": "stream",
     "text": [
      "Value of w1 before gradient update is <tf.Variable 'Variable:0' shape=(2, 2) dtype=float32, numpy=\n",
      "array([[0.4987179 , 0.9717995 ],\n",
      "       [0.68403935, 0.7546501 ]], dtype=float32)>\n",
      "[[0.48922664 0.9552958 ]\n",
      " [0.6817893  0.7507376 ]]\n",
      "[[0.87057775]\n",
      " [1.0029193 ]]\n",
      "[[0.8370779  0.24594325]]\n",
      "[[1.0856359]]\n"
     ]
    }
   ],
   "source": [
    "lr=0.01\n",
    "print(f\"Value of w1 before gradient update is {w1}\")\n",
    "w1.assign_sub(lr*gw1)\n",
    "b1.assign_sub(lr*gb1)\n",
    "w2.assign_sub(lr*gw2)\n",
    "b2.assign_sub(lr*gb2)\n",
    "print(w1.numpy(), b1.numpy(), w2.numpy(), b2.numpy(), sep=\"\\n\")\n"
   ]
  }
 ],
 "metadata": {
  "kernelspec": {
   "display_name": "Python 3 (ipykernel)",
   "language": "python",
   "name": "python3"
  },
  "language_info": {
   "codemirror_mode": {
    "name": "ipython",
    "version": 3
   },
   "file_extension": ".py",
   "mimetype": "text/x-python",
   "name": "python",
   "nbconvert_exporter": "python",
   "pygments_lexer": "ipython3",
   "version": "3.11.4"
  }
 },
 "nbformat": 4,
 "nbformat_minor": 5
}
