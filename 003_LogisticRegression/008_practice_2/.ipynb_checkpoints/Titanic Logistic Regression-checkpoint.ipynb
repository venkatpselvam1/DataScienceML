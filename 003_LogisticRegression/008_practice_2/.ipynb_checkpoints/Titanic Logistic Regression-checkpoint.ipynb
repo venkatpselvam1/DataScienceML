{
 "cells": [
  {
   "cell_type": "code",
   "execution_count": 161,
   "id": "828aad8b-d07e-4b67-ae13-1c018f3e9621",
   "metadata": {
    "tags": []
   },
   "outputs": [],
   "source": [
    "import pandas as pd\n",
    "import numpy as np\n",
    "import warnings\n",
    "warnings.filterwarnings('ignore')"
   ]
  },
  {
   "cell_type": "code",
   "execution_count": 162,
   "id": "ff7115c0-9abd-4887-87cd-d42127f0c61e",
   "metadata": {
    "tags": []
   },
   "outputs": [],
   "source": [
    "df_test = pd.read_csv('test.csv')\n",
    "df_train = pd.read_csv('train.csv')"
   ]
  },
  {
   "cell_type": "code",
   "execution_count": 163,
   "id": "0312b70e-20f1-444f-ac94-0de617174a7b",
   "metadata": {
    "tags": []
   },
   "outputs": [
    {
     "name": "stdout",
     "output_type": "stream",
     "text": [
      "(418, 11) (891, 12)\n"
     ]
    }
   ],
   "source": [
    "print(df_test.shape, df_train.shape)"
   ]
  },
  {
   "cell_type": "code",
   "execution_count": 164,
   "id": "72531d2d-3480-4112-ae97-9c3b59fc22ac",
   "metadata": {
    "tags": []
   },
   "outputs": [
    {
     "data": {
      "text/html": [
       "<div>\n",
       "<style scoped>\n",
       "    .dataframe tbody tr th:only-of-type {\n",
       "        vertical-align: middle;\n",
       "    }\n",
       "\n",
       "    .dataframe tbody tr th {\n",
       "        vertical-align: top;\n",
       "    }\n",
       "\n",
       "    .dataframe thead th {\n",
       "        text-align: right;\n",
       "    }\n",
       "</style>\n",
       "<table border=\"1\" class=\"dataframe\">\n",
       "  <thead>\n",
       "    <tr style=\"text-align: right;\">\n",
       "      <th></th>\n",
       "      <th>PassengerId</th>\n",
       "      <th>Pclass</th>\n",
       "      <th>Name</th>\n",
       "      <th>Sex</th>\n",
       "      <th>Age</th>\n",
       "      <th>SibSp</th>\n",
       "      <th>Parch</th>\n",
       "      <th>Ticket</th>\n",
       "      <th>Fare</th>\n",
       "      <th>Cabin</th>\n",
       "      <th>Embarked</th>\n",
       "    </tr>\n",
       "  </thead>\n",
       "  <tbody>\n",
       "    <tr>\n",
       "      <th>0</th>\n",
       "      <td>892</td>\n",
       "      <td>3</td>\n",
       "      <td>Kelly, Mr. James</td>\n",
       "      <td>male</td>\n",
       "      <td>34.5</td>\n",
       "      <td>0</td>\n",
       "      <td>0</td>\n",
       "      <td>330911</td>\n",
       "      <td>7.8292</td>\n",
       "      <td>NaN</td>\n",
       "      <td>Q</td>\n",
       "    </tr>\n",
       "    <tr>\n",
       "      <th>1</th>\n",
       "      <td>893</td>\n",
       "      <td>3</td>\n",
       "      <td>Wilkes, Mrs. James (Ellen Needs)</td>\n",
       "      <td>female</td>\n",
       "      <td>47.0</td>\n",
       "      <td>1</td>\n",
       "      <td>0</td>\n",
       "      <td>363272</td>\n",
       "      <td>7.0000</td>\n",
       "      <td>NaN</td>\n",
       "      <td>S</td>\n",
       "    </tr>\n",
       "    <tr>\n",
       "      <th>2</th>\n",
       "      <td>894</td>\n",
       "      <td>2</td>\n",
       "      <td>Myles, Mr. Thomas Francis</td>\n",
       "      <td>male</td>\n",
       "      <td>62.0</td>\n",
       "      <td>0</td>\n",
       "      <td>0</td>\n",
       "      <td>240276</td>\n",
       "      <td>9.6875</td>\n",
       "      <td>NaN</td>\n",
       "      <td>Q</td>\n",
       "    </tr>\n",
       "    <tr>\n",
       "      <th>3</th>\n",
       "      <td>895</td>\n",
       "      <td>3</td>\n",
       "      <td>Wirz, Mr. Albert</td>\n",
       "      <td>male</td>\n",
       "      <td>27.0</td>\n",
       "      <td>0</td>\n",
       "      <td>0</td>\n",
       "      <td>315154</td>\n",
       "      <td>8.6625</td>\n",
       "      <td>NaN</td>\n",
       "      <td>S</td>\n",
       "    </tr>\n",
       "    <tr>\n",
       "      <th>4</th>\n",
       "      <td>896</td>\n",
       "      <td>3</td>\n",
       "      <td>Hirvonen, Mrs. Alexander (Helga E Lindqvist)</td>\n",
       "      <td>female</td>\n",
       "      <td>22.0</td>\n",
       "      <td>1</td>\n",
       "      <td>1</td>\n",
       "      <td>3101298</td>\n",
       "      <td>12.2875</td>\n",
       "      <td>NaN</td>\n",
       "      <td>S</td>\n",
       "    </tr>\n",
       "  </tbody>\n",
       "</table>\n",
       "</div>"
      ],
      "text/plain": [
       "   PassengerId  Pclass                                          Name     Sex   \n",
       "0          892       3                              Kelly, Mr. James    male  \\\n",
       "1          893       3              Wilkes, Mrs. James (Ellen Needs)  female   \n",
       "2          894       2                     Myles, Mr. Thomas Francis    male   \n",
       "3          895       3                              Wirz, Mr. Albert    male   \n",
       "4          896       3  Hirvonen, Mrs. Alexander (Helga E Lindqvist)  female   \n",
       "\n",
       "    Age  SibSp  Parch   Ticket     Fare Cabin Embarked  \n",
       "0  34.5      0      0   330911   7.8292   NaN        Q  \n",
       "1  47.0      1      0   363272   7.0000   NaN        S  \n",
       "2  62.0      0      0   240276   9.6875   NaN        Q  \n",
       "3  27.0      0      0   315154   8.6625   NaN        S  \n",
       "4  22.0      1      1  3101298  12.2875   NaN        S  "
      ]
     },
     "execution_count": 164,
     "metadata": {},
     "output_type": "execute_result"
    }
   ],
   "source": [
    "df_test.head()"
   ]
  },
  {
   "cell_type": "code",
   "execution_count": 165,
   "id": "8f76cdb6-8bfc-4bb6-8e52-e39cf359ccec",
   "metadata": {
    "tags": []
   },
   "outputs": [
    {
     "data": {
      "text/html": [
       "<div>\n",
       "<style scoped>\n",
       "    .dataframe tbody tr th:only-of-type {\n",
       "        vertical-align: middle;\n",
       "    }\n",
       "\n",
       "    .dataframe tbody tr th {\n",
       "        vertical-align: top;\n",
       "    }\n",
       "\n",
       "    .dataframe thead th {\n",
       "        text-align: right;\n",
       "    }\n",
       "</style>\n",
       "<table border=\"1\" class=\"dataframe\">\n",
       "  <thead>\n",
       "    <tr style=\"text-align: right;\">\n",
       "      <th></th>\n",
       "      <th>PassengerId</th>\n",
       "      <th>Survived</th>\n",
       "      <th>Pclass</th>\n",
       "      <th>Name</th>\n",
       "      <th>Sex</th>\n",
       "      <th>Age</th>\n",
       "      <th>SibSp</th>\n",
       "      <th>Parch</th>\n",
       "      <th>Ticket</th>\n",
       "      <th>Fare</th>\n",
       "      <th>Cabin</th>\n",
       "      <th>Embarked</th>\n",
       "    </tr>\n",
       "  </thead>\n",
       "  <tbody>\n",
       "    <tr>\n",
       "      <th>0</th>\n",
       "      <td>1</td>\n",
       "      <td>0</td>\n",
       "      <td>3</td>\n",
       "      <td>Braund, Mr. Owen Harris</td>\n",
       "      <td>male</td>\n",
       "      <td>22.0</td>\n",
       "      <td>1</td>\n",
       "      <td>0</td>\n",
       "      <td>A/5 21171</td>\n",
       "      <td>7.2500</td>\n",
       "      <td>NaN</td>\n",
       "      <td>S</td>\n",
       "    </tr>\n",
       "    <tr>\n",
       "      <th>1</th>\n",
       "      <td>2</td>\n",
       "      <td>1</td>\n",
       "      <td>1</td>\n",
       "      <td>Cumings, Mrs. John Bradley (Florence Briggs Th...</td>\n",
       "      <td>female</td>\n",
       "      <td>38.0</td>\n",
       "      <td>1</td>\n",
       "      <td>0</td>\n",
       "      <td>PC 17599</td>\n",
       "      <td>71.2833</td>\n",
       "      <td>C85</td>\n",
       "      <td>C</td>\n",
       "    </tr>\n",
       "    <tr>\n",
       "      <th>2</th>\n",
       "      <td>3</td>\n",
       "      <td>1</td>\n",
       "      <td>3</td>\n",
       "      <td>Heikkinen, Miss. Laina</td>\n",
       "      <td>female</td>\n",
       "      <td>26.0</td>\n",
       "      <td>0</td>\n",
       "      <td>0</td>\n",
       "      <td>STON/O2. 3101282</td>\n",
       "      <td>7.9250</td>\n",
       "      <td>NaN</td>\n",
       "      <td>S</td>\n",
       "    </tr>\n",
       "    <tr>\n",
       "      <th>3</th>\n",
       "      <td>4</td>\n",
       "      <td>1</td>\n",
       "      <td>1</td>\n",
       "      <td>Futrelle, Mrs. Jacques Heath (Lily May Peel)</td>\n",
       "      <td>female</td>\n",
       "      <td>35.0</td>\n",
       "      <td>1</td>\n",
       "      <td>0</td>\n",
       "      <td>113803</td>\n",
       "      <td>53.1000</td>\n",
       "      <td>C123</td>\n",
       "      <td>S</td>\n",
       "    </tr>\n",
       "    <tr>\n",
       "      <th>4</th>\n",
       "      <td>5</td>\n",
       "      <td>0</td>\n",
       "      <td>3</td>\n",
       "      <td>Allen, Mr. William Henry</td>\n",
       "      <td>male</td>\n",
       "      <td>35.0</td>\n",
       "      <td>0</td>\n",
       "      <td>0</td>\n",
       "      <td>373450</td>\n",
       "      <td>8.0500</td>\n",
       "      <td>NaN</td>\n",
       "      <td>S</td>\n",
       "    </tr>\n",
       "  </tbody>\n",
       "</table>\n",
       "</div>"
      ],
      "text/plain": [
       "   PassengerId  Survived  Pclass   \n",
       "0            1         0       3  \\\n",
       "1            2         1       1   \n",
       "2            3         1       3   \n",
       "3            4         1       1   \n",
       "4            5         0       3   \n",
       "\n",
       "                                                Name     Sex   Age  SibSp   \n",
       "0                            Braund, Mr. Owen Harris    male  22.0      1  \\\n",
       "1  Cumings, Mrs. John Bradley (Florence Briggs Th...  female  38.0      1   \n",
       "2                             Heikkinen, Miss. Laina  female  26.0      0   \n",
       "3       Futrelle, Mrs. Jacques Heath (Lily May Peel)  female  35.0      1   \n",
       "4                           Allen, Mr. William Henry    male  35.0      0   \n",
       "\n",
       "   Parch            Ticket     Fare Cabin Embarked  \n",
       "0      0         A/5 21171   7.2500   NaN        S  \n",
       "1      0          PC 17599  71.2833   C85        C  \n",
       "2      0  STON/O2. 3101282   7.9250   NaN        S  \n",
       "3      0            113803  53.1000  C123        S  \n",
       "4      0            373450   8.0500   NaN        S  "
      ]
     },
     "execution_count": 165,
     "metadata": {},
     "output_type": "execute_result"
    }
   ],
   "source": [
    "df_train.head()"
   ]
  },
  {
   "cell_type": "code",
   "execution_count": 166,
   "id": "119963c1-b33d-4ddc-9301-fe53f303b672",
   "metadata": {
    "tags": []
   },
   "outputs": [
    {
     "data": {
      "text/plain": [
       "PassengerId     0.000000\n",
       "Survived        0.000000\n",
       "Pclass          0.000000\n",
       "Name            0.000000\n",
       "Sex             0.000000\n",
       "Age            19.865320\n",
       "SibSp           0.000000\n",
       "Parch           0.000000\n",
       "Ticket          0.000000\n",
       "Fare            0.000000\n",
       "Cabin          77.104377\n",
       "Embarked        0.224467\n",
       "dtype: float64"
      ]
     },
     "execution_count": 166,
     "metadata": {},
     "output_type": "execute_result"
    }
   ],
   "source": [
    "# it gives the percentage of the each missing column\n",
    "df_train.isnull().sum()/df_train.shape[0] * 100"
   ]
  },
  {
   "cell_type": "code",
   "execution_count": 167,
   "id": "1ee7e74c-2595-4068-9345-7d90a05b19a9",
   "metadata": {
    "tags": []
   },
   "outputs": [],
   "source": [
    "import matplotlib.pyplot as plt\n",
    "import seaborn as sns"
   ]
  },
  {
   "cell_type": "code",
   "execution_count": 168,
   "id": "96b72c44-fb90-4fce-8dc8-ca268de17eef",
   "metadata": {
    "tags": []
   },
   "outputs": [
    {
     "name": "stdout",
     "output_type": "stream",
     "text": [
      "Help on function distplot in module seaborn.distributions:\n",
      "\n",
      "distplot(a=None, bins=None, hist=True, kde=True, rug=False, fit=None, hist_kws=None, kde_kws=None, rug_kws=None, fit_kws=None, color=None, vertical=False, norm_hist=False, axlabel=None, label=None, ax=None, x=None)\n",
      "    DEPRECATED\n",
      "    \n",
      "    This function has been deprecated and will be removed in seaborn v0.14.0.\n",
      "    It has been replaced by :func:`histplot` and :func:`displot`, two functions\n",
      "    with a modern API and many more capabilities.\n",
      "    \n",
      "    For a guide to updating, please see this notebook:\n",
      "    \n",
      "    https://gist.github.com/mwaskom/de44147ed2974457ad6372750bbe5751\n",
      "\n"
     ]
    }
   ],
   "source": [
    "help(sns.distplot)"
   ]
  },
  {
   "cell_type": "code",
   "execution_count": 169,
   "id": "143f8aaf-b76c-4be8-9675-9be9902f3d5a",
   "metadata": {
    "tags": []
   },
   "outputs": [
    {
     "data": {
      "text/plain": [
       "<Axes: xlabel='Age', ylabel='Density'>"
      ]
     },
     "execution_count": 169,
     "metadata": {},
     "output_type": "execute_result"
    },
    {
     "data": {
      "image/png": "[encoded data removed]",
      "text/plain": [
       "<Figure size 640x480 with 1 Axes>"
      ]
     },
     "metadata": {},
     "output_type": "display_data"
    }
   ],
   "source": [
    "sns.distplot(df_train['Age'], bins=100)"
   ]
  },
  {
   "cell_type": "code",
   "execution_count": 170,
   "id": "1789b58f-172f-466b-91b9-6ec2b539cae7",
   "metadata": {
    "tags": []
   },
   "outputs": [
    {
     "name": "stdout",
     "output_type": "stream",
     "text": [
      "Mean 29.69911764705882\n",
      "Median 28.0\n"
     ]
    }
   ],
   "source": [
    "print(\"Mean \"+str(df_train['Age'].mean())+\"\\nMedian \"+str(df_train['Age'].median()) )"
   ]
  },
  {
   "cell_type": "code",
   "execution_count": 171,
   "id": "b7448d8f-d124-4bbf-a9aa-808e453cc653",
   "metadata": {
    "tags": []
   },
   "outputs": [],
   "source": [
    "# drop 'Cabin'\n",
    "# we have two null columns. we can either delete this row or set the median (or) mean #print(df_train['Embarked'].isnull().sum() )\n",
    "if 'Embarked' in df_train.columns:\n",
    "    df_train = df_train[~df_train['Embarked'].isnull()]\n",
    "\n",
    "df_train['Age'].fillna(df_train['Age'].median(), inplace=True)\n",
    "df_train['Minor'] = df_train['Age'].apply(lambda x: 1 if x <= 16 else 0)\n",
    "\n",
    "if((df_train['Sex'] == 'male').sum()  > 0):\n",
    "    df_train['Sex'] = df_train['Sex'].map({'male':1, 'female':0})\n",
    "    \n",
    "if 'Parch' in df_train.columns:\n",
    "    df_train['Alone'] = df_train['Parch'] + df_train['SibSp']\n",
    "    df_train['Alone'] = df_train['Alone'].apply(lambda x: 1 if x == 0 else 0)\n",
    "if 'Embarked' in df_train.columns:\n",
    "    cat_cols = ['Embarked', 'Pclass']\n",
    "    df_train = pd.get_dummies(df_train, columns=cat_cols, dtype=int)\n",
    "    \n",
    "df_train.drop(['Cabin','PassengerId', 'Name', 'Ticket', 'Parch', 'SibSp'], inplace=True, axis=1,  errors='ignore')"
   ]
  },
  {
   "cell_type": "code",
   "execution_count": 172,
   "id": "8c6a762c-3168-4dfb-a2aa-6847c8c93453",
   "metadata": {
    "tags": []
   },
   "outputs": [
    {
     "data": {
      "text/plain": [
       "Survived      0.0\n",
       "Sex           0.0\n",
       "Age           0.0\n",
       "Fare          0.0\n",
       "Minor         0.0\n",
       "Alone         0.0\n",
       "Embarked_C    0.0\n",
       "Embarked_Q    0.0\n",
       "Embarked_S    0.0\n",
       "Pclass_1      0.0\n",
       "Pclass_2      0.0\n",
       "Pclass_3      0.0\n",
       "dtype: float64"
      ]
     },
     "execution_count": 172,
     "metadata": {},
     "output_type": "execute_result"
    }
   ],
   "source": [
    "# it gives the percentage of the each missing column\n",
    "df_train.isnull().sum()/df_train.shape[0] * 100"
   ]
  },
  {
   "cell_type": "code",
   "execution_count": 173,
   "id": "c2a05079-700e-4e65-924d-e4d02fea0736",
   "metadata": {
    "tags": []
   },
   "outputs": [],
   "source": [
    "#doing same for df_test"
   ]
  },
  {
   "cell_type": "code",
   "execution_count": 174,
   "id": "7a509cb1-3e9b-4628-9a3e-28952912667f",
   "metadata": {
    "tags": []
   },
   "outputs": [
    {
     "data": {
      "text/plain": [
       "PassengerId     0.000000\n",
       "Pclass          0.000000\n",
       "Name            0.000000\n",
       "Sex             0.000000\n",
       "Age            20.574163\n",
       "SibSp           0.000000\n",
       "Parch           0.000000\n",
       "Ticket          0.000000\n",
       "Fare            0.239234\n",
       "Cabin          78.229665\n",
       "Embarked        0.000000\n",
       "dtype: float64"
      ]
     },
     "execution_count": 174,
     "metadata": {},
     "output_type": "execute_result"
    }
   ],
   "source": [
    "# it gives the percentage of the each missing column\n",
    "df_test.isnull().sum()/df_test.shape[0] * 100"
   ]
  },
  {
   "cell_type": "code",
   "execution_count": 175,
   "id": "6ecf55ce-ce73-4950-970c-7d5797372ed8",
   "metadata": {
    "tags": []
   },
   "outputs": [],
   "source": [
    "# drop 'Cabin'\n",
    "# we have two null columns. we can either delete this row or set the median (or) mean #print(df_train['Embarked'].isnull().sum() )\n",
    "if 'Embarked' in df_test.columns:\n",
    "    df_test = df_test[~df_test['Embarked'].isnull()]\n",
    "\n",
    "df_test['Age'].fillna(df_train['Age'].median(), inplace=True)\n",
    "df_test['Minor'] = df_test['Age'].apply(lambda x: 1 if x <= 16 else 0)\n",
    "df_test['Fare'].fillna(df_train['Fare'].mean(), inplace=True)\n",
    "\n",
    "if((df_test['Sex'] == 'male').sum()  > 0):\n",
    "    df_test['Sex'] = df_test['Sex'].map({'male':1, 'female':0})\n",
    "    \n",
    "if 'Parch' in df_test.columns:\n",
    "    df_test['Alone'] = df_test['Parch'] + df_test['SibSp']\n",
    "    df_test['Alone'] = df_test['Alone'].apply(lambda x: 1 if x == 0 else 0)\n",
    "if 'Embarked' in df_test.columns:\n",
    "    cat_cols = ['Embarked', 'Pclass']\n",
    "    df_test = pd.get_dummies(df_test, columns=cat_cols, dtype=int)\n",
    "    \n",
    "df_test.drop(['Cabin', 'Name', 'Ticket', 'Parch', 'SibSp'], inplace=True, axis=1,  errors='ignore')"
   ]
  },
  {
   "cell_type": "code",
   "execution_count": 176,
   "id": "69247be1-8680-46d6-8da2-abea8d97fd04",
   "metadata": {
    "tags": []
   },
   "outputs": [
    {
     "data": {
      "text/plain": [
       "PassengerId    0.0\n",
       "Sex            0.0\n",
       "Age            0.0\n",
       "Fare           0.0\n",
       "Minor          0.0\n",
       "Alone          0.0\n",
       "Embarked_C     0.0\n",
       "Embarked_Q     0.0\n",
       "Embarked_S     0.0\n",
       "Pclass_1       0.0\n",
       "Pclass_2       0.0\n",
       "Pclass_3       0.0\n",
       "dtype: float64"
      ]
     },
     "execution_count": 176,
     "metadata": {},
     "output_type": "execute_result"
    }
   ],
   "source": [
    "# it gives the percentage of the each missing column\n",
    "df_test.isnull().sum()/df_test.shape[0] * 100"
   ]
  },
  {
   "cell_type": "code",
   "execution_count": 177,
   "id": "db7c8797-cd47-4bd4-ab7d-a546ec3a2356",
   "metadata": {
    "tags": []
   },
   "outputs": [
    {
     "data": {
      "text/html": [
       "<div>\n",
       "<style scoped>\n",
       "    .dataframe tbody tr th:only-of-type {\n",
       "        vertical-align: middle;\n",
       "    }\n",
       "\n",
       "    .dataframe tbody tr th {\n",
       "        vertical-align: top;\n",
       "    }\n",
       "\n",
       "    .dataframe thead th {\n",
       "        text-align: right;\n",
       "    }\n",
       "</style>\n",
       "<table border=\"1\" class=\"dataframe\">\n",
       "  <thead>\n",
       "    <tr style=\"text-align: right;\">\n",
       "      <th></th>\n",
       "      <th>PassengerId</th>\n",
       "      <th>Sex</th>\n",
       "      <th>Age</th>\n",
       "      <th>Fare</th>\n",
       "      <th>Minor</th>\n",
       "      <th>Alone</th>\n",
       "      <th>Embarked_C</th>\n",
       "      <th>Embarked_Q</th>\n",
       "      <th>Embarked_S</th>\n",
       "      <th>Pclass_1</th>\n",
       "      <th>Pclass_2</th>\n",
       "      <th>Pclass_3</th>\n",
       "    </tr>\n",
       "  </thead>\n",
       "  <tbody>\n",
       "    <tr>\n",
       "      <th>0</th>\n",
       "      <td>892</td>\n",
       "      <td>1</td>\n",
       "      <td>34.5</td>\n",
       "      <td>7.8292</td>\n",
       "      <td>0</td>\n",
       "      <td>1</td>\n",
       "      <td>0</td>\n",
       "      <td>1</td>\n",
       "      <td>0</td>\n",
       "      <td>0</td>\n",
       "      <td>0</td>\n",
       "      <td>1</td>\n",
       "    </tr>\n",
       "    <tr>\n",
       "      <th>1</th>\n",
       "      <td>893</td>\n",
       "      <td>0</td>\n",
       "      <td>47.0</td>\n",
       "      <td>7.0000</td>\n",
       "      <td>0</td>\n",
       "      <td>0</td>\n",
       "      <td>0</td>\n",
       "      <td>0</td>\n",
       "      <td>1</td>\n",
       "      <td>0</td>\n",
       "      <td>0</td>\n",
       "      <td>1</td>\n",
       "    </tr>\n",
       "    <tr>\n",
       "      <th>2</th>\n",
       "      <td>894</td>\n",
       "      <td>1</td>\n",
       "      <td>62.0</td>\n",
       "      <td>9.6875</td>\n",
       "      <td>0</td>\n",
       "      <td>1</td>\n",
       "      <td>0</td>\n",
       "      <td>1</td>\n",
       "      <td>0</td>\n",
       "      <td>0</td>\n",
       "      <td>1</td>\n",
       "      <td>0</td>\n",
       "    </tr>\n",
       "    <tr>\n",
       "      <th>3</th>\n",
       "      <td>895</td>\n",
       "      <td>1</td>\n",
       "      <td>27.0</td>\n",
       "      <td>8.6625</td>\n",
       "      <td>0</td>\n",
       "      <td>1</td>\n",
       "      <td>0</td>\n",
       "      <td>0</td>\n",
       "      <td>1</td>\n",
       "      <td>0</td>\n",
       "      <td>0</td>\n",
       "      <td>1</td>\n",
       "    </tr>\n",
       "    <tr>\n",
       "      <th>4</th>\n",
       "      <td>896</td>\n",
       "      <td>0</td>\n",
       "      <td>22.0</td>\n",
       "      <td>12.2875</td>\n",
       "      <td>0</td>\n",
       "      <td>0</td>\n",
       "      <td>0</td>\n",
       "      <td>0</td>\n",
       "      <td>1</td>\n",
       "      <td>0</td>\n",
       "      <td>0</td>\n",
       "      <td>1</td>\n",
       "    </tr>\n",
       "  </tbody>\n",
       "</table>\n",
       "</div>"
      ],
      "text/plain": [
       "   PassengerId  Sex   Age     Fare  Minor  Alone  Embarked_C  Embarked_Q   \n",
       "0          892    1  34.5   7.8292      0      1           0           1  \\\n",
       "1          893    0  47.0   7.0000      0      0           0           0   \n",
       "2          894    1  62.0   9.6875      0      1           0           1   \n",
       "3          895    1  27.0   8.6625      0      1           0           0   \n",
       "4          896    0  22.0  12.2875      0      0           0           0   \n",
       "\n",
       "   Embarked_S  Pclass_1  Pclass_2  Pclass_3  \n",
       "0           0         0         0         1  \n",
       "1           1         0         0         1  \n",
       "2           0         0         1         0  \n",
       "3           1         0         0         1  \n",
       "4           1         0         0         1  "
      ]
     },
     "execution_count": 177,
     "metadata": {},
     "output_type": "execute_result"
    }
   ],
   "source": [
    "df_test.head()"
   ]
  },
  {
   "cell_type": "code",
   "execution_count": 178,
   "id": "3bfb7a10-57d1-4877-b625-03c8b6a90f28",
   "metadata": {
    "tags": []
   },
   "outputs": [
    {
     "data": {
      "text/html": [
       "<div>\n",
       "<style scoped>\n",
       "    .dataframe tbody tr th:only-of-type {\n",
       "        vertical-align: middle;\n",
       "    }\n",
       "\n",
       "    .dataframe tbody tr th {\n",
       "        vertical-align: top;\n",
       "    }\n",
       "\n",
       "    .dataframe thead th {\n",
       "        text-align: right;\n",
       "    }\n",
       "</style>\n",
       "<table border=\"1\" class=\"dataframe\">\n",
       "  <thead>\n",
       "    <tr style=\"text-align: right;\">\n",
       "      <th></th>\n",
       "      <th>Survived</th>\n",
       "      <th>Sex</th>\n",
       "      <th>Age</th>\n",
       "      <th>Fare</th>\n",
       "      <th>Minor</th>\n",
       "      <th>Alone</th>\n",
       "      <th>Embarked_C</th>\n",
       "      <th>Embarked_Q</th>\n",
       "      <th>Embarked_S</th>\n",
       "      <th>Pclass_1</th>\n",
       "      <th>Pclass_2</th>\n",
       "      <th>Pclass_3</th>\n",
       "    </tr>\n",
       "  </thead>\n",
       "  <tbody>\n",
       "    <tr>\n",
       "      <th>0</th>\n",
       "      <td>0</td>\n",
       "      <td>1</td>\n",
       "      <td>22.0</td>\n",
       "      <td>7.2500</td>\n",
       "      <td>0</td>\n",
       "      <td>0</td>\n",
       "      <td>0</td>\n",
       "      <td>0</td>\n",
       "      <td>1</td>\n",
       "      <td>0</td>\n",
       "      <td>0</td>\n",
       "      <td>1</td>\n",
       "    </tr>\n",
       "    <tr>\n",
       "      <th>1</th>\n",
       "      <td>1</td>\n",
       "      <td>0</td>\n",
       "      <td>38.0</td>\n",
       "      <td>71.2833</td>\n",
       "      <td>0</td>\n",
       "      <td>0</td>\n",
       "      <td>1</td>\n",
       "      <td>0</td>\n",
       "      <td>0</td>\n",
       "      <td>1</td>\n",
       "      <td>0</td>\n",
       "      <td>0</td>\n",
       "    </tr>\n",
       "    <tr>\n",
       "      <th>2</th>\n",
       "      <td>1</td>\n",
       "      <td>0</td>\n",
       "      <td>26.0</td>\n",
       "      <td>7.9250</td>\n",
       "      <td>0</td>\n",
       "      <td>1</td>\n",
       "      <td>0</td>\n",
       "      <td>0</td>\n",
       "      <td>1</td>\n",
       "      <td>0</td>\n",
       "      <td>0</td>\n",
       "      <td>1</td>\n",
       "    </tr>\n",
       "    <tr>\n",
       "      <th>3</th>\n",
       "      <td>1</td>\n",
       "      <td>0</td>\n",
       "      <td>35.0</td>\n",
       "      <td>53.1000</td>\n",
       "      <td>0</td>\n",
       "      <td>0</td>\n",
       "      <td>0</td>\n",
       "      <td>0</td>\n",
       "      <td>1</td>\n",
       "      <td>1</td>\n",
       "      <td>0</td>\n",
       "      <td>0</td>\n",
       "    </tr>\n",
       "    <tr>\n",
       "      <th>4</th>\n",
       "      <td>0</td>\n",
       "      <td>1</td>\n",
       "      <td>35.0</td>\n",
       "      <td>8.0500</td>\n",
       "      <td>0</td>\n",
       "      <td>1</td>\n",
       "      <td>0</td>\n",
       "      <td>0</td>\n",
       "      <td>1</td>\n",
       "      <td>0</td>\n",
       "      <td>0</td>\n",
       "      <td>1</td>\n",
       "    </tr>\n",
       "  </tbody>\n",
       "</table>\n",
       "</div>"
      ],
      "text/plain": [
       "   Survived  Sex   Age     Fare  Minor  Alone  Embarked_C  Embarked_Q   \n",
       "0         0    1  22.0   7.2500      0      0           0           0  \\\n",
       "1         1    0  38.0  71.2833      0      0           1           0   \n",
       "2         1    0  26.0   7.9250      0      1           0           0   \n",
       "3         1    0  35.0  53.1000      0      0           0           0   \n",
       "4         0    1  35.0   8.0500      0      1           0           0   \n",
       "\n",
       "   Embarked_S  Pclass_1  Pclass_2  Pclass_3  \n",
       "0           1         0         0         1  \n",
       "1           0         1         0         0  \n",
       "2           1         0         0         1  \n",
       "3           1         1         0         0  \n",
       "4           1         0         0         1  "
      ]
     },
     "execution_count": 178,
     "metadata": {},
     "output_type": "execute_result"
    }
   ],
   "source": [
    "df_train.head()"
   ]
  },
  {
   "cell_type": "code",
   "execution_count": 179,
   "id": "8aee30c4-7822-42a8-a013-67953f2ae622",
   "metadata": {
    "tags": []
   },
   "outputs": [
    {
     "name": "stdout",
     "output_type": "stream",
     "text": [
      "(418, 12) (889, 12)\n"
     ]
    }
   ],
   "source": [
    "print(df_test.shape, df_train.shape)"
   ]
  },
  {
   "cell_type": "code",
   "execution_count": 180,
   "id": "23e17199-fe3e-4561-bc21-b8542e8f761f",
   "metadata": {
    "tags": []
   },
   "outputs": [
    {
     "data": {
      "text/plain": [
       "<Axes: >"
      ]
     },
     "execution_count": 180,
     "metadata": {},
     "output_type": "execute_result"
    },
    {
     "data": {
      "image/png": "[encoded data removed]",
      "text/plain": [
       "<Figure size 640x480 with 2 Axes>"
      ]
     },
     "metadata": {},
     "output_type": "display_data"
    }
   ],
   "source": [
    "sns.heatmap( df_train.corr(), annot = True, cmap='YlGnBu', linewidths=.5)"
   ]
  },
  {
   "cell_type": "code",
   "execution_count": 181,
   "id": "49caccdb-6a9f-4c56-8301-5eae91f8bc6a",
   "metadata": {},
   "outputs": [],
   "source": [
    "y_train = df_train.pop('Survived')\n",
    "X_train = df_train\n",
    "#y_test = df_test.pop('Survived')\n",
    "X_test = df_test"
   ]
  },
  {
   "cell_type": "code",
   "execution_count": 182,
   "id": "50289fe5-5b52-4615-981d-7746d4c3e353",
   "metadata": {
    "tags": []
   },
   "outputs": [
    {
     "name": "stdout",
     "output_type": "stream",
     "text": [
      "(889,) (889, 11) (418, 12)\n"
     ]
    }
   ],
   "source": [
    "print(y_train.shape, X_train.shape, X_test.shape)"
   ]
  },
  {
   "cell_type": "code",
   "execution_count": 183,
   "id": "882ab229-a064-47c9-888d-e983680fda45",
   "metadata": {
    "tags": []
   },
   "outputs": [],
   "source": [
    "import statsmodels\n",
    "import statsmodels.api as sm\n",
    "import sklearn\n",
    "from sklearn.linear_model import LogisticRegression\n",
    "from sklearn.preprocessing import MinMaxScaler\n",
    "from sklearn.feature_selection import RFE\n",
    "from sklearn.metrics import accuracy_score, confusion_matrix, roc_curve, roc_auc_score"
   ]
  },
  {
   "cell_type": "code",
   "execution_count": 184,
   "id": "d9c20077-895e-4f6e-80ca-d948a55c7424",
   "metadata": {
    "tags": []
   },
   "outputs": [],
   "source": [
    "num_cols = ['Age', 'Fare']\n",
    "scaler = MinMaxScaler()\n",
    "scaler.fit(df_train[num_cols])\n",
    "X_train[num_cols] = scaler.transform(X_train[num_cols])\n",
    "X_test[num_cols] = scaler.transform(X_test[num_cols])"
   ]
  },
  {
   "cell_type": "code",
   "execution_count": 185,
   "id": "ed73656f-6102-4671-925a-f87b908566cf",
   "metadata": {
    "tags": []
   },
   "outputs": [],
   "source": [
    "loglr = LogisticRegression()\n",
    "loglr.fit(X_train, y_train)\n",
    "rfe = RFE(loglr)\n",
    "rfe = rfe.fit(X_train, y_train)"
   ]
  },
  {
   "cell_type": "code",
   "execution_count": 186,
   "id": "a13adb7e-3d47-4ff8-8af2-96fb604a3f04",
   "metadata": {
    "tags": []
   },
   "outputs": [
    {
     "name": "stdout",
     "output_type": "stream",
     "text": [
      "Selected\t\t:  Index(['Sex', 'Age', 'Minor', 'Pclass_1', 'Pclass_3'], dtype='object')\n",
      "Rejected\t\t:  Index(['Fare', 'Alone', 'Embarked_C', 'Embarked_Q', 'Embarked_S', 'Pclass_2'], dtype='object')\n"
     ]
    }
   ],
   "source": [
    "print(\"Selected\\t\\t: \", X_train.columns[rfe.support_])\n",
    "print(\"Rejected\\t\\t: \", X_train.columns[~rfe.support_])"
   ]
  },
  {
   "cell_type": "code",
   "execution_count": 198,
   "id": "c71a8746-1c98-4523-998d-147eeffedfdc",
   "metadata": {
    "tags": []
   },
   "outputs": [
    {
     "name": "stdout",
     "output_type": "stream",
     "text": [
      "0.78177727784027\n",
      "[[425 124]\n",
      " [ 70 270]]\n",
      "425 124 70 270\n",
      "Accuracy\t\t: 0.78177727784027\n",
      "Sensitivity\t\t: 0.7941176470588235\n",
      "Specificity\t\t: 0.7741347905282332\n",
      "TPR\t\t\t: 0.7941176470588235\n",
      "FPR\t\t\t: 0.22586520947176686\n",
      "Precision\t\t: 0.6852791878172588\n",
      "Recall\t\t\t: 0.7941176470588235\n"
     ]
    }
   ],
   "source": [
    "## Accuracy\n",
    "y_train_pred_prob = rfe.predict_proba(X_train)\n",
    "#y_train_pred = np.where(y_train_pred_prob[:,0]<0.1, 0, 1)\n",
    "y_train_pred = np.where(y_train_pred_prob[:,1]<0.4, 0, 1)\n",
    "print(accuracy_score(y_train, y_train_pred))\n",
    "cf = confusion_matrix(y_train, y_train_pred)\n",
    "print(cf)\n",
    "TN = cf[0, 0]\n",
    "FP = cf[0, 1]\n",
    "FN = cf[1, 0]\n",
    "TP = cf[1, 1]\n",
    "print(TN, FP, FN, TP)\n",
    "accracy = (TP + TN) * 1.0 / (TP + TN + FP + FN)\n",
    "sensitivity = (TP) * 1.0 / (TP + FN) \n",
    "Specificity = (TN) * 1.0 / (TN + FP) \n",
    "Precision = (TP) * 1.0 / (TP + FP) \n",
    "Recall = (TP) * 1.0 / (TP + FN ) \n",
    "print(\"Accuracy\\t\\t:\", accracy)\n",
    "print(\"Sensitivity\\t\\t:\", sensitivity)\n",
    "print(\"Specificity\\t\\t:\", Specificity)\n",
    "print(\"TPR\\t\\t\\t:\", (TP) * 1.0 / (TP + FN) )\n",
    "print(\"FPR\\t\\t\\t:\", (FP) * 1.0 / (FP + TN ) )\n",
    "print(\"Precision\\t\\t:\", Precision )\n",
    "print(\"Recall\\t\\t\\t:\", Recall)"
   ]
  },
  {
   "cell_type": "code",
   "execution_count": 188,
   "id": "21c85955-e6d7-443b-8e68-5167b4cee969",
   "metadata": {
    "tags": []
   },
   "outputs": [],
   "source": [
    "def draw_roc( actual, probs ):\n",
    "    fpr, tpr, thresholds = roc_curve( actual, probs,\n",
    "                                              drop_intermediate = False )\n",
    "    auc_score = roc_auc_score( actual, probs )\n",
    "    plt.figure(figsize=(5, 5))\n",
    "    plt.plot( fpr, tpr, label='ROC curve (area = %0.2f)' % auc_score )\n",
    "    plt.plot([0, 1], [0, 1], 'k--')\n",
    "    plt.xlim([0.0, 1.0])\n",
    "    plt.ylim([0.0, 1.05])\n",
    "    plt.xlabel('False Positive Rate or [1 - True Negative Rate]')\n",
    "    plt.ylabel('True Positive Rate')\n",
    "    plt.title('Receiver operating characteristic example')\n",
    "    plt.legend(loc=\"lower right\")\n",
    "    plt.show()\n",
    "\n",
    "    return None"
   ]
  },
  {
   "cell_type": "code",
   "execution_count": 189,
   "id": "b1fc1182-c28f-4fbb-84a7-0fdd8bfab14a",
   "metadata": {
    "tags": []
   },
   "outputs": [
    {
     "data": {
      "image/png": "[encoded data removed]",
      "text/plain": [
       "<Figure size 500x500 with 1 Axes>"
      ]
     },
     "metadata": {},
     "output_type": "display_data"
    }
   ],
   "source": [
    "fpr, tpr, thresholds = roc_curve( y_train, y_train_pred_prob[:,1], drop_intermediate = False )\n",
    "draw_roc(y_train, y_train_pred_prob[:,1])"
   ]
  },
  {
   "cell_type": "code",
   "execution_count": 195,
   "id": "f25f8f6d-cf80-4a4f-b71d-805c33fd64f1",
   "metadata": {
    "tags": []
   },
   "outputs": [],
   "source": [
    "prob_df = pd.DataFrame(columns=['Prob', 'Accuracy', 'Sensitivity', 'Specificity', 'Precision', 'Recall'])\n",
    "cnt = 0\n",
    "for pro in np.arange(0, 1, 0.05):\n",
    "    ## Accuracy\n",
    "    y_train_pred_prob = rfe.predict_proba(X_train)\n",
    "    y_train_pred = np.where(y_train_pred_prob[:,1]<pro, 0, 1)\n",
    "    #print(accuracy_score(y_train, y_train_pred))\n",
    "    cf = confusion_matrix(y_train, y_train_pred)\n",
    "    #print(cf)\n",
    "    TN = cf[0, 0]\n",
    "    FP = cf[0, 1]\n",
    "    FN = cf[1, 0]\n",
    "    TP = cf[1, 1]\n",
    "    #print(TN, FP, FN, TP)\n",
    "    accracy = (TP + TN) * 1.0 / (TP + TN + FP + FN)\n",
    "    sensitivity = (TP) * 1.0 / (TP + FN) \n",
    "    Specificity = (TN) * 1.0 / (TN + FP) \n",
    "    Precision = (TP) * 1.0 / (TP + FP) \n",
    "    Recall = (TP) * 1.0 / (TP + FN )\n",
    "    prob_df.loc[cnt] = [pro, accracy, sensitivity, Specificity, Precision, Recall] \n",
    "    cnt+=1"
   ]
  },
  {
   "cell_type": "code",
   "execution_count": 196,
   "id": "92ed80ed-99b9-41ee-8ebc-249b2d518a38",
   "metadata": {
    "tags": []
   },
   "outputs": [
    {
     "data": {
      "text/html": [
       "<div>\n",
       "<style scoped>\n",
       "    .dataframe tbody tr th:only-of-type {\n",
       "        vertical-align: middle;\n",
       "    }\n",
       "\n",
       "    .dataframe tbody tr th {\n",
       "        vertical-align: top;\n",
       "    }\n",
       "\n",
       "    .dataframe thead th {\n",
       "        text-align: right;\n",
       "    }\n",
       "</style>\n",
       "<table border=\"1\" class=\"dataframe\">\n",
       "  <thead>\n",
       "    <tr style=\"text-align: right;\">\n",
       "      <th></th>\n",
       "      <th>Prob</th>\n",
       "      <th>Accuracy</th>\n",
       "      <th>Sensitivity</th>\n",
       "      <th>Specificity</th>\n",
       "      <th>Precision</th>\n",
       "      <th>Recall</th>\n",
       "    </tr>\n",
       "  </thead>\n",
       "  <tbody>\n",
       "    <tr>\n",
       "      <th>0</th>\n",
       "      <td>0.00</td>\n",
       "      <td>0.382452</td>\n",
       "      <td>1.000000</td>\n",
       "      <td>0.000000</td>\n",
       "      <td>0.382452</td>\n",
       "      <td>1.000000</td>\n",
       "    </tr>\n",
       "    <tr>\n",
       "      <th>1</th>\n",
       "      <td>0.05</td>\n",
       "      <td>0.385827</td>\n",
       "      <td>1.000000</td>\n",
       "      <td>0.005464</td>\n",
       "      <td>0.383747</td>\n",
       "      <td>1.000000</td>\n",
       "    </tr>\n",
       "    <tr>\n",
       "      <th>2</th>\n",
       "      <td>0.10</td>\n",
       "      <td>0.614173</td>\n",
       "      <td>0.905882</td>\n",
       "      <td>0.433515</td>\n",
       "      <td>0.497577</td>\n",
       "      <td>0.905882</td>\n",
       "    </tr>\n",
       "    <tr>\n",
       "      <th>3</th>\n",
       "      <td>0.15</td>\n",
       "      <td>0.649044</td>\n",
       "      <td>0.888235</td>\n",
       "      <td>0.500911</td>\n",
       "      <td>0.524306</td>\n",
       "      <td>0.888235</td>\n",
       "    </tr>\n",
       "    <tr>\n",
       "      <th>4</th>\n",
       "      <td>0.20</td>\n",
       "      <td>0.680540</td>\n",
       "      <td>0.879412</td>\n",
       "      <td>0.557377</td>\n",
       "      <td>0.551661</td>\n",
       "      <td>0.879412</td>\n",
       "    </tr>\n",
       "    <tr>\n",
       "      <th>5</th>\n",
       "      <td>0.25</td>\n",
       "      <td>0.741282</td>\n",
       "      <td>0.841176</td>\n",
       "      <td>0.679417</td>\n",
       "      <td>0.619048</td>\n",
       "      <td>0.841176</td>\n",
       "    </tr>\n",
       "    <tr>\n",
       "      <th>6</th>\n",
       "      <td>0.30</td>\n",
       "      <td>0.760405</td>\n",
       "      <td>0.835294</td>\n",
       "      <td>0.714026</td>\n",
       "      <td>0.643991</td>\n",
       "      <td>0.835294</td>\n",
       "    </tr>\n",
       "    <tr>\n",
       "      <th>7</th>\n",
       "      <td>0.35</td>\n",
       "      <td>0.776153</td>\n",
       "      <td>0.829412</td>\n",
       "      <td>0.743169</td>\n",
       "      <td>0.666667</td>\n",
       "      <td>0.829412</td>\n",
       "    </tr>\n",
       "    <tr>\n",
       "      <th>8</th>\n",
       "      <td>0.40</td>\n",
       "      <td>0.781777</td>\n",
       "      <td>0.794118</td>\n",
       "      <td>0.774135</td>\n",
       "      <td>0.685279</td>\n",
       "      <td>0.794118</td>\n",
       "    </tr>\n",
       "    <tr>\n",
       "      <th>9</th>\n",
       "      <td>0.45</td>\n",
       "      <td>0.785152</td>\n",
       "      <td>0.752941</td>\n",
       "      <td>0.805100</td>\n",
       "      <td>0.705234</td>\n",
       "      <td>0.752941</td>\n",
       "    </tr>\n",
       "    <tr>\n",
       "      <th>10</th>\n",
       "      <td>0.50</td>\n",
       "      <td>0.800900</td>\n",
       "      <td>0.685294</td>\n",
       "      <td>0.872495</td>\n",
       "      <td>0.768977</td>\n",
       "      <td>0.685294</td>\n",
       "    </tr>\n",
       "    <tr>\n",
       "      <th>11</th>\n",
       "      <td>0.55</td>\n",
       "      <td>0.791901</td>\n",
       "      <td>0.579412</td>\n",
       "      <td>0.923497</td>\n",
       "      <td>0.824268</td>\n",
       "      <td>0.579412</td>\n",
       "    </tr>\n",
       "    <tr>\n",
       "      <th>12</th>\n",
       "      <td>0.60</td>\n",
       "      <td>0.793026</td>\n",
       "      <td>0.529412</td>\n",
       "      <td>0.956284</td>\n",
       "      <td>0.882353</td>\n",
       "      <td>0.529412</td>\n",
       "    </tr>\n",
       "    <tr>\n",
       "      <th>13</th>\n",
       "      <td>0.65</td>\n",
       "      <td>0.793026</td>\n",
       "      <td>0.529412</td>\n",
       "      <td>0.956284</td>\n",
       "      <td>0.882353</td>\n",
       "      <td>0.529412</td>\n",
       "    </tr>\n",
       "    <tr>\n",
       "      <th>14</th>\n",
       "      <td>0.70</td>\n",
       "      <td>0.791901</td>\n",
       "      <td>0.523529</td>\n",
       "      <td>0.958106</td>\n",
       "      <td>0.885572</td>\n",
       "      <td>0.523529</td>\n",
       "    </tr>\n",
       "    <tr>\n",
       "      <th>15</th>\n",
       "      <td>0.75</td>\n",
       "      <td>0.777278</td>\n",
       "      <td>0.470588</td>\n",
       "      <td>0.967213</td>\n",
       "      <td>0.898876</td>\n",
       "      <td>0.470588</td>\n",
       "    </tr>\n",
       "    <tr>\n",
       "      <th>16</th>\n",
       "      <td>0.80</td>\n",
       "      <td>0.742407</td>\n",
       "      <td>0.338235</td>\n",
       "      <td>0.992714</td>\n",
       "      <td>0.966387</td>\n",
       "      <td>0.338235</td>\n",
       "    </tr>\n",
       "    <tr>\n",
       "      <th>17</th>\n",
       "      <td>0.85</td>\n",
       "      <td>0.724409</td>\n",
       "      <td>0.288235</td>\n",
       "      <td>0.994536</td>\n",
       "      <td>0.970297</td>\n",
       "      <td>0.288235</td>\n",
       "    </tr>\n",
       "    <tr>\n",
       "      <th>18</th>\n",
       "      <td>0.90</td>\n",
       "      <td>0.678290</td>\n",
       "      <td>0.164706</td>\n",
       "      <td>0.996357</td>\n",
       "      <td>0.965517</td>\n",
       "      <td>0.164706</td>\n",
       "    </tr>\n",
       "    <tr>\n",
       "      <th>19</th>\n",
       "      <td>0.95</td>\n",
       "      <td>0.622047</td>\n",
       "      <td>0.014706</td>\n",
       "      <td>0.998179</td>\n",
       "      <td>0.833333</td>\n",
       "      <td>0.014706</td>\n",
       "    </tr>\n",
       "  </tbody>\n",
       "</table>\n",
       "</div>"
      ],
      "text/plain": [
       "    Prob  Accuracy  Sensitivity  Specificity  Precision    Recall\n",
       "0   0.00  0.382452     1.000000     0.000000   0.382452  1.000000\n",
       "1   0.05  0.385827     1.000000     0.005464   0.383747  1.000000\n",
       "2   0.10  0.614173     0.905882     0.433515   0.497577  0.905882\n",
       "3   0.15  0.649044     0.888235     0.500911   0.524306  0.888235\n",
       "4   0.20  0.680540     0.879412     0.557377   0.551661  0.879412\n",
       "5   0.25  0.741282     0.841176     0.679417   0.619048  0.841176\n",
       "6   0.30  0.760405     0.835294     0.714026   0.643991  0.835294\n",
       "7   0.35  0.776153     0.829412     0.743169   0.666667  0.829412\n",
       "8   0.40  0.781777     0.794118     0.774135   0.685279  0.794118\n",
       "9   0.45  0.785152     0.752941     0.805100   0.705234  0.752941\n",
       "10  0.50  0.800900     0.685294     0.872495   0.768977  0.685294\n",
       "11  0.55  0.791901     0.579412     0.923497   0.824268  0.579412\n",
       "12  0.60  0.793026     0.529412     0.956284   0.882353  0.529412\n",
       "13  0.65  0.793026     0.529412     0.956284   0.882353  0.529412\n",
       "14  0.70  0.791901     0.523529     0.958106   0.885572  0.523529\n",
       "15  0.75  0.777278     0.470588     0.967213   0.898876  0.470588\n",
       "16  0.80  0.742407     0.338235     0.992714   0.966387  0.338235\n",
       "17  0.85  0.724409     0.288235     0.994536   0.970297  0.288235\n",
       "18  0.90  0.678290     0.164706     0.996357   0.965517  0.164706\n",
       "19  0.95  0.622047     0.014706     0.998179   0.833333  0.014706"
      ]
     },
     "execution_count": 196,
     "metadata": {},
     "output_type": "execute_result"
    }
   ],
   "source": [
    "prob_df"
   ]
  },
  {
   "cell_type": "code",
   "execution_count": 199,
   "id": "ec7cf54b-1002-4315-a8b7-c19245439524",
   "metadata": {
    "tags": []
   },
   "outputs": [
    {
     "data": {
      "text/plain": [
       "<Axes: xlabel='Prob'>"
      ]
     },
     "execution_count": 199,
     "metadata": {},
     "output_type": "execute_result"
    },
    {
     "data": {
      "image/png": "[encoded data removed]",
      "text/plain": [
       "<Figure size 640x480 with 1 Axes>"
      ]
     },
     "metadata": {},
     "output_type": "display_data"
    }
   ],
   "source": [
    "prob_df.plot.line(x='Prob', y=['Accuracy', 'Sensitivity', 'Specificity', 'Precision', 'Recall'])"
   ]
  },
  {
   "cell_type": "code",
   "execution_count": 215,
   "id": "973e3c35-2b8c-4b2e-aa15-f46d7d928242",
   "metadata": {
    "tags": []
   },
   "outputs": [],
   "source": [
    "y_test_pred_prob = rfe.predict_proba(X_test.drop('PassengerId', axis=1))\n",
    "y_test_pred = np.where(y_test_pred_prob[:,1]<0.4, 0, 1)"
   ]
  },
  {
   "cell_type": "code",
   "execution_count": 216,
   "id": "2303c937-4293-4ddb-9a63-c99dd5c316f3",
   "metadata": {
    "tags": []
   },
   "outputs": [],
   "source": [
    "ans = pd.DataFrame()\n",
    "ans['Survived'] = y_test_pred\n",
    "ans['PassengerId'] = X_test['PassengerId']"
   ]
  },
  {
   "cell_type": "code",
   "execution_count": 221,
   "id": "38b441df-dadb-4a40-8f09-8be2642c820c",
   "metadata": {
    "tags": []
   },
   "outputs": [
    {
     "data": {
      "text/html": [
       "<div>\n",
       "<style scoped>\n",
       "    .dataframe tbody tr th:only-of-type {\n",
       "        vertical-align: middle;\n",
       "    }\n",
       "\n",
       "    .dataframe tbody tr th {\n",
       "        vertical-align: top;\n",
       "    }\n",
       "\n",
       "    .dataframe thead th {\n",
       "        text-align: right;\n",
       "    }\n",
       "</style>\n",
       "<table border=\"1\" class=\"dataframe\">\n",
       "  <thead>\n",
       "    <tr style=\"text-align: right;\">\n",
       "      <th></th>\n",
       "      <th>Survived</th>\n",
       "      <th>PassengerId</th>\n",
       "    </tr>\n",
       "  </thead>\n",
       "  <tbody>\n",
       "    <tr>\n",
       "      <th>413</th>\n",
       "      <td>0</td>\n",
       "      <td>1305</td>\n",
       "    </tr>\n",
       "    <tr>\n",
       "      <th>414</th>\n",
       "      <td>1</td>\n",
       "      <td>1306</td>\n",
       "    </tr>\n",
       "    <tr>\n",
       "      <th>415</th>\n",
       "      <td>0</td>\n",
       "      <td>1307</td>\n",
       "    </tr>\n",
       "    <tr>\n",
       "      <th>416</th>\n",
       "      <td>0</td>\n",
       "      <td>1308</td>\n",
       "    </tr>\n",
       "    <tr>\n",
       "      <th>417</th>\n",
       "      <td>0</td>\n",
       "      <td>1309</td>\n",
       "    </tr>\n",
       "  </tbody>\n",
       "</table>\n",
       "</div>"
      ],
      "text/plain": [
       "     Survived  PassengerId\n",
       "413         0         1305\n",
       "414         1         1306\n",
       "415         0         1307\n",
       "416         0         1308\n",
       "417         0         1309"
      ]
     },
     "execution_count": 221,
     "metadata": {},
     "output_type": "execute_result"
    }
   ],
   "source": [
    "ans.tail()"
   ]
  },
  {
   "cell_type": "code",
   "execution_count": 222,
   "id": "2f69f32b-1e67-4727-a9a4-f29ca1a3289a",
   "metadata": {
    "tags": []
   },
   "outputs": [],
   "source": [
    "ans.to_csv(\"submission.csv\", index=False)"
   ]
  }
 ],
 "metadata": {
  "kernelspec": {
   "display_name": "Python 3 (ipykernel)",
   "language": "python",
   "name": "python3"
  },
  "language_info": {
   "codemirror_mode": {
    "name": "ipython",
    "version": 3
   },
   "file_extension": ".py",
   "mimetype": "text/x-python",
   "name": "python",
   "nbconvert_exporter": "python",
   "pygments_lexer": "ipython3",
   "version": "3.10.10"
  }
 },
 "nbformat": 4,
 "nbformat_minor": 5
}
