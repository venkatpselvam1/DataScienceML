{
 "cells": [
  {
   "cell_type": "markdown",
   "id": "844550b7-b935-468d-837b-b90ff73c0b6d",
   "metadata": {},
   "source": [
    "# 1. Analysis"
   ]
  },
  {
   "cell_type": "markdown",
   "id": "d9ff78b7-cf26-4e3f-b35c-67cd007412ae",
   "metadata": {},
   "source": [
    "### Read from the DataFrame"
   ]
  },
  {
   "cell_type": "code",
   "execution_count": 454,
   "id": "ffd690c7-597a-43bb-bab4-4bdf56c95b93",
   "metadata": {},
   "outputs": [],
   "source": [
    "import pandas as pd\n",
    "import numpy as np\n",
    "import warnings\n",
    "warnings.filterwarnings('ignore')"
   ]
  },
  {
   "cell_type": "code",
   "execution_count": 455,
   "id": "fa4551bd-15f6-432b-a9f1-afcc7f068e99",
   "metadata": {},
   "outputs": [],
   "source": [
    "df = pd.read_csv('Leads.csv')"
   ]
  },
  {
   "cell_type": "code",
   "execution_count": 456,
   "id": "14b05265-6d81-45e8-a367-8c9f683a31e7",
   "metadata": {},
   "outputs": [
    {
     "name": "stdout",
     "output_type": "stream",
     "text": [
      "(9240, 37)\n"
     ]
    },
    {
     "data": {
      "text/html": [
       "<div>\n",
       "<style scoped>\n",
       "    .dataframe tbody tr th:only-of-type {\n",
       "        vertical-align: middle;\n",
       "    }\n",
       "\n",
       "    .dataframe tbody tr th {\n",
       "        vertical-align: top;\n",
       "    }\n",
       "\n",
       "    .dataframe thead th {\n",
       "        text-align: right;\n",
       "    }\n",
       "</style>\n",
       "<table border=\"1\" class=\"dataframe\">\n",
       "  <thead>\n",
       "    <tr style=\"text-align: right;\">\n",
       "      <th></th>\n",
       "      <th>Prospect ID</th>\n",
       "      <th>Lead Number</th>\n",
       "      <th>Lead Origin</th>\n",
       "      <th>Lead Source</th>\n",
       "      <th>Do Not Email</th>\n",
       "      <th>Do Not Call</th>\n",
       "      <th>Converted</th>\n",
       "      <th>TotalVisits</th>\n",
       "      <th>Total Time Spent on Website</th>\n",
       "      <th>Page Views Per Visit</th>\n",
       "      <th>...</th>\n",
       "      <th>Get updates on DM Content</th>\n",
       "      <th>Lead Profile</th>\n",
       "      <th>City</th>\n",
       "      <th>Asymmetrique Activity Index</th>\n",
       "      <th>Asymmetrique Profile Index</th>\n",
       "      <th>Asymmetrique Activity Score</th>\n",
       "      <th>Asymmetrique Profile Score</th>\n",
       "      <th>I agree to pay the amount through cheque</th>\n",
       "      <th>A free copy of Mastering The Interview</th>\n",
       "      <th>Last Notable Activity</th>\n",
       "    </tr>\n",
       "  </thead>\n",
       "  <tbody>\n",
       "    <tr>\n",
       "      <th>0</th>\n",
       "      <td>7927b2df-8bba-4d29-b9a2-b6e0beafe620</td>\n",
       "      <td>660737</td>\n",
       "      <td>API</td>\n",
       "      <td>Olark Chat</td>\n",
       "      <td>No</td>\n",
       "      <td>No</td>\n",
       "      <td>0</td>\n",
       "      <td>0.0</td>\n",
       "      <td>0</td>\n",
       "      <td>0.0</td>\n",
       "      <td>...</td>\n",
       "      <td>No</td>\n",
       "      <td>Select</td>\n",
       "      <td>Select</td>\n",
       "      <td>02.Medium</td>\n",
       "      <td>02.Medium</td>\n",
       "      <td>15.0</td>\n",
       "      <td>15.0</td>\n",
       "      <td>No</td>\n",
       "      <td>No</td>\n",
       "      <td>Modified</td>\n",
       "    </tr>\n",
       "    <tr>\n",
       "      <th>1</th>\n",
       "      <td>2a272436-5132-4136-86fa-dcc88c88f482</td>\n",
       "      <td>660728</td>\n",
       "      <td>API</td>\n",
       "      <td>Organic Search</td>\n",
       "      <td>No</td>\n",
       "      <td>No</td>\n",
       "      <td>0</td>\n",
       "      <td>5.0</td>\n",
       "      <td>674</td>\n",
       "      <td>2.5</td>\n",
       "      <td>...</td>\n",
       "      <td>No</td>\n",
       "      <td>Select</td>\n",
       "      <td>Select</td>\n",
       "      <td>02.Medium</td>\n",
       "      <td>02.Medium</td>\n",
       "      <td>15.0</td>\n",
       "      <td>15.0</td>\n",
       "      <td>No</td>\n",
       "      <td>No</td>\n",
       "      <td>Email Opened</td>\n",
       "    </tr>\n",
       "    <tr>\n",
       "      <th>2</th>\n",
       "      <td>8cc8c611-a219-4f35-ad23-fdfd2656bd8a</td>\n",
       "      <td>660727</td>\n",
       "      <td>Landing Page Submission</td>\n",
       "      <td>Direct Traffic</td>\n",
       "      <td>No</td>\n",
       "      <td>No</td>\n",
       "      <td>1</td>\n",
       "      <td>2.0</td>\n",
       "      <td>1532</td>\n",
       "      <td>2.0</td>\n",
       "      <td>...</td>\n",
       "      <td>No</td>\n",
       "      <td>Potential Lead</td>\n",
       "      <td>Mumbai</td>\n",
       "      <td>02.Medium</td>\n",
       "      <td>01.High</td>\n",
       "      <td>14.0</td>\n",
       "      <td>20.0</td>\n",
       "      <td>No</td>\n",
       "      <td>Yes</td>\n",
       "      <td>Email Opened</td>\n",
       "    </tr>\n",
       "    <tr>\n",
       "      <th>3</th>\n",
       "      <td>0cc2df48-7cf4-4e39-9de9-19797f9b38cc</td>\n",
       "      <td>660719</td>\n",
       "      <td>Landing Page Submission</td>\n",
       "      <td>Direct Traffic</td>\n",
       "      <td>No</td>\n",
       "      <td>No</td>\n",
       "      <td>0</td>\n",
       "      <td>1.0</td>\n",
       "      <td>305</td>\n",
       "      <td>1.0</td>\n",
       "      <td>...</td>\n",
       "      <td>No</td>\n",
       "      <td>Select</td>\n",
       "      <td>Mumbai</td>\n",
       "      <td>02.Medium</td>\n",
       "      <td>01.High</td>\n",
       "      <td>13.0</td>\n",
       "      <td>17.0</td>\n",
       "      <td>No</td>\n",
       "      <td>No</td>\n",
       "      <td>Modified</td>\n",
       "    </tr>\n",
       "    <tr>\n",
       "      <th>4</th>\n",
       "      <td>3256f628-e534-4826-9d63-4a8b88782852</td>\n",
       "      <td>660681</td>\n",
       "      <td>Landing Page Submission</td>\n",
       "      <td>Google</td>\n",
       "      <td>No</td>\n",
       "      <td>No</td>\n",
       "      <td>1</td>\n",
       "      <td>2.0</td>\n",
       "      <td>1428</td>\n",
       "      <td>1.0</td>\n",
       "      <td>...</td>\n",
       "      <td>No</td>\n",
       "      <td>Select</td>\n",
       "      <td>Mumbai</td>\n",
       "      <td>02.Medium</td>\n",
       "      <td>01.High</td>\n",
       "      <td>15.0</td>\n",
       "      <td>18.0</td>\n",
       "      <td>No</td>\n",
       "      <td>No</td>\n",
       "      <td>Modified</td>\n",
       "    </tr>\n",
       "  </tbody>\n",
       "</table>\n",
       "<p>5 rows × 37 columns</p>\n",
       "</div>"
      ],
      "text/plain": [
       "                            Prospect ID  Lead Number              Lead Origin  \\\n",
       "0  7927b2df-8bba-4d29-b9a2-b6e0beafe620       660737                      API   \n",
       "1  2a272436-5132-4136-86fa-dcc88c88f482       660728                      API   \n",
       "2  8cc8c611-a219-4f35-ad23-fdfd2656bd8a       660727  Landing Page Submission   \n",
       "3  0cc2df48-7cf4-4e39-9de9-19797f9b38cc       660719  Landing Page Submission   \n",
       "4  3256f628-e534-4826-9d63-4a8b88782852       660681  Landing Page Submission   \n",
       "\n",
       "      Lead Source Do Not Email Do Not Call  Converted  TotalVisits  \\\n",
       "0      Olark Chat           No          No          0          0.0   \n",
       "1  Organic Search           No          No          0          5.0   \n",
       "2  Direct Traffic           No          No          1          2.0   \n",
       "3  Direct Traffic           No          No          0          1.0   \n",
       "4          Google           No          No          1          2.0   \n",
       "\n",
       "   Total Time Spent on Website  Page Views Per Visit  ...  \\\n",
       "0                            0                   0.0  ...   \n",
       "1                          674                   2.5  ...   \n",
       "2                         1532                   2.0  ...   \n",
       "3                          305                   1.0  ...   \n",
       "4                         1428                   1.0  ...   \n",
       "\n",
       "  Get updates on DM Content    Lead Profile    City  \\\n",
       "0                        No          Select  Select   \n",
       "1                        No          Select  Select   \n",
       "2                        No  Potential Lead  Mumbai   \n",
       "3                        No          Select  Mumbai   \n",
       "4                        No          Select  Mumbai   \n",
       "\n",
       "  Asymmetrique Activity Index Asymmetrique Profile Index  \\\n",
       "0                   02.Medium                  02.Medium   \n",
       "1                   02.Medium                  02.Medium   \n",
       "2                   02.Medium                    01.High   \n",
       "3                   02.Medium                    01.High   \n",
       "4                   02.Medium                    01.High   \n",
       "\n",
       "  Asymmetrique Activity Score Asymmetrique Profile Score  \\\n",
       "0                        15.0                       15.0   \n",
       "1                        15.0                       15.0   \n",
       "2                        14.0                       20.0   \n",
       "3                        13.0                       17.0   \n",
       "4                        15.0                       18.0   \n",
       "\n",
       "  I agree to pay the amount through cheque  \\\n",
       "0                                       No   \n",
       "1                                       No   \n",
       "2                                       No   \n",
       "3                                       No   \n",
       "4                                       No   \n",
       "\n",
       "  A free copy of Mastering The Interview Last Notable Activity  \n",
       "0                                     No              Modified  \n",
       "1                                     No          Email Opened  \n",
       "2                                    Yes          Email Opened  \n",
       "3                                     No              Modified  \n",
       "4                                     No              Modified  \n",
       "\n",
       "[5 rows x 37 columns]"
      ]
     },
     "execution_count": 456,
     "metadata": {},
     "output_type": "execute_result"
    }
   ],
   "source": [
    "print(df.shape)\n",
    "df.head()"
   ]
  },
  {
   "cell_type": "code",
   "execution_count": 457,
   "id": "d1e86bc5-7daa-4182-b752-0ebdd3b8aac0",
   "metadata": {},
   "outputs": [
    {
     "data": {
      "text/html": [
       "<div>\n",
       "<style scoped>\n",
       "    .dataframe tbody tr th:only-of-type {\n",
       "        vertical-align: middle;\n",
       "    }\n",
       "\n",
       "    .dataframe tbody tr th {\n",
       "        vertical-align: top;\n",
       "    }\n",
       "\n",
       "    .dataframe thead th {\n",
       "        text-align: right;\n",
       "    }\n",
       "</style>\n",
       "<table border=\"1\" class=\"dataframe\">\n",
       "  <thead>\n",
       "    <tr style=\"text-align: right;\">\n",
       "      <th></th>\n",
       "      <th>Lead Number</th>\n",
       "      <th>Converted</th>\n",
       "      <th>TotalVisits</th>\n",
       "      <th>Total Time Spent on Website</th>\n",
       "      <th>Page Views Per Visit</th>\n",
       "      <th>Asymmetrique Activity Score</th>\n",
       "      <th>Asymmetrique Profile Score</th>\n",
       "    </tr>\n",
       "  </thead>\n",
       "  <tbody>\n",
       "    <tr>\n",
       "      <th>count</th>\n",
       "      <td>9240.000000</td>\n",
       "      <td>9240.000000</td>\n",
       "      <td>9103.000000</td>\n",
       "      <td>9240.000000</td>\n",
       "      <td>9103.000000</td>\n",
       "      <td>5022.000000</td>\n",
       "      <td>5022.000000</td>\n",
       "    </tr>\n",
       "    <tr>\n",
       "      <th>mean</th>\n",
       "      <td>617188.435606</td>\n",
       "      <td>0.385390</td>\n",
       "      <td>3.445238</td>\n",
       "      <td>487.698268</td>\n",
       "      <td>2.362820</td>\n",
       "      <td>14.306252</td>\n",
       "      <td>16.344883</td>\n",
       "    </tr>\n",
       "    <tr>\n",
       "      <th>std</th>\n",
       "      <td>23405.995698</td>\n",
       "      <td>0.486714</td>\n",
       "      <td>4.854853</td>\n",
       "      <td>548.021466</td>\n",
       "      <td>2.161418</td>\n",
       "      <td>1.386694</td>\n",
       "      <td>1.811395</td>\n",
       "    </tr>\n",
       "    <tr>\n",
       "      <th>min</th>\n",
       "      <td>579533.000000</td>\n",
       "      <td>0.000000</td>\n",
       "      <td>0.000000</td>\n",
       "      <td>0.000000</td>\n",
       "      <td>0.000000</td>\n",
       "      <td>7.000000</td>\n",
       "      <td>11.000000</td>\n",
       "    </tr>\n",
       "    <tr>\n",
       "      <th>25%</th>\n",
       "      <td>596484.500000</td>\n",
       "      <td>0.000000</td>\n",
       "      <td>1.000000</td>\n",
       "      <td>12.000000</td>\n",
       "      <td>1.000000</td>\n",
       "      <td>14.000000</td>\n",
       "      <td>15.000000</td>\n",
       "    </tr>\n",
       "    <tr>\n",
       "      <th>50%</th>\n",
       "      <td>615479.000000</td>\n",
       "      <td>0.000000</td>\n",
       "      <td>3.000000</td>\n",
       "      <td>248.000000</td>\n",
       "      <td>2.000000</td>\n",
       "      <td>14.000000</td>\n",
       "      <td>16.000000</td>\n",
       "    </tr>\n",
       "    <tr>\n",
       "      <th>75%</th>\n",
       "      <td>637387.250000</td>\n",
       "      <td>1.000000</td>\n",
       "      <td>5.000000</td>\n",
       "      <td>936.000000</td>\n",
       "      <td>3.000000</td>\n",
       "      <td>15.000000</td>\n",
       "      <td>18.000000</td>\n",
       "    </tr>\n",
       "    <tr>\n",
       "      <th>max</th>\n",
       "      <td>660737.000000</td>\n",
       "      <td>1.000000</td>\n",
       "      <td>251.000000</td>\n",
       "      <td>2272.000000</td>\n",
       "      <td>55.000000</td>\n",
       "      <td>18.000000</td>\n",
       "      <td>20.000000</td>\n",
       "    </tr>\n",
       "  </tbody>\n",
       "</table>\n",
       "</div>"
      ],
      "text/plain": [
       "         Lead Number    Converted  TotalVisits  Total Time Spent on Website  \\\n",
       "count    9240.000000  9240.000000  9103.000000                  9240.000000   \n",
       "mean   617188.435606     0.385390     3.445238                   487.698268   \n",
       "std     23405.995698     0.486714     4.854853                   548.021466   \n",
       "min    579533.000000     0.000000     0.000000                     0.000000   \n",
       "25%    596484.500000     0.000000     1.000000                    12.000000   \n",
       "50%    615479.000000     0.000000     3.000000                   248.000000   \n",
       "75%    637387.250000     1.000000     5.000000                   936.000000   \n",
       "max    660737.000000     1.000000   251.000000                  2272.000000   \n",
       "\n",
       "       Page Views Per Visit  Asymmetrique Activity Score  \\\n",
       "count           9103.000000                  5022.000000   \n",
       "mean               2.362820                    14.306252   \n",
       "std                2.161418                     1.386694   \n",
       "min                0.000000                     7.000000   \n",
       "25%                1.000000                    14.000000   \n",
       "50%                2.000000                    14.000000   \n",
       "75%                3.000000                    15.000000   \n",
       "max               55.000000                    18.000000   \n",
       "\n",
       "       Asymmetrique Profile Score  \n",
       "count                 5022.000000  \n",
       "mean                    16.344883  \n",
       "std                      1.811395  \n",
       "min                     11.000000  \n",
       "25%                     15.000000  \n",
       "50%                     16.000000  \n",
       "75%                     18.000000  \n",
       "max                     20.000000  "
      ]
     },
     "execution_count": 457,
     "metadata": {},
     "output_type": "execute_result"
    }
   ],
   "source": [
    "df.describe()"
   ]
  },
  {
   "cell_type": "markdown",
   "id": "7a1a11d4-f737-4f3f-887c-5307307caf73",
   "metadata": {},
   "source": [
    "# 2. Cleaning the data"
   ]
  },
  {
   "cell_type": "markdown",
   "id": "34c1cacb-b857-4204-a280-cd6d27a38b5b",
   "metadata": {},
   "source": [
    "### Dropping the columns\n",
    "- 'Prospect ID' - It is a unique UUID for each lead. We don't need this info\n",
    "- 'Lead Number' - It is a unique number for each lead. We don't need this info\n",
    "- 'What matters most to you in choosing a course' => \"Better Career Prospects\" - 6528, and remaining all are empty. We don't need.\n",
    "- 'Magazine' - All 9240 is no. No need to keep this column.\n",
    "- 'Newspaper Article' - All 9238 is No.\n",
    "- 'X Education Forums' - All 9239 is No.\n",
    "- 'Newspaper' - All 9239 is No.\n",
    "- 'Digital Advertisement' - All 9236 is No.\n",
    "- 'Through Recommendations' - All 9233 is No.\n",
    "- 'Receive More Updates About Our Courses' - All 9240 is No.\n",
    "- 'Update me on Supply Chain Content' - All 9240 is No.\n",
    "- 'Get updates on DM Content' - All 9240 is No.\n",
    "- 'I agree to pay the amount through cheque' - All 9240 is No.\n",
    "- 'Lead Quality' = 51.590909090909086 % missing value. so drop it\n",
    "- 'Asymmetrique Activity Index' = 45.64935064935065 % missing value. so drop it\n",
    "- 'Asymmetrique Profile Index' = 45.64935064935065 % missing value. so drop it\n",
    "- 'Asymmetrique Activity Score' = 45.64935064935065 % missing value. so drop it\n",
    "- 'Asymmetrique Profile Score' = 45.64935064935065 % missing value. so drop it"
   ]
  },
  {
   "cell_type": "code",
   "execution_count": 458,
   "id": "3ab50132-5b16-4ca8-94ee-a2d50e944fb1",
   "metadata": {},
   "outputs": [
    {
     "name": "stdout",
     "output_type": "stream",
     "text": [
      "Lead Quality = 51.590909090909086\n",
      "Asymmetrique Activity Index = 45.64935064935065\n",
      "Asymmetrique Profile Index = 45.64935064935065\n",
      "Asymmetrique Activity Score = 45.64935064935065\n",
      "Asymmetrique Profile Score = 45.64935064935065\n"
     ]
    }
   ],
   "source": [
    "for col in df.columns:\n",
    "    miss_percentage = df[col].isna().sum()/df.shape[0]*100\n",
    "    if(miss_percentage > 40):\n",
    "        print(col, \"=\", miss_percentage)"
   ]
  },
  {
   "cell_type": "code",
   "execution_count": 459,
   "id": "ab19ef35-7806-4a8a-bd2c-fd80137de6bd",
   "metadata": {},
   "outputs": [],
   "source": [
    "cols_to_drop = ['Prospect ID', 'Lead Number', \"What matters most to you in choosing a course\", \"Magazine\", \"Newspaper Article\", \"X Education Forums\", \"Newspaper\", \"Digital Advertisement\", \"Through Recommendations\", \"Receive More Updates About Our Courses\", \"Update me on Supply Chain Content\", \"Get updates on DM Content\", \"I agree to pay the amount through cheque\", 'Lead Quality','Asymmetrique Activity Index', 'Asymmetrique Profile Index' , 'Asymmetrique Activity Score','Asymmetrique Profile Score', 'Lead Source' ]\n",
    "df.drop(cols_to_drop, axis=1, inplace=True)"
   ]
  },
  {
   "cell_type": "markdown",
   "id": "47d907a8-0ae5-4881-b0fd-84af1bbd485e",
   "metadata": {},
   "source": [
    "# 3. Visualizing the data"
   ]
  },
  {
   "cell_type": "code",
   "execution_count": 460,
   "id": "5bf586ed-32fb-4c32-99f2-cdf19c81dbb6",
   "metadata": {},
   "outputs": [],
   "source": [
    "import matplotlib.pyplot as plt\n",
    "import seaborn as sns"
   ]
  },
  {
   "cell_type": "code",
   "execution_count": 461,
   "id": "62567c26-a2f4-427c-a8d6-e282ff63b2f2",
   "metadata": {},
   "outputs": [
    {
     "name": "stdout",
     "output_type": "stream",
     "text": [
      "['Lead Origin', 'Do Not Email', 'Do Not Call', 'Converted', 'Search', 'A free copy of Mastering The Interview']\n",
      "\n"
     ]
    }
   ],
   "source": [
    "cat_cols = ['Lead Origin', \"Do Not Email\", \"Do Not Call\", \"Converted\", \"How did you hear about X Education\", \"What is your current occupation\", \"Search\", \"Lead Profile\", \"City\",  \"A free copy of Mastering The Interview\", \"Last Notable Activity\", 'Last Activity', 'Specialization', 'Tags']\n",
    "cat_cols_to_visualize = []\n",
    "for col in cat_cols:\n",
    "    l = len(df[col].value_counts())\n",
    "    if(l <6):\n",
    "        cat_cols_to_visualize.append(col)\n",
    "print(cat_cols_to_visualize)\n",
    "print()"
   ]
  },
  {
   "cell_type": "code",
   "execution_count": 462,
   "id": "af146d8c-7e74-4e3b-a66b-028535b18db3",
   "metadata": {},
   "outputs": [
    {
     "data": {
      "image/png": "[encoded data removed]",
      "text/plain": [
       "<Figure size 640x480 with 5 Axes>"
      ]
     },
     "metadata": {},
     "output_type": "display_data"
    }
   ],
   "source": [
    "cat_cols_to_visualize = ['Lead Origin', 'Do Not Email', 'Do Not Call', 'Search', 'A free copy of Mastering The Interview'] \n",
    "cnt = 1\n",
    "for col in cat_cols_to_visualize:\n",
    "    plt.subplot(2,3,cnt)\n",
    "    cnt+=1\n",
    "    #print(df[col])\n",
    "    #df[col].value_counts()\n",
    "    sns.boxplot(data=df, x=col, y='Converted')"
   ]
  },
  {
   "cell_type": "markdown",
   "id": "5f3e447c-dae1-4cd4-8024-87e04f9abc26",
   "metadata": {},
   "source": [
    "# 4. Creating dummies for Category variable"
   ]
  },
  {
   "cell_type": "code",
   "execution_count": 464,
   "id": "4c6c87f3-0021-4e90-97b3-96967c3f0012",
   "metadata": {},
   "outputs": [
    {
     "name": "stdout",
     "output_type": "stream",
     "text": [
      "(9240, 116)\n"
     ]
    }
   ],
   "source": [
    "cat_cols = ['Lead Origin',  \"Do Not Email\", \"Do Not Call\", \"How did you hear about X Education\", \"What is your current occupation\", \"Search\", \"Lead Profile\", \"City\",  \"A free copy of Mastering The Interview\", \"Last Notable Activity\", 'Last Activity', 'Specialization', 'Tags']\n",
    "for col in cat_cols:\n",
    "    dummy = pd.get_dummies(df[col], drop_first=True, dtype=np.int64).rename(columns=lambda x:col +\":\" +str(x))\n",
    "    df = pd.concat([df, dummy], axis=1)\n",
    "    #print(df.shape)\n",
    "    #print(\"Len\", len(df[col].value_counts()))\n",
    "    #print(\"----------------------------\")\n",
    "df.drop(cat_cols, axis=1, inplace=True)\n",
    "print(df.shape)"
   ]
  },
  {
   "cell_type": "code",
   "execution_count": 465,
   "id": "dd56b1e3-fff9-406b-ac0c-d428205c2b7d",
   "metadata": {},
   "outputs": [],
   "source": [
    "df['IsIndia'] = df['Country'].apply(lambda x : 1 if x == 'India' else 0)\n",
    "df.drop(['Country'], axis=1, inplace=True)"
   ]
  },
  {
   "cell_type": "code",
   "execution_count": 466,
   "id": "eaccb589-6d0e-471a-adee-c808053204a8",
   "metadata": {},
   "outputs": [],
   "source": [
    "df = df.fillna(df.median())"
   ]
  },
  {
   "cell_type": "code",
   "execution_count": 467,
   "id": "a0822a6f-ab5a-4571-9b67-a779c2cd33e6",
   "metadata": {},
   "outputs": [],
   "source": [
    "#df.isna().sum() / 9240 * 100"
   ]
  },
  {
   "cell_type": "markdown",
   "id": "ae859bbd-8e90-4690-bbff-d01950394d1e",
   "metadata": {},
   "source": [
    "# 5. Scaling the model"
   ]
  },
  {
   "cell_type": "code",
   "execution_count": 468,
   "id": "2c97b820-4dd7-4690-a2b5-a99b76004d57",
   "metadata": {},
   "outputs": [],
   "source": [
    "import statsmodels\n",
    "import statsmodels.api as sm\n",
    "import sklearn\n",
    "from sklearn.model_selection import train_test_split\n",
    "from sklearn.preprocessing import MinMaxScaler"
   ]
  },
  {
   "cell_type": "code",
   "execution_count": 469,
   "id": "bde3a192-cdd1-4e30-8140-56a5d88f9898",
   "metadata": {},
   "outputs": [
    {
     "name": "stdout",
     "output_type": "stream",
     "text": [
      "(9240, 116) (6468, 116) (2772, 116)\n"
     ]
    }
   ],
   "source": [
    "df_train, df_test = train_test_split(df, train_size=0.7, random_state=100)\n",
    "print(df.shape, df_train.shape, df_test.shape)"
   ]
  },
  {
   "cell_type": "code",
   "execution_count": 470,
   "id": "3f3086dc-6e4e-4d87-9976-b0dd4794196b",
   "metadata": {},
   "outputs": [],
   "source": [
    "num_cols = ['TotalVisits',\t'Total Time Spent on Website',\t'Page Views Per Visit']\n",
    "scaler = MinMaxScaler()\n",
    "df_train[num_cols] = scaler.fit_transform(df_train[num_cols])\n",
    "df_test[num_cols] = scaler.transform(df_test[num_cols])"
   ]
  },
  {
   "cell_type": "code",
   "execution_count": 471,
   "id": "3d4c0a20-12a1-429f-b45a-6ce975d3c200",
   "metadata": {},
   "outputs": [
    {
     "data": {
      "text/html": [
       "<div>\n",
       "<style scoped>\n",
       "    .dataframe tbody tr th:only-of-type {\n",
       "        vertical-align: middle;\n",
       "    }\n",
       "\n",
       "    .dataframe tbody tr th {\n",
       "        vertical-align: top;\n",
       "    }\n",
       "\n",
       "    .dataframe thead th {\n",
       "        text-align: right;\n",
       "    }\n",
       "</style>\n",
       "<table border=\"1\" class=\"dataframe\">\n",
       "  <thead>\n",
       "    <tr style=\"text-align: right;\">\n",
       "      <th></th>\n",
       "      <th>TotalVisits</th>\n",
       "      <th>Total Time Spent on Website</th>\n",
       "      <th>Page Views Per Visit</th>\n",
       "    </tr>\n",
       "  </thead>\n",
       "  <tbody>\n",
       "    <tr>\n",
       "      <th>count</th>\n",
       "      <td>6468.000000</td>\n",
       "      <td>6468.000000</td>\n",
       "      <td>6468.000000</td>\n",
       "    </tr>\n",
       "    <tr>\n",
       "      <th>mean</th>\n",
       "      <td>0.013815</td>\n",
       "      <td>0.212974</td>\n",
       "      <td>0.042686</td>\n",
       "    </tr>\n",
       "    <tr>\n",
       "      <th>std</th>\n",
       "      <td>0.021048</td>\n",
       "      <td>0.240566</td>\n",
       "      <td>0.039326</td>\n",
       "    </tr>\n",
       "    <tr>\n",
       "      <th>min</th>\n",
       "      <td>0.000000</td>\n",
       "      <td>0.000000</td>\n",
       "      <td>0.000000</td>\n",
       "    </tr>\n",
       "    <tr>\n",
       "      <th>25%</th>\n",
       "      <td>0.003984</td>\n",
       "      <td>0.005282</td>\n",
       "      <td>0.018182</td>\n",
       "    </tr>\n",
       "    <tr>\n",
       "      <th>50%</th>\n",
       "      <td>0.011952</td>\n",
       "      <td>0.108275</td>\n",
       "      <td>0.036364</td>\n",
       "    </tr>\n",
       "    <tr>\n",
       "      <th>75%</th>\n",
       "      <td>0.019920</td>\n",
       "      <td>0.407790</td>\n",
       "      <td>0.054545</td>\n",
       "    </tr>\n",
       "    <tr>\n",
       "      <th>max</th>\n",
       "      <td>1.000000</td>\n",
       "      <td>1.000000</td>\n",
       "      <td>1.000000</td>\n",
       "    </tr>\n",
       "  </tbody>\n",
       "</table>\n",
       "</div>"
      ],
      "text/plain": [
       "       TotalVisits  Total Time Spent on Website  Page Views Per Visit\n",
       "count  6468.000000                  6468.000000           6468.000000\n",
       "mean      0.013815                     0.212974              0.042686\n",
       "std       0.021048                     0.240566              0.039326\n",
       "min       0.000000                     0.000000              0.000000\n",
       "25%       0.003984                     0.005282              0.018182\n",
       "50%       0.011952                     0.108275              0.036364\n",
       "75%       0.019920                     0.407790              0.054545\n",
       "max       1.000000                     1.000000              1.000000"
      ]
     },
     "execution_count": 471,
     "metadata": {},
     "output_type": "execute_result"
    }
   ],
   "source": [
    "df_train[num_cols].describe()"
   ]
  },
  {
   "cell_type": "code",
   "execution_count": 472,
   "id": "f894539d-0e3e-4273-b3c9-9529363b876d",
   "metadata": {},
   "outputs": [
    {
     "data": {
      "text/html": [
       "<div>\n",
       "<style scoped>\n",
       "    .dataframe tbody tr th:only-of-type {\n",
       "        vertical-align: middle;\n",
       "    }\n",
       "\n",
       "    .dataframe tbody tr th {\n",
       "        vertical-align: top;\n",
       "    }\n",
       "\n",
       "    .dataframe thead th {\n",
       "        text-align: right;\n",
       "    }\n",
       "</style>\n",
       "<table border=\"1\" class=\"dataframe\">\n",
       "  <thead>\n",
       "    <tr style=\"text-align: right;\">\n",
       "      <th></th>\n",
       "      <th>TotalVisits</th>\n",
       "      <th>Total Time Spent on Website</th>\n",
       "      <th>Page Views Per Visit</th>\n",
       "    </tr>\n",
       "  </thead>\n",
       "  <tbody>\n",
       "    <tr>\n",
       "      <th>count</th>\n",
       "      <td>2772.000000</td>\n",
       "      <td>2772.000000</td>\n",
       "      <td>2772.000000</td>\n",
       "    </tr>\n",
       "    <tr>\n",
       "      <th>mean</th>\n",
       "      <td>0.013430</td>\n",
       "      <td>0.218582</td>\n",
       "      <td>0.043274</td>\n",
       "    </tr>\n",
       "    <tr>\n",
       "      <th>std</th>\n",
       "      <td>0.013964</td>\n",
       "      <td>0.242693</td>\n",
       "      <td>0.038280</td>\n",
       "    </tr>\n",
       "    <tr>\n",
       "      <th>min</th>\n",
       "      <td>0.000000</td>\n",
       "      <td>0.000000</td>\n",
       "      <td>0.000000</td>\n",
       "    </tr>\n",
       "    <tr>\n",
       "      <th>25%</th>\n",
       "      <td>0.003984</td>\n",
       "      <td>0.005722</td>\n",
       "      <td>0.018182</td>\n",
       "    </tr>\n",
       "    <tr>\n",
       "      <th>50%</th>\n",
       "      <td>0.011952</td>\n",
       "      <td>0.113556</td>\n",
       "      <td>0.036364</td>\n",
       "    </tr>\n",
       "    <tr>\n",
       "      <th>75%</th>\n",
       "      <td>0.019920</td>\n",
       "      <td>0.417694</td>\n",
       "      <td>0.063636</td>\n",
       "    </tr>\n",
       "    <tr>\n",
       "      <th>max</th>\n",
       "      <td>0.215139</td>\n",
       "      <td>0.991637</td>\n",
       "      <td>0.290909</td>\n",
       "    </tr>\n",
       "  </tbody>\n",
       "</table>\n",
       "</div>"
      ],
      "text/plain": [
       "       TotalVisits  Total Time Spent on Website  Page Views Per Visit\n",
       "count  2772.000000                  2772.000000           2772.000000\n",
       "mean      0.013430                     0.218582              0.043274\n",
       "std       0.013964                     0.242693              0.038280\n",
       "min       0.000000                     0.000000              0.000000\n",
       "25%       0.003984                     0.005722              0.018182\n",
       "50%       0.011952                     0.113556              0.036364\n",
       "75%       0.019920                     0.417694              0.063636\n",
       "max       0.215139                     0.991637              0.290909"
      ]
     },
     "execution_count": 472,
     "metadata": {},
     "output_type": "execute_result"
    }
   ],
   "source": [
    "df_test[num_cols].describe()"
   ]
  },
  {
   "cell_type": "code",
   "execution_count": 473,
   "id": "70fb4812-9575-4185-801a-39aec82643a1",
   "metadata": {},
   "outputs": [],
   "source": [
    "y_train = df_train.pop('Converted')\n",
    "X_train = df_train\n",
    "y_test = df_test.pop('Converted')\n",
    "X_test = df_test"
   ]
  },
  {
   "cell_type": "code",
   "execution_count": 474,
   "id": "d917a1cd-12ef-4978-a3ac-999a42a9ac56",
   "metadata": {},
   "outputs": [
    {
     "name": "stdout",
     "output_type": "stream",
     "text": [
      "(6468, 115) (6468,)\n",
      "(2772, 115) (2772,)\n"
     ]
    }
   ],
   "source": [
    "print(X_train.shape, y_train.shape)\n",
    "print(X_test.shape, y_test.shape)"
   ]
  },
  {
   "cell_type": "code",
   "execution_count": 475,
   "id": "620a1970-af3e-4a69-9043-d99546901b3f",
   "metadata": {},
   "outputs": [
    {
     "name": "stdout",
     "output_type": "stream",
     "text": [
      "<class 'pandas.core.frame.DataFrame'>\n",
      "RangeIndex: 9240 entries, 0 to 9239\n",
      "Columns: 116 entries, Converted to IsIndia\n",
      "dtypes: float64(2), int64(114)\n",
      "memory usage: 8.2 MB\n"
     ]
    }
   ],
   "source": [
    "df.info()"
   ]
  },
  {
   "cell_type": "markdown",
   "id": "f28fb8cb-a981-4371-8428-89213a13d2af",
   "metadata": {},
   "source": [
    "# 6. Model Building"
   ]
  },
  {
   "cell_type": "markdown",
   "id": "b1783987-3811-4e22-9c29-bb867dfe29e3",
   "metadata": {},
   "source": [
    "## 7. Using RFE"
   ]
  },
  {
   "cell_type": "code",
   "execution_count": 476,
   "id": "33eb73ea-b912-4e27-a8ea-88bd607a6c4e",
   "metadata": {},
   "outputs": [],
   "source": [
    "from sklearn.linear_model import LogisticRegression\n",
    "from sklearn.feature_selection import RFE\n",
    "from statsmodels.stats.outliers_influence import variance_inflation_factor\n",
    "from sklearn.metrics import accuracy_score"
   ]
  },
  {
   "cell_type": "code",
   "execution_count": 477,
   "id": "e9e85e4a-8451-4571-9b7a-6e94bdbe50a8",
   "metadata": {},
   "outputs": [
    {
     "data": {
      "text/plain": [
       "array([ True,  True, False, False,  True, False, False,  True,  True,\n",
       "        True, False,  True, False, False,  True, False, False, False,\n",
       "        True, False, False, False,  True, False, False,  True,  True,\n",
       "        True,  True,  True,  True,  True,  True, False, False, False,\n",
       "       False, False, False, False,  True,  True, False, False, False,\n",
       "       False,  True,  True,  True, False, False,  True, False,  True,\n",
       "       False,  True,  True, False, False, False, False, False, False,\n",
       "        True,  True, False,  True, False, False,  True, False, False,\n",
       "       False, False, False, False,  True, False,  True,  True, False,\n",
       "       False, False, False,  True,  True, False,  True,  True, False,\n",
       "        True,  True,  True,  True,  True, False,  True,  True,  True,\n",
       "        True,  True, False,  True,  True, False, False, False,  True,\n",
       "       False,  True,  True,  True,  True,  True,  True])"
      ]
     },
     "execution_count": 477,
     "metadata": {},
     "output_type": "execute_result"
    }
   ],
   "source": [
    "logr = LogisticRegression()\n",
    "logr.fit(X_train, y_train)\n",
    "rfe = RFE(logr)\n",
    "rfe.fit(X_train, y_train)\n",
    "rfe.support_"
   ]
  },
  {
   "cell_type": "code",
   "execution_count": null,
   "id": "1084965f-6ae6-4d20-8596-ffb46c307e38",
   "metadata": {},
   "outputs": [],
   "source": [
    "#list(zip(X_train.columns, rfe.support_, rfe.ranking_))"
   ]
  },
  {
   "cell_type": "code",
   "execution_count": 478,
   "id": "c8cd9836-f43d-4487-90ff-b78297bcdc03",
   "metadata": {},
   "outputs": [
    {
     "data": {
      "text/plain": [
       "Index(['Page Views Per Visit', 'Lead Origin:Landing Page Submission',\n",
       "       'Lead Origin:Lead Import', 'Lead Origin:Quick Add Form',\n",
       "       'Lead Origin:Quick Add Form', 'Do Not Call:Yes',\n",
       "       'How did you hear about X Education:Email',\n",
       "       'How did you hear about X Education:Online Search',\n",
       "       'How did you hear about X Education:Other',\n",
       "       'How did you hear about X Education:SMS',\n",
       "       'How did you hear about X Education:Social Media',\n",
       "       'How did you hear about X Education:Student of SomeSchool',\n",
       "       'How did you hear about X Education:Word Of Mouth',\n",
       "       'What is your current occupation:Other',\n",
       "       'What is your current occupation:Student', 'City:Other Cities',\n",
       "       'City:Other Cities of Maharashtra', 'City:Other Metro Cities',\n",
       "       'City:Select', 'City:Thane & Outskirts', 'City:Tier II Cities',\n",
       "       'A free copy of Mastering The Interview:Yes',\n",
       "       'Last Notable Activity:Email Marked Spam',\n",
       "       'Last Notable Activity:Email Opened',\n",
       "       'Last Notable Activity:Email Received',\n",
       "       'Last Notable Activity:Form Submitted on Website',\n",
       "       'Last Notable Activity:Page Visited on Website',\n",
       "       'Last Notable Activity:Resubscribed to emails',\n",
       "       'Last Notable Activity:Unreachable',\n",
       "       'Last Notable Activity:View in browser link Clicked',\n",
       "       'Last Activity:Email Link Clicked', 'Last Activity:Email Marked Spam',\n",
       "       'Last Activity:Email Opened', 'Last Activity:Email Received',\n",
       "       'Last Activity:Form Submitted on Website',\n",
       "       'Last Activity:Had a Phone Conversation',\n",
       "       'Last Activity:Resubscribed to emails', 'Last Activity:Unreachable',\n",
       "       'Last Activity:Unsubscribed',\n",
       "       'Last Activity:Visited Booth in Tradeshow',\n",
       "       'Specialization:Business Administration', 'Specialization:E-Business',\n",
       "       'Specialization:E-COMMERCE', 'Specialization:Finance Management',\n",
       "       'Specialization:Healthcare Management',\n",
       "       'Specialization:Human Resource Management',\n",
       "       'Specialization:Marketing Management',\n",
       "       'Specialization:Media and Advertising',\n",
       "       'Specialization:Operations Management',\n",
       "       'Specialization:Retail Management',\n",
       "       'Specialization:Services Excellence', 'Tags:Busy',\n",
       "       'Tags:Interested in Next batch',\n",
       "       'Tags:Recognition issue (DEC approval)', 'Tags:Still Thinking',\n",
       "       'Tags:University not recognized',\n",
       "       'Tags:Want to take admission but has financial problems',\n",
       "       'Tags:in touch with EINS'],\n",
       "      dtype='object')"
      ]
     },
     "execution_count": 478,
     "metadata": {},
     "output_type": "execute_result"
    }
   ],
   "source": [
    "rejected_cols = X_train.columns[~rfe.support_]\n",
    "rejected_cols"
   ]
  },
  {
   "cell_type": "code",
   "execution_count": 500,
   "id": "2d186f68-241d-4d4e-aefa-fd2b0bb2cb2d",
   "metadata": {},
   "outputs": [
    {
     "data": {
      "text/html": [
       "<table class=\"simpletable\">\n",
       "<caption>Generalized Linear Model Regression Results</caption>\n",
       "<tr>\n",
       "  <th>Dep. Variable:</th>       <td>Converted</td>    <th>  No. Observations:  </th>  <td>  6468</td> \n",
       "</tr>\n",
       "<tr>\n",
       "  <th>Model:</th>                  <td>GLM</td>       <th>  Df Residuals:      </th>  <td>  6445</td> \n",
       "</tr>\n",
       "<tr>\n",
       "  <th>Model Family:</th>        <td>Binomial</td>     <th>  Df Model:          </th>  <td>    22</td> \n",
       "</tr>\n",
       "<tr>\n",
       "  <th>Link Function:</th>         <td>Logit</td>      <th>  Scale:             </th> <td>  1.0000</td>\n",
       "</tr>\n",
       "<tr>\n",
       "  <th>Method:</th>                <td>IRLS</td>       <th>  Log-Likelihood:    </th> <td> -1273.2</td>\n",
       "</tr>\n",
       "<tr>\n",
       "  <th>Date:</th>            <td>Mon, 17 Jul 2023</td> <th>  Deviance:          </th> <td>  2546.4</td>\n",
       "</tr>\n",
       "<tr>\n",
       "  <th>Time:</th>                <td>16:27:09</td>     <th>  Pearson chi2:      </th> <td>1.83e+04</td>\n",
       "</tr>\n",
       "<tr>\n",
       "  <th>No. Iterations:</th>          <td>8</td>        <th>  Pseudo R-squ. (CS):</th>  <td>0.6077</td> \n",
       "</tr>\n",
       "<tr>\n",
       "  <th>Covariance Type:</th>     <td>nonrobust</td>    <th>                     </th>     <td> </td>   \n",
       "</tr>\n",
       "</table>\n",
       "<table class=\"simpletable\">\n",
       "<tr>\n",
       "                      <td></td>                        <th>coef</th>     <th>std err</th>      <th>z</th>      <th>P>|z|</th>  <th>[0.025</th>    <th>0.975]</th>  \n",
       "</tr>\n",
       "<tr>\n",
       "  <th>const</th>                                    <td>   -2.1017</td> <td>    0.130</td> <td>  -16.188</td> <td> 0.000</td> <td>   -2.356</td> <td>   -1.847</td>\n",
       "</tr>\n",
       "<tr>\n",
       "  <th>TotalVisits</th>                              <td>    7.1276</td> <td>    1.724</td> <td>    4.135</td> <td> 0.000</td> <td>    3.749</td> <td>   10.506</td>\n",
       "</tr>\n",
       "<tr>\n",
       "  <th>Total Time Spent on Website</th>              <td>    4.2685</td> <td>    0.248</td> <td>   17.235</td> <td> 0.000</td> <td>    3.783</td> <td>    4.754</td>\n",
       "</tr>\n",
       "<tr>\n",
       "  <th>Do Not Email:Yes</th>                         <td>   -0.7142</td> <td>    0.274</td> <td>   -2.606</td> <td> 0.009</td> <td>   -1.251</td> <td>   -0.177</td>\n",
       "</tr>\n",
       "<tr>\n",
       "  <th>Lead Profile:Student of SomeSchool</th>       <td>   -3.4959</td> <td>    0.653</td> <td>   -5.355</td> <td> 0.000</td> <td>   -4.775</td> <td>   -2.216</td>\n",
       "</tr>\n",
       "<tr>\n",
       "  <th>Last Notable Activity:Email Bounced</th>      <td>    2.1136</td> <td>    0.789</td> <td>    2.680</td> <td> 0.007</td> <td>    0.568</td> <td>    3.659</td>\n",
       "</tr>\n",
       "<tr>\n",
       "  <th>Last Notable Activity:Modified</th>           <td>   -0.3922</td> <td>    0.139</td> <td>   -2.832</td> <td> 0.005</td> <td>   -0.664</td> <td>   -0.121</td>\n",
       "</tr>\n",
       "<tr>\n",
       "  <th>Last Notable Activity:SMS Sent</th>           <td>    2.2672</td> <td>    0.137</td> <td>   16.547</td> <td> 0.000</td> <td>    1.999</td> <td>    2.536</td>\n",
       "</tr>\n",
       "<tr>\n",
       "  <th>Last Activity:Converted to Lead</th>          <td>   -1.3722</td> <td>    0.358</td> <td>   -3.833</td> <td> 0.000</td> <td>   -2.074</td> <td>   -0.671</td>\n",
       "</tr>\n",
       "<tr>\n",
       "  <th>Last Activity:Email Bounced</th>              <td>   -1.7856</td> <td>    0.623</td> <td>   -2.865</td> <td> 0.004</td> <td>   -3.007</td> <td>   -0.564</td>\n",
       "</tr>\n",
       "<tr>\n",
       "  <th>Last Activity:Olark Chat Conversation</th>    <td>   -1.4140</td> <td>    0.233</td> <td>   -6.065</td> <td> 0.000</td> <td>   -1.871</td> <td>   -0.957</td>\n",
       "</tr>\n",
       "<tr>\n",
       "  <th>Last Activity:Page Visited on Website</th>    <td>   -0.8874</td> <td>    0.244</td> <td>   -3.634</td> <td> 0.000</td> <td>   -1.366</td> <td>   -0.409</td>\n",
       "</tr>\n",
       "<tr>\n",
       "  <th>Specialization:Select</th>                    <td>    1.7557</td> <td>    0.132</td> <td>   13.319</td> <td> 0.000</td> <td>    1.497</td> <td>    2.014</td>\n",
       "</tr>\n",
       "<tr>\n",
       "  <th>Tags:Closed by Horizzon</th>                  <td>    7.4885</td> <td>    1.024</td> <td>    7.314</td> <td> 0.000</td> <td>    5.482</td> <td>    9.495</td>\n",
       "</tr>\n",
       "<tr>\n",
       "  <th>Tags:Interested  in full time MBA</th>        <td>   -2.0154</td> <td>    0.739</td> <td>   -2.727</td> <td> 0.006</td> <td>   -3.464</td> <td>   -0.567</td>\n",
       "</tr>\n",
       "<tr>\n",
       "  <th>Tags:Interested in other courses</th>         <td>   -2.5415</td> <td>    0.368</td> <td>   -6.910</td> <td> 0.000</td> <td>   -3.262</td> <td>   -1.821</td>\n",
       "</tr>\n",
       "<tr>\n",
       "  <th>Tags:Lost to EINS</th>                        <td>    6.8875</td> <td>    0.878</td> <td>    7.841</td> <td> 0.000</td> <td>    5.166</td> <td>    8.609</td>\n",
       "</tr>\n",
       "<tr>\n",
       "  <th>Tags:Not doing further education</th>         <td>   -3.0457</td> <td>    1.039</td> <td>   -2.931</td> <td> 0.003</td> <td>   -5.083</td> <td>   -1.009</td>\n",
       "</tr>\n",
       "<tr>\n",
       "  <th>Tags:Ringing</th>                             <td>   -3.8839</td> <td>    0.241</td> <td>  -16.104</td> <td> 0.000</td> <td>   -4.357</td> <td>   -3.411</td>\n",
       "</tr>\n",
       "<tr>\n",
       "  <th>Tags:Will revert after reading the email</th> <td>    4.7468</td> <td>    0.180</td> <td>   26.361</td> <td> 0.000</td> <td>    4.394</td> <td>    5.100</td>\n",
       "</tr>\n",
       "<tr>\n",
       "  <th>Tags:invalid number</th>                      <td>   -4.2048</td> <td>    1.096</td> <td>   -3.837</td> <td> 0.000</td> <td>   -6.353</td> <td>   -2.057</td>\n",
       "</tr>\n",
       "<tr>\n",
       "  <th>Tags:switched off</th>                        <td>   -4.0490</td> <td>    0.554</td> <td>   -7.309</td> <td> 0.000</td> <td>   -5.135</td> <td>   -2.963</td>\n",
       "</tr>\n",
       "<tr>\n",
       "  <th>IsIndia</th>                                  <td>   -0.8893</td> <td>    0.136</td> <td>   -6.550</td> <td> 0.000</td> <td>   -1.155</td> <td>   -0.623</td>\n",
       "</tr>\n",
       "</table>"
      ],
      "text/latex": [
       "\\begin{center}\n",
       "\\begin{tabular}{lclc}\n",
       "\\toprule\n",
       "\\textbf{Dep. Variable:}                           &    Converted     & \\textbf{  No. Observations:  } &     6468    \\\\\n",
       "\\textbf{Model:}                                   &       GLM        & \\textbf{  Df Residuals:      } &     6445    \\\\\n",
       "\\textbf{Model Family:}                            &     Binomial     & \\textbf{  Df Model:          } &       22    \\\\\n",
       "\\textbf{Link Function:}                           &      Logit       & \\textbf{  Scale:             } &    1.0000   \\\\\n",
       "\\textbf{Method:}                                  &       IRLS       & \\textbf{  Log-Likelihood:    } &   -1273.2   \\\\\n",
       "\\textbf{Date:}                                    & Mon, 17 Jul 2023 & \\textbf{  Deviance:          } &    2546.4   \\\\\n",
       "\\textbf{Time:}                                    &     16:27:09     & \\textbf{  Pearson chi2:      } &  1.83e+04   \\\\\n",
       "\\textbf{No. Iterations:}                          &        8         & \\textbf{  Pseudo R-squ. (CS):} &   0.6077    \\\\\n",
       "\\textbf{Covariance Type:}                         &    nonrobust     & \\textbf{                     } &             \\\\\n",
       "\\bottomrule\n",
       "\\end{tabular}\n",
       "\\begin{tabular}{lcccccc}\n",
       "                                                  & \\textbf{coef} & \\textbf{std err} & \\textbf{z} & \\textbf{P$> |$z$|$} & \\textbf{[0.025} & \\textbf{0.975]}  \\\\\n",
       "\\midrule\n",
       "\\textbf{const}                                    &      -2.1017  &        0.130     &   -16.188  &         0.000        &       -2.356    &       -1.847     \\\\\n",
       "\\textbf{TotalVisits}                              &       7.1276  &        1.724     &     4.135  &         0.000        &        3.749    &       10.506     \\\\\n",
       "\\textbf{Total Time Spent on Website}              &       4.2685  &        0.248     &    17.235  &         0.000        &        3.783    &        4.754     \\\\\n",
       "\\textbf{Do Not Email:Yes}                         &      -0.7142  &        0.274     &    -2.606  &         0.009        &       -1.251    &       -0.177     \\\\\n",
       "\\textbf{Lead Profile:Student of SomeSchool}       &      -3.4959  &        0.653     &    -5.355  &         0.000        &       -4.775    &       -2.216     \\\\\n",
       "\\textbf{Last Notable Activity:Email Bounced}      &       2.1136  &        0.789     &     2.680  &         0.007        &        0.568    &        3.659     \\\\\n",
       "\\textbf{Last Notable Activity:Modified}           &      -0.3922  &        0.139     &    -2.832  &         0.005        &       -0.664    &       -0.121     \\\\\n",
       "\\textbf{Last Notable Activity:SMS Sent}           &       2.2672  &        0.137     &    16.547  &         0.000        &        1.999    &        2.536     \\\\\n",
       "\\textbf{Last Activity:Converted to Lead}          &      -1.3722  &        0.358     &    -3.833  &         0.000        &       -2.074    &       -0.671     \\\\\n",
       "\\textbf{Last Activity:Email Bounced}              &      -1.7856  &        0.623     &    -2.865  &         0.004        &       -3.007    &       -0.564     \\\\\n",
       "\\textbf{Last Activity:Olark Chat Conversation}    &      -1.4140  &        0.233     &    -6.065  &         0.000        &       -1.871    &       -0.957     \\\\\n",
       "\\textbf{Last Activity:Page Visited on Website}    &      -0.8874  &        0.244     &    -3.634  &         0.000        &       -1.366    &       -0.409     \\\\\n",
       "\\textbf{Specialization:Select}                    &       1.7557  &        0.132     &    13.319  &         0.000        &        1.497    &        2.014     \\\\\n",
       "\\textbf{Tags:Closed by Horizzon}                  &       7.4885  &        1.024     &     7.314  &         0.000        &        5.482    &        9.495     \\\\\n",
       "\\textbf{Tags:Interested  in full time MBA}        &      -2.0154  &        0.739     &    -2.727  &         0.006        &       -3.464    &       -0.567     \\\\\n",
       "\\textbf{Tags:Interested in other courses}         &      -2.5415  &        0.368     &    -6.910  &         0.000        &       -3.262    &       -1.821     \\\\\n",
       "\\textbf{Tags:Lost to EINS}                        &       6.8875  &        0.878     &     7.841  &         0.000        &        5.166    &        8.609     \\\\\n",
       "\\textbf{Tags:Not doing further education}         &      -3.0457  &        1.039     &    -2.931  &         0.003        &       -5.083    &       -1.009     \\\\\n",
       "\\textbf{Tags:Ringing}                             &      -3.8839  &        0.241     &   -16.104  &         0.000        &       -4.357    &       -3.411     \\\\\n",
       "\\textbf{Tags:Will revert after reading the email} &       4.7468  &        0.180     &    26.361  &         0.000        &        4.394    &        5.100     \\\\\n",
       "\\textbf{Tags:invalid number}                      &      -4.2048  &        1.096     &    -3.837  &         0.000        &       -6.353    &       -2.057     \\\\\n",
       "\\textbf{Tags:switched off}                        &      -4.0490  &        0.554     &    -7.309  &         0.000        &       -5.135    &       -2.963     \\\\\n",
       "\\textbf{IsIndia}                                  &      -0.8893  &        0.136     &    -6.550  &         0.000        &       -1.155    &       -0.623     \\\\\n",
       "\\bottomrule\n",
       "\\end{tabular}\n",
       "%\\caption{Generalized Linear Model Regression Results}\n",
       "\\end{center}"
      ],
      "text/plain": [
       "<class 'statsmodels.iolib.summary.Summary'>\n",
       "\"\"\"\n",
       "                 Generalized Linear Model Regression Results                  \n",
       "==============================================================================\n",
       "Dep. Variable:              Converted   No. Observations:                 6468\n",
       "Model:                            GLM   Df Residuals:                     6445\n",
       "Model Family:                Binomial   Df Model:                           22\n",
       "Link Function:                  Logit   Scale:                          1.0000\n",
       "Method:                          IRLS   Log-Likelihood:                -1273.2\n",
       "Date:                Mon, 17 Jul 2023   Deviance:                       2546.4\n",
       "Time:                        16:27:09   Pearson chi2:                 1.83e+04\n",
       "No. Iterations:                     8   Pseudo R-squ. (CS):             0.6077\n",
       "Covariance Type:            nonrobust                                         \n",
       "============================================================================================================\n",
       "                                               coef    std err          z      P>|z|      [0.025      0.975]\n",
       "------------------------------------------------------------------------------------------------------------\n",
       "const                                       -2.1017      0.130    -16.188      0.000      -2.356      -1.847\n",
       "TotalVisits                                  7.1276      1.724      4.135      0.000       3.749      10.506\n",
       "Total Time Spent on Website                  4.2685      0.248     17.235      0.000       3.783       4.754\n",
       "Do Not Email:Yes                            -0.7142      0.274     -2.606      0.009      -1.251      -0.177\n",
       "Lead Profile:Student of SomeSchool          -3.4959      0.653     -5.355      0.000      -4.775      -2.216\n",
       "Last Notable Activity:Email Bounced          2.1136      0.789      2.680      0.007       0.568       3.659\n",
       "Last Notable Activity:Modified              -0.3922      0.139     -2.832      0.005      -0.664      -0.121\n",
       "Last Notable Activity:SMS Sent               2.2672      0.137     16.547      0.000       1.999       2.536\n",
       "Last Activity:Converted to Lead             -1.3722      0.358     -3.833      0.000      -2.074      -0.671\n",
       "Last Activity:Email Bounced                 -1.7856      0.623     -2.865      0.004      -3.007      -0.564\n",
       "Last Activity:Olark Chat Conversation       -1.4140      0.233     -6.065      0.000      -1.871      -0.957\n",
       "Last Activity:Page Visited on Website       -0.8874      0.244     -3.634      0.000      -1.366      -0.409\n",
       "Specialization:Select                        1.7557      0.132     13.319      0.000       1.497       2.014\n",
       "Tags:Closed by Horizzon                      7.4885      1.024      7.314      0.000       5.482       9.495\n",
       "Tags:Interested  in full time MBA           -2.0154      0.739     -2.727      0.006      -3.464      -0.567\n",
       "Tags:Interested in other courses            -2.5415      0.368     -6.910      0.000      -3.262      -1.821\n",
       "Tags:Lost to EINS                            6.8875      0.878      7.841      0.000       5.166       8.609\n",
       "Tags:Not doing further education            -3.0457      1.039     -2.931      0.003      -5.083      -1.009\n",
       "Tags:Ringing                                -3.8839      0.241    -16.104      0.000      -4.357      -3.411\n",
       "Tags:Will revert after reading the email     4.7468      0.180     26.361      0.000       4.394       5.100\n",
       "Tags:invalid number                         -4.2048      1.096     -3.837      0.000      -6.353      -2.057\n",
       "Tags:switched off                           -4.0490      0.554     -7.309      0.000      -5.135      -2.963\n",
       "IsIndia                                     -0.8893      0.136     -6.550      0.000      -1.155      -0.623\n",
       "============================================================================================================\n",
       "\"\"\""
      ]
     },
     "execution_count": 500,
     "metadata": {},
     "output_type": "execute_result"
    }
   ],
   "source": [
    "total_rejected_cols = list(rejected_cols) + ['What is your current occupation:Unemployed', 'Lead Origin:Lead Add Form', 'Lead Profile:Select', 'Last Activity:SMS Sent']\n",
    "total_rejected_cols = total_rejected_cols + ['Tags:Diploma holder (Not Eligible)','Lead Origin:Landing Page Submission', 'Tags:Lateral student', 'Last Notable Activity:Olark Chat Conversation', 'What is your current occupation:Housewife', 'What is your current occupation:Working Professional']\n",
    "total_rejected_cols = total_rejected_cols + ['Tags:Lost to Others', 'Tags:Shall take in the next coming month', 'Tags:In confusion whether part time or DLP', 'Specialization:Rural and Agribusiness', 'Tags:wrong number given', 'Tags:number not provided']\n",
    "total_rejected_cols = total_rejected_cols + ['Specialization:International Business', 'Specialization:Hospitality Management', 'Last Activity:View in browser link Clicked']\n",
    "total_rejected_cols = total_rejected_cols + ['How did you hear about X Education:Multiple Sources', 'Search:Yes', 'Last Notable Activity:Unsubscribed', 'Last Notable Activity:Had a Phone Conversation']\n",
    "total_rejected_cols = total_rejected_cols + ['Specialization:IT Projects Management', 'Tags:opp hangup', 'Specialization:Supply Chain Management', 'Tags:Graduation in progress', 'Specialization:Travel and Tourism' ]\n",
    "total_rejected_cols = total_rejected_cols + ['How did you hear about X Education:Select', 'Lead Profile:Lateral Student', 'Lead Profile:Other Leads', 'Lead Profile:Potential Lead', 'Last Notable Activity:Email Link Clicked']\n",
    "X_train_sm = sm.add_constant(X_train.drop(total_rejected_cols, axis=1))\n",
    "gr = sm.GLM(y_train, X_train_sm, family = sm.families.Binomial())\n",
    "logm = gr.fit()\n",
    "logm.summary()"
   ]
  },
  {
   "cell_type": "code",
   "execution_count": 501,
   "id": "696afd2b-7097-4596-a170-8dde9e4f2de2",
   "metadata": {},
   "outputs": [
    {
     "data": {
      "text/html": [
       "<div>\n",
       "<style scoped>\n",
       "    .dataframe tbody tr th:only-of-type {\n",
       "        vertical-align: middle;\n",
       "    }\n",
       "\n",
       "    .dataframe tbody tr th {\n",
       "        vertical-align: top;\n",
       "    }\n",
       "\n",
       "    .dataframe thead th {\n",
       "        text-align: right;\n",
       "    }\n",
       "</style>\n",
       "<table border=\"1\" class=\"dataframe\">\n",
       "  <thead>\n",
       "    <tr style=\"text-align: right;\">\n",
       "      <th></th>\n",
       "      <th>Features</th>\n",
       "      <th>VIF</th>\n",
       "    </tr>\n",
       "  </thead>\n",
       "  <tbody>\n",
       "    <tr>\n",
       "      <th>21</th>\n",
       "      <td>IsIndia</td>\n",
       "      <td>3.73</td>\n",
       "    </tr>\n",
       "    <tr>\n",
       "      <th>1</th>\n",
       "      <td>Total Time Spent on Website</td>\n",
       "      <td>2.45</td>\n",
       "    </tr>\n",
       "    <tr>\n",
       "      <th>5</th>\n",
       "      <td>Last Notable Activity:Modified</td>\n",
       "      <td>2.37</td>\n",
       "    </tr>\n",
       "    <tr>\n",
       "      <th>8</th>\n",
       "      <td>Last Activity:Email Bounced</td>\n",
       "      <td>2.10</td>\n",
       "    </tr>\n",
       "    <tr>\n",
       "      <th>2</th>\n",
       "      <td>Do Not Email:Yes</td>\n",
       "      <td>1.90</td>\n",
       "    </tr>\n",
       "    <tr>\n",
       "      <th>0</th>\n",
       "      <td>TotalVisits</td>\n",
       "      <td>1.72</td>\n",
       "    </tr>\n",
       "    <tr>\n",
       "      <th>6</th>\n",
       "      <td>Last Notable Activity:SMS Sent</td>\n",
       "      <td>1.64</td>\n",
       "    </tr>\n",
       "    <tr>\n",
       "      <th>18</th>\n",
       "      <td>Tags:Will revert after reading the email</td>\n",
       "      <td>1.61</td>\n",
       "    </tr>\n",
       "    <tr>\n",
       "      <th>9</th>\n",
       "      <td>Last Activity:Olark Chat Conversation</td>\n",
       "      <td>1.39</td>\n",
       "    </tr>\n",
       "    <tr>\n",
       "      <th>17</th>\n",
       "      <td>Tags:Ringing</td>\n",
       "      <td>1.33</td>\n",
       "    </tr>\n",
       "    <tr>\n",
       "      <th>11</th>\n",
       "      <td>Specialization:Select</td>\n",
       "      <td>1.30</td>\n",
       "    </tr>\n",
       "    <tr>\n",
       "      <th>7</th>\n",
       "      <td>Last Activity:Converted to Lead</td>\n",
       "      <td>1.27</td>\n",
       "    </tr>\n",
       "    <tr>\n",
       "      <th>4</th>\n",
       "      <td>Last Notable Activity:Email Bounced</td>\n",
       "      <td>1.26</td>\n",
       "    </tr>\n",
       "    <tr>\n",
       "      <th>10</th>\n",
       "      <td>Last Activity:Page Visited on Website</td>\n",
       "      <td>1.24</td>\n",
       "    </tr>\n",
       "    <tr>\n",
       "      <th>14</th>\n",
       "      <td>Tags:Interested in other courses</td>\n",
       "      <td>1.20</td>\n",
       "    </tr>\n",
       "    <tr>\n",
       "      <th>12</th>\n",
       "      <td>Tags:Closed by Horizzon</td>\n",
       "      <td>1.13</td>\n",
       "    </tr>\n",
       "    <tr>\n",
       "      <th>16</th>\n",
       "      <td>Tags:Not doing further education</td>\n",
       "      <td>1.08</td>\n",
       "    </tr>\n",
       "    <tr>\n",
       "      <th>20</th>\n",
       "      <td>Tags:switched off</td>\n",
       "      <td>1.08</td>\n",
       "    </tr>\n",
       "    <tr>\n",
       "      <th>3</th>\n",
       "      <td>Lead Profile:Student of SomeSchool</td>\n",
       "      <td>1.07</td>\n",
       "    </tr>\n",
       "    <tr>\n",
       "      <th>15</th>\n",
       "      <td>Tags:Lost to EINS</td>\n",
       "      <td>1.05</td>\n",
       "    </tr>\n",
       "    <tr>\n",
       "      <th>13</th>\n",
       "      <td>Tags:Interested  in full time MBA</td>\n",
       "      <td>1.04</td>\n",
       "    </tr>\n",
       "    <tr>\n",
       "      <th>19</th>\n",
       "      <td>Tags:invalid number</td>\n",
       "      <td>1.03</td>\n",
       "    </tr>\n",
       "  </tbody>\n",
       "</table>\n",
       "</div>"
      ],
      "text/plain": [
       "                                    Features   VIF\n",
       "21                                   IsIndia  3.73\n",
       "1                Total Time Spent on Website  2.45\n",
       "5             Last Notable Activity:Modified  2.37\n",
       "8                Last Activity:Email Bounced  2.10\n",
       "2                           Do Not Email:Yes  1.90\n",
       "0                                TotalVisits  1.72\n",
       "6             Last Notable Activity:SMS Sent  1.64\n",
       "18  Tags:Will revert after reading the email  1.61\n",
       "9      Last Activity:Olark Chat Conversation  1.39\n",
       "17                              Tags:Ringing  1.33\n",
       "11                     Specialization:Select  1.30\n",
       "7            Last Activity:Converted to Lead  1.27\n",
       "4        Last Notable Activity:Email Bounced  1.26\n",
       "10     Last Activity:Page Visited on Website  1.24\n",
       "14          Tags:Interested in other courses  1.20\n",
       "12                   Tags:Closed by Horizzon  1.13\n",
       "16          Tags:Not doing further education  1.08\n",
       "20                         Tags:switched off  1.08\n",
       "3         Lead Profile:Student of SomeSchool  1.07\n",
       "15                         Tags:Lost to EINS  1.05\n",
       "13         Tags:Interested  in full time MBA  1.04\n",
       "19                       Tags:invalid number  1.03"
      ]
     },
     "execution_count": 501,
     "metadata": {},
     "output_type": "execute_result"
    }
   ],
   "source": [
    "# Create a dataframe that will contain the names of all the feature variables and their respective VIFs\n",
    "vif = pd.DataFrame()\n",
    "X = X_train.drop(total_rejected_cols, axis=1)\n",
    "vif['Features'] = X.columns\n",
    "vif['VIF'] = [variance_inflation_factor(X.values, i) for i in range(X.shape[1])]\n",
    "vif['VIF'] = round(vif['VIF'], 2)\n",
    "vif = vif.sort_values(by = \"VIF\", ascending = False)\n",
    "vif"
   ]
  },
  {
   "cell_type": "markdown",
   "id": "df3ead59-de27-4c53-aac1-52f476e05ac2",
   "metadata": {},
   "source": [
    "- From the above two sections we see that the p-value is less than 0.005 which indicates the features are significant.\n",
    "- And we can notice that all VIFs are less than 5 "
   ]
  },
  {
   "cell_type": "markdown",
   "id": "39ae1210-606b-41e0-97fa-61247cc557c9",
   "metadata": {},
   "source": [
    "## 7. Model Evaluation"
   ]
  },
  {
   "cell_type": "code",
   "execution_count": 502,
   "id": "b7fc3da9-4922-44ae-9e81-ffd2630ef900",
   "metadata": {},
   "outputs": [
    {
     "name": "stdout",
     "output_type": "stream",
     "text": [
      "0.9271799628942486\n"
     ]
    }
   ],
   "source": [
    "X_train_sm = sm.add_constant(X_train.drop(total_rejected_cols, axis=1))\n",
    "y_train_prob = logm.predict(X_train_sm)\n",
    "y_train_pred = y_train_prob.map(lambda x: 1 if x > 0.5 else 0)\n",
    "print(accuracy_score(y_train_pred, y_train))"
   ]
  },
  {
   "cell_type": "code",
   "execution_count": 503,
   "id": "83240cc1-3629-4d8a-b75c-1e2c814667c8",
   "metadata": {},
   "outputs": [
    {
     "name": "stdout",
     "output_type": "stream",
     "text": [
      "0.9213564213564214\n"
     ]
    }
   ],
   "source": [
    "X_test_sm = sm.add_constant(X_test.drop(total_rejected_cols, axis=1))\n",
    "y_test_prob = logm.predict(X_test_sm)\n",
    "y_test_pred = y_test_prob.map(lambda x: 1 if x > 0.3 else 0)\n",
    "print(accuracy_score(y_test_pred, y_test))"
   ]
  },
  {
   "cell_type": "code",
   "execution_count": 504,
   "id": "4eeaf833-94cd-480e-b131-f16ae1d6d082",
   "metadata": {},
   "outputs": [
    {
     "data": {
      "text/plain": [
       "1871    False\n",
       "6795    False\n",
       "3516    False\n",
       "8105    False\n",
       "3934    False\n",
       "        ...  \n",
       "350      True\n",
       "79       True\n",
       "8039    False\n",
       "6936    False\n",
       "5640    False\n",
       "Length: 6468, dtype: bool"
      ]
     },
     "execution_count": 504,
     "metadata": {},
     "output_type": "execute_result"
    }
   ],
   "source": [
    "y_train_pred.map(lambda x: x==1)"
   ]
  },
  {
   "cell_type": "code",
   "execution_count": 505,
   "id": "611b81e7-59af-4200-8532-4c33ba9aa776",
   "metadata": {},
   "outputs": [
    {
     "data": {
      "text/plain": [
       "Converted\n",
       "False    3856\n",
       "True      325\n",
       "Name: count, dtype: int64"
      ]
     },
     "execution_count": 505,
     "metadata": {},
     "output_type": "execute_result"
    }
   ],
   "source": [
    "(y_train.map(lambda x: x==1)[~y_train_pred.map(lambda x: x==1)] == True).value_counts()"
   ]
  },
  {
   "cell_type": "markdown",
   "id": "3742f796-a7b2-4065-9028-e1d723fc6781",
   "metadata": {},
   "source": [
    "## 8. Metrics apart from accuracy"
   ]
  },
  {
   "cell_type": "markdown",
   "id": "be31944e-85e1-48c0-9c74-0ccc38265f5c",
   "metadata": {},
   "source": [
    "### Confusion Metric"
   ]
  },
  {
   "cell_type": "code",
   "execution_count": 506,
   "id": "7616962b-2687-415c-9b56-45cbd9f77fab",
   "metadata": {},
   "outputs": [
    {
     "name": "stdout",
     "output_type": "stream",
     "text": [
      "[[3856  146]\n",
      " [ 325 2141]]\n",
      "2141 3856 146 325\n"
     ]
    }
   ],
   "source": [
    "from sklearn.metrics import confusion_matrix\n",
    "from sklearn.metrics import roc_curve, roc_auc_score\n",
    "cm = confusion_matrix(y_train, y_train_pred)\n",
    "print(cm)\n",
    "TP = cm[1,1]\n",
    "TN = cm[0,0]\n",
    "FP = cm[0, 1]\n",
    "FN = cm[1, 0]\n",
    "total = TP + TN + FP + FN\n",
    "print(TP, TN, FP, FN)"
   ]
  },
  {
   "cell_type": "code",
   "execution_count": 507,
   "id": "34b5780d-f200-4536-a958-fe19a7af8537",
   "metadata": {},
   "outputs": [
    {
     "name": "stdout",
     "output_type": "stream",
     "text": [
      "0.33101422387136675 0.8682076236820763 0.9635182408795602\n"
     ]
    }
   ],
   "source": [
    "accuracy = TP / total\n",
    "sensitivity = TP / (TP + FN)\n",
    "spcificity = TN / (TN + FP)\n",
    "print(accuracy, sensitivity, spcificity)"
   ]
  },
  {
   "cell_type": "code",
   "execution_count": 508,
   "id": "e655228b-58b4-40e8-b8a1-141f86c998a7",
   "metadata": {},
   "outputs": [
    {
     "name": "stdout",
     "output_type": "stream",
     "text": [
      "(4970,) (4970,) (4970,) 0.9723841951692442\n"
     ]
    },
    {
     "data": {
      "image/png": "[encoded data removed]",
      "text/plain": [
       "<Figure size 500x500 with 1 Axes>"
      ]
     },
     "metadata": {},
     "output_type": "display_data"
    }
   ],
   "source": [
    "def draw_roc(y_train, y_train_prob):\n",
    "    fpr, tpr, threshods = roc_curve(y_train, y_train_prob, drop_intermediate = False)\n",
    "    auc = roc_auc_score(y_train, y_train_prob)\n",
    "    plt.figure(figsize=(5, 5))\n",
    "    print(threshods.shape, fpr.shape, tpr.shape, auc)\n",
    "    plt.plot(fpr, tpr, label='ROC curve (area = %0.2f)' % auc)\n",
    "    plt.plot([0,1], [0,1], 'k--')\n",
    "    plt.xlim([0.0, 1.0])\n",
    "    plt.ylim([0.0, 1.05])\n",
    "    plt.xlabel('False Positive Rate or [1 - True Negative Rate]')\n",
    "    plt.ylabel('True Positive Rate')\n",
    "    plt.title('Receiver operating characteristic example')\n",
    "    plt.legend(loc=\"lower right\")\n",
    "    plt.show()\n",
    "draw_roc(y_train, y_train_prob)"
   ]
  },
  {
   "cell_type": "markdown",
   "id": "7ab7aa43-efef-487f-9811-1edfa61a39be",
   "metadata": {},
   "source": [
    "## 9. Finding optimal cutoff point"
   ]
  },
  {
   "cell_type": "code",
   "execution_count": 509,
   "id": "d35f8f26-3d2e-4dbc-8c49-57469b1bac2b",
   "metadata": {},
   "outputs": [
    {
     "name": "stdout",
     "output_type": "stream",
     "text": [
      "      prob  accuracy     sensi     speci\n",
      "0.00  0.00  0.381262  1.000000  0.000000\n",
      "0.05  0.05  0.738868  0.982563  0.588706\n",
      "0.10  0.10  0.840754  0.968775  0.761869\n",
      "0.15  0.15  0.899351  0.955393  0.864818\n",
      "0.20  0.20  0.907699  0.950527  0.881309\n",
      "0.25  0.25  0.912183  0.940795  0.894553\n",
      "0.30  0.30  0.917285  0.932685  0.907796\n",
      "0.35  0.35  0.920686  0.918897  0.921789\n",
      "0.40  0.40  0.925634  0.907543  0.936782\n",
      "0.45  0.45  0.926098  0.877129  0.956272\n",
      "0.50  0.50  0.927180  0.868208  0.963518\n",
      "0.55  0.55  0.923933  0.849148  0.970015\n",
      "0.60  0.60  0.922078  0.840633  0.972264\n",
      "0.65  0.65  0.920532  0.833333  0.974263\n",
      "0.70  0.70  0.917130  0.820357  0.976762\n",
      "0.75  0.75  0.915739  0.813058  0.979010\n",
      "0.80  0.80  0.911101  0.797242  0.981259\n",
      "0.85  0.85  0.904298  0.770884  0.986507\n",
      "0.90  0.90  0.880334  0.701541  0.990505\n",
      "0.95  0.95  0.847866  0.610706  0.994003\n"
     ]
    }
   ],
   "source": [
    "numbers = [float(x)/20 for x in range(20)]\n",
    "cutoff_df = pd.DataFrame( columns = ['prob','accuracy','sensi','speci'])\n",
    "for x in numbers:\n",
    "    cm = confusion_matrix(y_train, y_train_prob.apply(lambda y: 1 if y > x else 0 ))\n",
    "    #print(cm)\n",
    "    TP = cm[1,1]\n",
    "    TN = cm[0,0]\n",
    "    FP = cm[0, 1]\n",
    "    FN = cm[1, 0]\n",
    "    total = FP + FN + TP + TN\n",
    "    accuracy = (TP + TN)/ (total)\n",
    "    sensi = TP / (TP+FN)\n",
    "    speci = TN / (TN+FP)\n",
    "    #print(accuracy, sensi, speci)\n",
    "    cutoff_df.loc[x] = [x, accuracy, sensi, speci]\n",
    "print(cutoff_df)"
   ]
  },
  {
   "cell_type": "code",
   "execution_count": 510,
   "id": "74bb7c43-a552-429d-8ad9-06e4d498aa0b",
   "metadata": {},
   "outputs": [
    {
     "data": {
      "text/plain": [
       "[<matplotlib.lines.Line2D at 0xffff53b1d190>]"
      ]
     },
     "execution_count": 510,
     "metadata": {},
     "output_type": "execute_result"
    },
    {
     "data": {
      "image/png": "[encoded data removed]",
      "text/plain": [
       "<Figure size 640x480 with 1 Axes>"
      ]
     },
     "metadata": {},
     "output_type": "display_data"
    }
   ],
   "source": [
    "plt.plot(cutoff_df['prob'], cutoff_df['accuracy'])\n",
    "plt.plot(cutoff_df['prob'], cutoff_df['sensi'])\n",
    "plt.plot(cutoff_df['prob'], cutoff_df['speci'])"
   ]
  },
  {
   "cell_type": "code",
   "execution_count": 511,
   "id": "88a25690-d6cf-4300-8751-ba6c4a99a885",
   "metadata": {},
   "outputs": [
    {
     "name": "stdout",
     "output_type": "stream",
     "text": [
      "     prob  accuracy     sensi     speci\n",
      "0.3   0.3  0.917285  0.932685  0.907796\n"
     ]
    }
   ],
   "source": [
    "# we see the convergence at 0.3\n",
    "print(cutoff_df[cutoff_df.prob==0.3])"
   ]
  },
  {
   "cell_type": "markdown",
   "id": "11edca91-a239-4895-8cda-048bb66e7a4d",
   "metadata": {},
   "source": [
    "## Precision and recall"
   ]
  },
  {
   "cell_type": "code",
   "execution_count": 512,
   "id": "a1476439-b18a-4c21-a74b-77edf61c9523",
   "metadata": {},
   "outputs": [
    {
     "name": "stdout",
     "output_type": "stream",
     "text": [
      "0.86174597227426 0.9326845093268451\n"
     ]
    }
   ],
   "source": [
    "# precision = TP/(TP + FP)\n",
    "# Recall = TP / (TP + FN)\n",
    "cm = confusion_matrix(y_train, y_train_prob.apply(lambda y: 1 if y > 0.3 else 0 ))\n",
    "TP = cm[1,1]\n",
    "TN = cm[0,0]\n",
    "FP = cm[0, 1]\n",
    "FN = cm[1, 0]\n",
    "precision = TP / (TP + FP)\n",
    "recall = TP / (TP + FN)\n",
    "print(precision, recall)"
   ]
  },
  {
   "cell_type": "code",
   "execution_count": 514,
   "id": "610b9d23-45de-47fa-b02a-d47ced6e2883",
   "metadata": {},
   "outputs": [
    {
     "name": "stdout",
     "output_type": "stream",
     "text": [
      "      prob  precision    recall\n",
      "0.00  0.00   0.381262  1.000000\n",
      "0.05  0.05   0.595478  0.982563\n",
      "0.10  0.10   0.714841  0.968775\n",
      "0.15  0.15   0.813255  0.955393\n",
      "0.20  0.20   0.831501  0.950527\n",
      "0.25  0.25   0.846098  0.940795\n",
      "0.30  0.30   0.861746  0.932685\n",
      "0.35  0.35   0.878635  0.918897\n",
      "0.40  0.40   0.898434  0.907543\n",
      "0.45  0.45   0.925150  0.877129\n",
      "0.50  0.50   0.936161  0.868208\n",
      "0.55  0.55   0.945799  0.849148\n",
      "0.60  0.60   0.949176  0.840633\n",
      "0.65  0.65   0.952271  0.833333\n",
      "0.70  0.70   0.956049  0.820357\n",
      "0.75  0.75   0.959789  0.813058\n",
      "0.80  0.80   0.963253  0.797242\n",
      "0.85  0.85   0.972379  0.770884\n",
      "0.90  0.90   0.978507  0.701541\n",
      "0.95  0.95   0.984314  0.610706\n"
     ]
    }
   ],
   "source": [
    "numbers = [float(x)/20 for x in range(20)]\n",
    "pre_rec_df = pd.DataFrame( columns = ['prob','precision','recall'])\n",
    "for x in numbers:\n",
    "    cm = confusion_matrix(y_train, y_train_prob.apply(lambda y: 1 if y > x else 0 ))\n",
    "    #print(cm)\n",
    "    TP = cm[1,1]\n",
    "    TN = cm[0,0]\n",
    "    FP = cm[0, 1]\n",
    "    FN = cm[1, 0]\n",
    "    precision = TP / (TP + FP)\n",
    "    recall = TP / (TP + FN)\n",
    "    pre_rec_df.loc[x] = [x, precision, recall]\n",
    "print(pre_rec_df)"
   ]
  },
  {
   "cell_type": "code",
   "execution_count": 515,
   "id": "4bccce32-8bfe-450a-ad5a-1042e2222c86",
   "metadata": {},
   "outputs": [
    {
     "data": {
      "text/plain": [
       "[<matplotlib.lines.Line2D at 0xffff579594d0>]"
      ]
     },
     "execution_count": 515,
     "metadata": {},
     "output_type": "execute_result"
    },
    {
     "data": {
      "image/png": "[encoded data removed]",
      "text/plain": [
       "<Figure size 640x480 with 1 Axes>"
      ]
     },
     "metadata": {},
     "output_type": "display_data"
    }
   ],
   "source": [
    "plt.plot(pre_rec_df['prob'], pre_rec_df['precision'])\n",
    "plt.plot(pre_rec_df['prob'], pre_rec_df['recall'])\n",
    "#plt.plot([0.425,1],[0.6,1])\n",
    "#so the optimal value is 0.425"
   ]
  },
  {
   "cell_type": "markdown",
   "id": "547d0be5-432e-4233-8e6d-99c57f728791",
   "metadata": {},
   "source": [
    "## 10. Model conclusion"
   ]
  },
  {
   "cell_type": "code",
   "execution_count": 513,
   "id": "a7f75152-03ee-418c-a49b-d012422bf2aa",
   "metadata": {},
   "outputs": [
    {
     "name": "stdout",
     "output_type": "stream",
     "text": [
      "accuracy sensitivity specificity\n",
      "0.9172850958565244 0.9326845093268451 0.9077961019490255\n",
      "precision recall\n",
      "0.86174597227426 0.9326845093268451\n"
     ]
    }
   ],
   "source": [
    "# prob = 0.3\n",
    "cm = confusion_matrix(y_train, y_train_prob.apply(lambda x : 1 if x > 0.3 else 0))\n",
    "TP = cm[1,1]\n",
    "TN = cm[0,0]\n",
    "FP = cm[0, 1]\n",
    "FN = cm[1, 0]\n",
    "total = FP + FN + TP + TN\n",
    "accuracy = (TP + TN)/ (total)\n",
    "sensi = TP / (TP+FN)\n",
    "speci = TN / (TN+FP)\n",
    "precision = TP / (TP + FP)\n",
    "recall = TP / (TP + FN)\n",
    "print(\"accuracy\", \"sensitivity\", \"specificity\")\n",
    "print(accuracy, sensi, speci)\n",
    "print(\"precision\", \"recall\")\n",
    "print(precision, recall)"
   ]
  },
  {
   "cell_type": "code",
   "execution_count": 521,
   "id": "e192773c-d5ee-4c78-a45a-553aacd1db88",
   "metadata": {},
   "outputs": [
    {
     "data": {
      "text/plain": [
       "0    1571\n",
       "1    1201\n",
       "Name: count, dtype: int64"
      ]
     },
     "execution_count": 521,
     "metadata": {},
     "output_type": "execute_result"
    }
   ],
   "source": [
    "# prob = 0.3\n",
    "y_test_prob.apply(lambda x : 1 if x > 0.3 else 0).value_counts()\n",
    "# we have 1201 potential leads"
   ]
  },
  {
   "cell_type": "code",
   "execution_count": 517,
   "id": "e48f3503-06b7-4f3a-9df9-9aace65778f5",
   "metadata": {},
   "outputs": [
    {
     "name": "stdout",
     "output_type": "stream",
     "text": [
      "accuracy sensitivity specificity\n",
      "0.9243970315398887 0.8807785888077859 0.9512743628185907\n",
      "precision recall\n",
      "0.917617237008872 0.8807785888077859\n"
     ]
    }
   ],
   "source": [
    "# prob = 0.425\n",
    "cm = confusion_matrix(y_train, y_train_prob.apply(lambda x : 1 if x > 0.425 else 0))\n",
    "TP = cm[1,1]\n",
    "TN = cm[0,0]\n",
    "FP = cm[0, 1]\n",
    "FN = cm[1, 0]\n",
    "total = FP + FN + TP + TN\n",
    "accuracy = (TP + TN)/ (total)\n",
    "sensi = TP / (TP+FN)\n",
    "speci = TN / (TN+FP)\n",
    "precision = TP / (TP + FP)\n",
    "recall = TP / (TP + FN)\n",
    "print(\"accuracy\", \"sensitivity\", \"specificity\")\n",
    "print(accuracy, sensi, speci)\n",
    "print(\"precision\", \"recall\")\n",
    "print(precision, recall)"
   ]
  },
  {
   "cell_type": "code",
   "execution_count": 523,
   "id": "dfd2b88f-5e59-48c6-9d7b-8bd3e62e611f",
   "metadata": {},
   "outputs": [
    {
     "data": {
      "text/plain": [
       "0    1706\n",
       "1    1066\n",
       "Name: count, dtype: int64"
      ]
     },
     "execution_count": 523,
     "metadata": {},
     "output_type": "execute_result"
    }
   ],
   "source": [
    "# prob = 0.425\n",
    "y_test_prob.apply(lambda x : 1 if x > 0.425 else 0).value_counts()\n",
    "# we have 1066 potential leads"
   ]
  },
  {
   "cell_type": "markdown",
   "id": "0ad10060-4e47-4982-a3ab-0103153863d5",
   "metadata": {},
   "source": [
    "- we choose prob = 0.3 because"
   ]
  }
 ],
 "metadata": {
  "kernelspec": {
   "display_name": "Python 3 (ipykernel)",
   "language": "python",
   "name": "python3"
  },
  "language_info": {
   "codemirror_mode": {
    "name": "ipython",
    "version": 3
   },
   "file_extension": ".py",
   "mimetype": "text/x-python",
   "name": "python",
   "nbconvert_exporter": "python",
   "pygments_lexer": "ipython3",
   "version": "3.11.4"
  }
 },
 "nbformat": 4,
 "nbformat_minor": 5
}
