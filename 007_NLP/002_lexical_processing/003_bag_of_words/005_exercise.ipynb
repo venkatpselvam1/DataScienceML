{
 "cells": [
  {
   "cell_type": "code",
   "execution_count": 1,
   "id": "873817dd-6cf6-44f3-ab70-9d665a6caa74",
   "metadata": {},
   "outputs": [],
   "source": [
    "import pandas as pd\n",
    "from nltk.tokenize import word_tokenize\n",
    "from nltk.corpus import stopwords\n",
    "from nltk.stem.porter import PorterStemmer\n",
    "from sklearn.feature_extraction.text import TfidfVectorizer\n",
    "\n",
    "# consider the following set of documents\n",
    "documents = [\"The coach lumbered on again, with heavier wreaths of mist closing round it as it began the descent.\",\n",
    "             \"The guard soon replaced his blunderbuss in his arm-chest, and, having looked to the rest of its contents, and having looked to the supplementary pistols that he wore in his belt, looked to a smaller chest beneath his seat, in which there were a few smith's tools, a couple of torches, and a tinder-box.\",\n",
    "            \"For he was furnished with that completeness that if the coach-lamps had been blown and stormed out, which did occasionally happen, he had only to shut himself up inside, keep the flint and steel sparks well off the straw, and get a light with tolerable safety and ease (if he were lucky) in five minutes.\",\n",
    "            \"Jerry, left alone in the mist and darkness, dismounted meanwhile, not only to ease his spent horse, but to wipe the mud from his face, and shake the wet out of his hat-brim, which might be capable of holding about half a gallon.\",\n",
    "            \"After standing with the bridle over his heavily-splashed arm, until the wheels of the mail were no longer within hearing and the night was quite still again, he turned to walk down the hill.\"]\n",
    "\n",
    "\n",
    "# preprocess document\n",
    "def preprocess(document):\n",
    "    'changes document to lower case, removes stopwords and stems words'\n",
    "\n",
    "    # change sentence to lower case\n",
    "    document = document.lower()\n",
    "\n",
    "    # tokenize into words\n",
    "    words = word_tokenize(document)\n",
    "\n",
    "    # remove stop words\n",
    "    words = [word for word in words if word not in stopwords.words(\"english\")]\n",
    "    \n",
    "    # stem\n",
    "    stemmer = PorterStemmer()\n",
    "    words = [stemmer.stem(word) for word in words]\n",
    "    \n",
    "    # join words to make sentence\n",
    "    document = \" \".join(words)\n",
    "    \n",
    "    return document\n",
    "\n",
    "# preprocess documents using the preprocess function and store the documents again in a list\n",
    "documents = [preprocess(document) for document in documents]# write code here\n"
   ]
  },
  {
   "cell_type": "code",
   "execution_count": 2,
   "id": "51982344-19c5-4e44-a88b-a17be77f6bbb",
   "metadata": {},
   "outputs": [],
   "source": [
    "\n",
    "# create tf-idf matrix\n",
    "vectorizer = TfidfVectorizer()\n",
    "tfidf_model = vectorizer.fit_transform(documents)\n",
    "## write code here ##\n"
   ]
  },
  {
   "cell_type": "code",
   "execution_count": 4,
   "id": "7093c71c-ba21-44e0-8e95-a6c3bd08da31",
   "metadata": {},
   "outputs": [],
   "source": [
    "df = pd.DataFrame(tfidf_model.toarray(), columns = vectorizer.get_feature_names_out())"
   ]
  },
  {
   "cell_type": "code",
   "execution_count": 8,
   "id": "4aa8d53f-e401-45b2-9cec-1acc5fbf8d04",
   "metadata": {},
   "outputs": [
    {
     "data": {
      "text/plain": [
       "0    0.000000\n",
       "1    0.175006\n",
       "2    0.000000\n",
       "3    0.000000\n",
       "4    0.000000\n",
       "Name: belt, dtype: float64"
      ]
     },
     "execution_count": 8,
     "metadata": {},
     "output_type": "execute_result"
    }
   ],
   "source": [
    "df['belt']"
   ]
  },
  {
   "cell_type": "code",
   "execution_count": null,
   "id": "0cb61c0b-b1be-42c1-9436-a28f57a16cb6",
   "metadata": {},
   "outputs": [],
   "source": [
    "\n",
    "# extract score\n",
    "score = -1  # replace -1 with the score of 'belt' in document two. You can manually write the value by looking at the tf_idf model\n",
    "\n",
    "# print the score -- don't change the following piece od code, it's used to evaluate your code\n",
    "print(round(score, 4))"
   ]
  }
 ],
 "metadata": {
  "kernelspec": {
   "display_name": "Python 3 (ipykernel)",
   "language": "python",
   "name": "python3"
  },
  "language_info": {
   "codemirror_mode": {
    "name": "ipython",
    "version": 3
   },
   "file_extension": ".py",
   "mimetype": "text/x-python",
   "name": "python",
   "nbconvert_exporter": "python",
   "pygments_lexer": "ipython3",
   "version": "3.11.4"
  }
 },
 "nbformat": 4,
 "nbformat_minor": 5
}
